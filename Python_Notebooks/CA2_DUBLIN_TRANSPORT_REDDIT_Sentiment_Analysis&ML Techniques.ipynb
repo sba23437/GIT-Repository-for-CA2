{
 "cells": [
  {
   "cell_type": "markdown",
   "id": "0dc90ef9",
   "metadata": {},
   "source": [
    "# libraries"
   ]
  },
  {
   "cell_type": "code",
   "execution_count": 221,
   "id": "0c25bdda",
   "metadata": {},
   "outputs": [
    {
     "name": "stderr",
     "output_type": "stream",
     "text": [
      "[nltk_data] Downloading package vader_lexicon to\n",
      "[nltk_data]     C:\\Users\\Admin\\AppData\\Roaming\\nltk_data...\n",
      "[nltk_data]   Package vader_lexicon is already up-to-date!\n"
     ]
    }
   ],
   "source": [
    "#Installs \n",
    "#!pip install vaderSentiment\n",
    "#!pip install nltk\n",
    "#!pip install wordcloud\n",
    "\n",
    "# Load the libraries\n",
    "import requests\n",
    "import json\n",
    "import pandas as pd\n",
    "import numpy as np\n",
    "import seaborn as sns\n",
    "import warnings\n",
    "warnings.filterwarnings('ignore') # We can suppress the warnings\n",
    "\n",
    "#Loading the wordcloud libraries\n",
    "from wordcloud import WordCloud, STOPWORDS\n",
    "import matplotlib.pyplot as plt\n",
    "\n",
    "# Importing the Sentiment Analyses Libraries\n",
    "from vaderSentiment.vaderSentiment import SentimentIntensityAnalyzer\n",
    "import nltk\n",
    "# Download the lexicon\n",
    "nltk.download(\"vader_lexicon\")\n",
    "# Import the lexicon \n",
    "from nltk.sentiment.vader import SentimentIntensityAnalyzer\n",
    "\n",
    "# Importing SKLearn\n",
    "from sklearn.feature_extraction.text import CountVectorizer\n",
    "from nltk.tokenize import RegexpTokenizer\n",
    "from sklearn.model_selection import train_test_split\n",
    "from sklearn.naive_bayes import MultinomialNB\n",
    "from sklearn import metrics\n",
    "from sklearn.metrics import ConfusionMatrixDisplay as cmd\n",
    "from sklearn.metrics import classification_report\n",
    "from sklearn.linear_model import LogisticRegression\n",
    "# To Scale our data\n",
    "from sklearn.preprocessing import scale\n",
    "# To perform KMeans clustering \n",
    "from sklearn.cluster import KMeans\n",
    "\n",
    "\n",
    "# Import the necessary modules for GridSearchCV\n",
    "from sklearn.model_selection import GridSearchCV, train_test_split\n",
    "from sklearn.svm import SVC\n",
    "from sklearn.metrics import accuracy_score\n",
    "from sklearn.cluster import KMeans\n",
    "from sklearn.preprocessing import StandardScaler\n",
    "from sklearn.pipeline import Pipeline\n"
   ]
  },
  {
   "cell_type": "markdown",
   "id": "c7536e27",
   "metadata": {},
   "source": [
    "Reddit enable an API tool for developpers. You have to register and agree to their terms and conditions. This is something I completed on their portal prior to accessing the following API: https://www.reddit.com/wiki/api/\n",
    "\n",
    "As part of this, I accepted the API and data terms and conditions, which allows for the use of their public data in our use case. Where we identify comments with user identifiable data such as handles, usernames, tags etc we then must also set a privacy notice on our application, but for this work all commentary has been deidentified from its user data and meta data.\n",
    "\n",
    "There are limits in place including the volume of data that can be pulled at a time via this API method. To work around this limit, the following section splits the API calls by date ranges and each seperate API call is then joined altogether in one large dataframe for the following sentiment analysis sections."
   ]
  },
  {
   "cell_type": "markdown",
   "id": "0e0d92d3",
   "metadata": {},
   "source": [
    "# API Call Section for Data Aquisition"
   ]
  },
  {
   "cell_type": "code",
   "execution_count": 222,
   "id": "6c13e2fa",
   "metadata": {},
   "outputs": [],
   "source": [
    "url = \"https://api.pullpush.io/reddit/search/submission/?q=(Ireland Irish Commute Commuting)&after=1000d&before=1d&sort=asc&size=500\"\n",
    "response = requests.get(url)\n",
    "data = response.json()\n",
    "df = pd.DataFrame(data['data'])"
   ]
  },
  {
   "cell_type": "code",
   "execution_count": 223,
   "id": "9544a1d6",
   "metadata": {},
   "outputs": [],
   "source": [
    "url2 = \"https://api.pullpush.io/reddit/search/submission/?q=(Ireland Irish Commute Commuting)&after=2000d&before=1001d&sort=asc&size=500\"\n",
    "response2 = requests.get(url2)\n",
    "data2 = response2.json()\n",
    "df2 = pd.DataFrame(data2['data'])"
   ]
  },
  {
   "cell_type": "code",
   "execution_count": 224,
   "id": "20b10100",
   "metadata": {},
   "outputs": [],
   "source": [
    "url3 = \"https://api.pullpush.io/reddit/search/submission/?q=(Ireland Irish Commute Commuting)&after=3000d&before=2001d&sort=asc&size=500\"\n",
    "response3 = requests.get(url3)\n",
    "data3 = response3.json()\n",
    "df3 = pd.DataFrame(data3['data'])\n"
   ]
  },
  {
   "cell_type": "code",
   "execution_count": 225,
   "id": "0a81fd76",
   "metadata": {},
   "outputs": [],
   "source": [
    "url4 = \"https://api.pullpush.io/reddit/search/submission/?q=(Ireland Irish Commute Commuting)&after=4000d&before=3001d&sort=asc&size=500\"\n",
    "response4 = requests.get(url4)\n",
    "data4 = response4.json()\n",
    "df4 = pd.DataFrame(data4['data'])"
   ]
  },
  {
   "cell_type": "code",
   "execution_count": 226,
   "id": "ce111b4a",
   "metadata": {},
   "outputs": [],
   "source": [
    "url5 = \"https://api.pullpush.io/reddit/search/submission/?q=(Ireland Irish Commute Commuting)&before=4001d&sort=asc&size=500\"\n",
    "response5 = requests.get(url5)\n",
    "data5 = response5.json()\n",
    "df5 = pd.DataFrame(data5['data'])"
   ]
  },
  {
   "cell_type": "code",
   "execution_count": 227,
   "id": "f40b3ce5",
   "metadata": {},
   "outputs": [],
   "source": [
    "comment_url = \"https://api.pullpush.io/reddit/search/comment/?q=(Ireland Irish Commute Commuting)&after=150d&before=1d&sort=asc&size=500\"\n",
    "comment_response = requests.get(comment_url)\n",
    "comment_data = comment_response.json()\n",
    "comment_df = pd.DataFrame(comment_data['data'])"
   ]
  },
  {
   "cell_type": "code",
   "execution_count": 228,
   "id": "92e70ad5",
   "metadata": {},
   "outputs": [],
   "source": [
    "comment_url2 = \"https://api.pullpush.io/reddit/search/comment/?q=(Ireland Irish Commute Commuting)&after=350d&before=151d&sort=asc&size=500\"\n",
    "comment_response2 = requests.get(comment_url2)\n",
    "comment_data2 = comment_response2.json()\n",
    "comment_df2 = pd.DataFrame(comment_data2['data'])"
   ]
  },
  {
   "cell_type": "code",
   "execution_count": 229,
   "id": "73929a1b",
   "metadata": {},
   "outputs": [],
   "source": [
    "comment_url3 = \"https://api.pullpush.io/reddit/search/comment/?q=(Ireland Irish Commute Commuting)&after=600d&before=351d&sort=asc&size=500\"\n",
    "comment_response3 = requests.get(comment_url3)\n",
    "comment_data3 = comment_response3.json()\n",
    "comment_df3 = pd.DataFrame(comment_data3['data'])"
   ]
  },
  {
   "cell_type": "code",
   "execution_count": 230,
   "id": "95d6433b",
   "metadata": {},
   "outputs": [],
   "source": [
    "comment_url4 = \"https://api.pullpush.io/reddit/search/comment/?q=(Ireland Irish Commute Commuting)&after=850d&before=601d&sort=asc&size=500\"\n",
    "comment_response4 = requests.get(comment_url4)\n",
    "comment_data4 = comment_response4.json()\n",
    "comment_df4 = pd.DataFrame(comment_data4['data'])"
   ]
  },
  {
   "cell_type": "code",
   "execution_count": 231,
   "id": "82f88a5f",
   "metadata": {},
   "outputs": [],
   "source": [
    "comment_url5 = \"https://api.pullpush.io/reddit/search/comment/?q=(Ireland Irish Commute Commuting)&after=1050d&before=851d&sort=asc&size=500\"\n",
    "comment_response5 = requests.get(comment_url5)\n",
    "comment_data5 = comment_response5.json()\n",
    "comment_df5 = pd.DataFrame(comment_data5['data'])"
   ]
  },
  {
   "cell_type": "code",
   "execution_count": 232,
   "id": "e4a088c0",
   "metadata": {},
   "outputs": [],
   "source": [
    "comment_url6 = \"https://api.pullpush.io/reddit/search/comment/?q=(Ireland Irish Commute Commuting)&after=1300d&before=1051d&sort=asc&size=500\"\n",
    "comment_response6 = requests.get(comment_url6)\n",
    "comment_data6 = comment_response6.json()\n",
    "comment_df6 = pd.DataFrame(comment_data6['data'])"
   ]
  },
  {
   "cell_type": "code",
   "execution_count": 233,
   "id": "43f25964",
   "metadata": {},
   "outputs": [],
   "source": [
    "Comments = df.selftext \n",
    "Comments2 = df2.selftext \n",
    "Comments3 = df3.selftext \n",
    "Comments4 = df4.selftext \n",
    "Comments5 = df5.selftext \n",
    "\n",
    "Replies = comment_df.body\n",
    "Replies2 = comment_df2.body\n",
    "Replies3 = comment_df3.body\n",
    "Replies4 = comment_df4.body\n",
    "Replies5 = comment_df5.body\n",
    "Replies6 = comment_df6.body"
   ]
  },
  {
   "cell_type": "code",
   "execution_count": 234,
   "id": "7c2420a3",
   "metadata": {},
   "outputs": [],
   "source": [
    " All_Comments = pd.concat ([Comments, Comments2, Comments3, Comments4, Comments5, Replies, Replies2, Replies3, Replies4, Replies5, Replies6])"
   ]
  },
  {
   "cell_type": "code",
   "execution_count": 235,
   "id": "7c1dedc9",
   "metadata": {},
   "outputs": [
    {
     "data": {
      "text/plain": [
       "(784,)"
      ]
     },
     "execution_count": 235,
     "metadata": {},
     "output_type": "execute_result"
    }
   ],
   "source": [
    "All_Comments.shape"
   ]
  },
  {
   "cell_type": "code",
   "execution_count": 236,
   "id": "f287d7f3",
   "metadata": {},
   "outputs": [],
   "source": [
    "#Create the PD for the pristine or unprocessed data\n",
    "All_Comments2 = pd.DataFrame(All_Comments)"
   ]
  },
  {
   "cell_type": "code",
   "execution_count": 237,
   "id": "796528fe",
   "metadata": {},
   "outputs": [
    {
     "data": {
      "text/plain": [
       "<bound method NDFrame.describe of                                                      Text\n",
       "Number                                                   \n",
       "0       While vaccines are starting to be administered...\n",
       "1         First off I would like to say I'm not even I...\n",
       "2       While vaccines are starting to be administered...\n",
       "3       I just wanted to make this post to outline wha...\n",
       "4       While vaccines are starting to be administered...\n",
       "...                                                   ...\n",
       "88      If you’ve irish heritage it’d be easy enough t...\n",
       "89      When Northern Ireland was going through its ve...\n",
       "90      Welcome to the Rhineland, a great choice! Düss...\n",
       "91      Have you looked into the UK? I used to live in...\n",
       "92      &gt;  Jeremy Corbyn (ex Labour party leader) w...\n",
       "\n",
       "[784 rows x 1 columns]>"
      ]
     },
     "execution_count": 237,
     "metadata": {},
     "output_type": "execute_result"
    }
   ],
   "source": [
    "All_Comments2.rename(columns={ All_Comments2.columns[0]: \"Text\" }, inplace = True)\n",
    "All_Comments2.index.names = ['Number']\n",
    "All_Comments2.describe"
   ]
  },
  {
   "cell_type": "markdown",
   "id": "372654f7",
   "metadata": {},
   "source": [
    "# First Glance: Wordcloud"
   ]
  },
  {
   "cell_type": "code",
   "execution_count": 238,
   "id": "ca933c9a",
   "metadata": {},
   "outputs": [
    {
     "data": {
      "image/png": "[encoded data removed]",
      "text/plain": [
       "<Figure size 500x500 with 1 Axes>"
      ]
     },
     "metadata": {},
     "output_type": "display_data"
    }
   ],
   "source": [
    "#Adding aditional stopwords to simplify the wordcloud output-This is specific to the domain we are exploring.\n",
    "comment_words = ''\n",
    "stopwords = set(STOPWORDS)\n",
    "stopwords.add(\"year\")\n",
    "stopwords.add(\"even\")\n",
    "stopwords.add(\"u\")\n",
    "stopwords.add(\"org\")\n",
    "stopwords.add(\"wikipedia\")\n",
    "stopwords.add(\"x200b\")\n",
    "stopwords.add(\"amp\")\n",
    "stopwords.add(\"en\")\n",
    "\n",
    "# iterate through the file\n",
    "for val in All_Comments2.Text:\n",
    "     \n",
    "    # typecaste each val to string\n",
    "    val = str(val)\n",
    " \n",
    "    # split the value\n",
    "    tokens = val.split()\n",
    "     \n",
    "    # Converts each token into lowercase\n",
    "    for i in range(len(tokens)):\n",
    "        tokens[i] = tokens[i].lower()\n",
    "     \n",
    "    comment_words += \" \".join(tokens)+\" \"\n",
    " \n",
    "wordcloud = WordCloud(width = 800, height = 800,\n",
    "                background_color ='white',\n",
    "                stopwords = stopwords,\n",
    "                min_font_size = 20).generate(comment_words)\n",
    "\n",
    "# plot the WordCloud image                       \n",
    "plt.figure(figsize = (5, 5), facecolor = None)\n",
    "plt.imshow(wordcloud)\n",
    "plt.axis(\"off\")\n",
    "plt.tight_layout(pad = 0)\n",
    " \n",
    "plt.show()"
   ]
  },
  {
   "cell_type": "markdown",
   "id": "f01d980f",
   "metadata": {},
   "source": [
    "# VADER Sentiment Analysis"
   ]
  },
  {
   "cell_type": "code",
   "execution_count": 239,
   "id": "93c705ec",
   "metadata": {},
   "outputs": [],
   "source": [
    "# Create an instance of SentimentIntensityAnalyzer\n",
    "sent_analyzer = SentimentIntensityAnalyzer()\n"
   ]
  },
  {
   "cell_type": "markdown",
   "id": "715a2da4",
   "metadata": {},
   "source": [
    "* a positive sentiment, compound ≥ 0.05.\n",
    "* a negative sentiment, compound ≤ -0.05.\n",
    "* a neutral sentiment, the compound is between ]-0.05, 0.05["
   ]
  },
  {
   "cell_type": "code",
   "execution_count": 240,
   "id": "d6729869",
   "metadata": {},
   "outputs": [],
   "source": [
    "def format_output(output_dict):\n",
    "  \n",
    "  polarity = \"neutral\"\n",
    "\n",
    "  if(output_dict['compound'] >= 0.05):\n",
    "    polarity = \"positive\"\n",
    "\n",
    "  elif(output_dict['compound'] <= -0.05):\n",
    "    polarity = \"negative\"\n",
    "\n",
    "  return polarity\n",
    "\n",
    "def predict_sentiment(text):\n",
    "  \n",
    "  output_dict =  sent_analyzer.polarity_scores(text)\n",
    "  return format_output(output_dict)"
   ]
  },
  {
   "cell_type": "code",
   "execution_count": 241,
   "id": "e1f027d1",
   "metadata": {},
   "outputs": [],
   "source": [
    "All_Comments2[\"vader_prediction\"] = All_Comments2[\"Text\"].apply(predict_sentiment)"
   ]
  },
  {
   "cell_type": "code",
   "execution_count": 242,
   "id": "232a488a",
   "metadata": {},
   "outputs": [
    {
     "data": {
      "text/html": [
       "<div>\n",
       "<style scoped>\n",
       "    .dataframe tbody tr th:only-of-type {\n",
       "        vertical-align: middle;\n",
       "    }\n",
       "\n",
       "    .dataframe tbody tr th {\n",
       "        vertical-align: top;\n",
       "    }\n",
       "\n",
       "    .dataframe thead th {\n",
       "        text-align: right;\n",
       "    }\n",
       "</style>\n",
       "<table border=\"1\" class=\"dataframe\">\n",
       "  <thead>\n",
       "    <tr style=\"text-align: right;\">\n",
       "      <th></th>\n",
       "      <th>Text</th>\n",
       "      <th>vader_prediction</th>\n",
       "    </tr>\n",
       "    <tr>\n",
       "      <th>Number</th>\n",
       "      <th></th>\n",
       "      <th></th>\n",
       "    </tr>\n",
       "  </thead>\n",
       "  <tbody>\n",
       "    <tr>\n",
       "      <th>86</th>\n",
       "      <td>[**Idol (VIP, #1)**](https://www.goodreads.com...</td>\n",
       "      <td>positive</td>\n",
       "    </tr>\n",
       "    <tr>\n",
       "      <th>20</th>\n",
       "      <td>🥁🎸🎹🛒🚴‍♂️💚🎯🇮🇪\\n\\n&amp;amp;#x200B;\\n\\nHurry up📢📢\\n\\n...</td>\n",
       "      <td>positive</td>\n",
       "    </tr>\n",
       "    <tr>\n",
       "      <th>8</th>\n",
       "      <td>Hi all, this sub has been great for info and s...</td>\n",
       "      <td>negative</td>\n",
       "    </tr>\n",
       "    <tr>\n",
       "      <th>34</th>\n",
       "      <td>That's just a symptom of the real underlying c...</td>\n",
       "      <td>positive</td>\n",
       "    </tr>\n",
       "    <tr>\n",
       "      <th>10</th>\n",
       "      <td>WTF? You can currently be a Welsh MSP without ...</td>\n",
       "      <td>negative</td>\n",
       "    </tr>\n",
       "  </tbody>\n",
       "</table>\n",
       "</div>"
      ],
      "text/plain": [
       "                                                     Text vader_prediction\n",
       "Number                                                                    \n",
       "86      [**Idol (VIP, #1)**](https://www.goodreads.com...         positive\n",
       "20      🥁🎸🎹🛒🚴‍♂️💚🎯🇮🇪\\n\\n&amp;#x200B;\\n\\nHurry up📢📢\\n\\n...         positive\n",
       "8       Hi all, this sub has been great for info and s...         negative\n",
       "34      That's just a symptom of the real underlying c...         positive\n",
       "10      WTF? You can currently be a Welsh MSP without ...         negative"
      ]
     },
     "execution_count": 242,
     "metadata": {},
     "output_type": "execute_result"
    }
   ],
   "source": [
    "All_Comments2.sample(5)"
   ]
  },
  {
   "cell_type": "code",
   "execution_count": 243,
   "id": "c9179a45",
   "metadata": {},
   "outputs": [
    {
     "data": {
      "text/plain": [
       "0.7002551020408163"
      ]
     },
     "execution_count": 243,
     "metadata": {},
     "output_type": "execute_result"
    }
   ],
   "source": [
    "All_Comments2['Sentiment_Score'] = np.where(All_Comments2['vader_prediction'] == 'positive', 1, 0)\n",
    "\n",
    "Overall_DF_Valence = All_Comments2['Sentiment_Score'].mean()\n",
    "\n",
    "Overall_DF_Valence"
   ]
  },
  {
   "cell_type": "markdown",
   "id": "335c73d3",
   "metadata": {},
   "source": [
    "The polarity of the sentiment in our reddit scrape is positive regarding Irish Transportation on averaage. Where 1 = positive and 0 = Not positive and the Mean  is .7."
   ]
  },
  {
   "cell_type": "markdown",
   "id": "89823552",
   "metadata": {},
   "source": [
    "#  Logistic-regression Model Sentiment Analysis"
   ]
  },
  {
   "cell_type": "code",
   "execution_count": 244,
   "id": "40db3ee3",
   "metadata": {},
   "outputs": [],
   "source": [
    "BoWDF = All_Comments2"
   ]
  },
  {
   "cell_type": "code",
   "execution_count": 245,
   "id": "f65358a1",
   "metadata": {},
   "outputs": [],
   "source": [
    "BoWDF['Sentiment_Score'] = np.where(BoWDF['vader_prediction'] == 'positive', 1, 0)"
   ]
  },
  {
   "cell_type": "code",
   "execution_count": 246,
   "id": "91c0e11c",
   "metadata": {},
   "outputs": [
    {
     "data": {
      "text/html": [
       "<div>\n",
       "<style scoped>\n",
       "    .dataframe tbody tr th:only-of-type {\n",
       "        vertical-align: middle;\n",
       "    }\n",
       "\n",
       "    .dataframe tbody tr th {\n",
       "        vertical-align: top;\n",
       "    }\n",
       "\n",
       "    .dataframe thead th {\n",
       "        text-align: right;\n",
       "    }\n",
       "</style>\n",
       "<table border=\"1\" class=\"dataframe\">\n",
       "  <thead>\n",
       "    <tr style=\"text-align: right;\">\n",
       "      <th></th>\n",
       "      <th>Text</th>\n",
       "      <th>vader_prediction</th>\n",
       "      <th>Sentiment_Score</th>\n",
       "    </tr>\n",
       "    <tr>\n",
       "      <th>Number</th>\n",
       "      <th></th>\n",
       "      <th></th>\n",
       "      <th></th>\n",
       "    </tr>\n",
       "  </thead>\n",
       "  <tbody>\n",
       "    <tr>\n",
       "      <th>85</th>\n",
       "      <td>article text:    \\nThat could weaken the union...</td>\n",
       "      <td>positive</td>\n",
       "      <td>1</td>\n",
       "    </tr>\n",
       "    <tr>\n",
       "      <th>7</th>\n",
       "      <td>There are places close to Boston that may be s...</td>\n",
       "      <td>positive</td>\n",
       "      <td>1</td>\n",
       "    </tr>\n",
       "    <tr>\n",
       "      <th>0</th>\n",
       "      <td>I have only had a connection to the airport, b...</td>\n",
       "      <td>positive</td>\n",
       "      <td>1</td>\n",
       "    </tr>\n",
       "    <tr>\n",
       "      <th>52</th>\n",
       "      <td>Spent a few years there, mainly Calgary and To...</td>\n",
       "      <td>positive</td>\n",
       "      <td>1</td>\n",
       "    </tr>\n",
       "    <tr>\n",
       "      <th>70</th>\n",
       "      <td>Dublin. Baile Átha Cliath in Irish. A city tha...</td>\n",
       "      <td>positive</td>\n",
       "      <td>1</td>\n",
       "    </tr>\n",
       "  </tbody>\n",
       "</table>\n",
       "</div>"
      ],
      "text/plain": [
       "                                                     Text vader_prediction  \\\n",
       "Number                                                                       \n",
       "85      article text:    \\nThat could weaken the union...         positive   \n",
       "7       There are places close to Boston that may be s...         positive   \n",
       "0       I have only had a connection to the airport, b...         positive   \n",
       "52      Spent a few years there, mainly Calgary and To...         positive   \n",
       "70      Dublin. Baile Átha Cliath in Irish. A city tha...         positive   \n",
       "\n",
       "        Sentiment_Score  \n",
       "Number                   \n",
       "85                    1  \n",
       "7                     1  \n",
       "0                     1  \n",
       "52                    1  \n",
       "70                    1  "
      ]
     },
     "execution_count": 246,
     "metadata": {},
     "output_type": "execute_result"
    }
   ],
   "source": [
    "BoWDF.sample(5)"
   ]
  },
  {
   "cell_type": "code",
   "execution_count": 247,
   "id": "d6eb5457",
   "metadata": {},
   "outputs": [
    {
     "data": {
      "text/plain": [
       "<784x1574 sparse matrix of type '<class 'numpy.int64'>'\n",
       "\twith 82658 stored elements in Compressed Sparse Row format>"
      ]
     },
     "execution_count": 247,
     "metadata": {},
     "output_type": "execute_result"
    }
   ],
   "source": [
    "# Pre-Prcoessing and Bag of Word Vectorization using Count Vectorizer\n",
    "\n",
    "token = RegexpTokenizer(r'[a-zA-Z0-9]+')\n",
    "cv    = CountVectorizer(stop_words = 'english',ngram_range = (1, 2),tokenizer = token.tokenize, min_df = 20)\n",
    "text_counts = cv.fit_transform(BoWDF['Text'])\n",
    "y = BoWDF['Sentiment_Score']\n",
    "\n",
    "text_counts"
   ]
  },
  {
   "cell_type": "code",
   "execution_count": 248,
   "id": "842eb085",
   "metadata": {},
   "outputs": [],
   "source": [
    "#Splitting the data into trainig and testing\n",
    "X_train, X_test, Y_train, Y_test = train_test_split(text_counts, y, test_size=0.5, random_state=0)"
   ]
  },
  {
   "cell_type": "code",
   "execution_count": 249,
   "id": "e7330cb3",
   "metadata": {},
   "outputs": [
    {
     "data": {
      "text/plain": [
       "((784, 1574), (392, 1574), (392, 1574), (392,), (392,))"
      ]
     },
     "execution_count": 249,
     "metadata": {},
     "output_type": "execute_result"
    }
   ],
   "source": [
    "text_counts.shape, X_train.shape, X_test.shape, Y_train.shape, Y_test.shape"
   ]
  },
  {
   "cell_type": "code",
   "execution_count": 250,
   "id": "d1a88e8f",
   "metadata": {},
   "outputs": [
    {
     "name": "stdout",
     "output_type": "stream",
     "text": [
      "Accuracuy Score:  0.7168367346938775\n"
     ]
    }
   ],
   "source": [
    "# Training the model\n",
    "\n",
    "MNB = MultinomialNB()\n",
    "MNB.fit(X_train, Y_train)\n",
    "\n",
    "# Caluclating the accuracy score of the model\n",
    "\n",
    "predicted = MNB.predict(X_test)\n",
    "accuracy_score = metrics.accuracy_score(predicted, Y_test)\n",
    "print(\"Accuracuy Score: \",accuracy_score)"
   ]
  },
  {
   "cell_type": "code",
   "execution_count": 251,
   "id": "477cd3ec",
   "metadata": {},
   "outputs": [
    {
     "data": {
      "text/html": [
       "<style>#sk-container-id-11 {color: black;}#sk-container-id-11 pre{padding: 0;}#sk-container-id-11 div.sk-toggleable {background-color: white;}#sk-container-id-11 label.sk-toggleable__label {cursor: pointer;display: block;width: 100%;margin-bottom: 0;padding: 0.3em;box-sizing: border-box;text-align: center;}#sk-container-id-11 label.sk-toggleable__label-arrow:before {content: \"▸\";float: left;margin-right: 0.25em;color: #696969;}#sk-container-id-11 label.sk-toggleable__label-arrow:hover:before {color: black;}#sk-container-id-11 div.sk-estimator:hover label.sk-toggleable__label-arrow:before {color: black;}#sk-container-id-11 div.sk-toggleable__content {max-height: 0;max-width: 0;overflow: hidden;text-align: left;background-color: #f0f8ff;}#sk-container-id-11 div.sk-toggleable__content pre {margin: 0.2em;color: black;border-radius: 0.25em;background-color: #f0f8ff;}#sk-container-id-11 input.sk-toggleable__control:checked~div.sk-toggleable__content {max-height: 200px;max-width: 100%;overflow: auto;}#sk-container-id-11 input.sk-toggleable__control:checked~label.sk-toggleable__label-arrow:before {content: \"▾\";}#sk-container-id-11 div.sk-estimator input.sk-toggleable__control:checked~label.sk-toggleable__label {background-color: #d4ebff;}#sk-container-id-11 div.sk-label input.sk-toggleable__control:checked~label.sk-toggleable__label {background-color: #d4ebff;}#sk-container-id-11 input.sk-hidden--visually {border: 0;clip: rect(1px 1px 1px 1px);clip: rect(1px, 1px, 1px, 1px);height: 1px;margin: -1px;overflow: hidden;padding: 0;position: absolute;width: 1px;}#sk-container-id-11 div.sk-estimator {font-family: monospace;background-color: #f0f8ff;border: 1px dotted black;border-radius: 0.25em;box-sizing: border-box;margin-bottom: 0.5em;}#sk-container-id-11 div.sk-estimator:hover {background-color: #d4ebff;}#sk-container-id-11 div.sk-parallel-item::after {content: \"\";width: 100%;border-bottom: 1px solid gray;flex-grow: 1;}#sk-container-id-11 div.sk-label:hover label.sk-toggleable__label {background-color: #d4ebff;}#sk-container-id-11 div.sk-serial::before {content: \"\";position: absolute;border-left: 1px solid gray;box-sizing: border-box;top: 0;bottom: 0;left: 50%;z-index: 0;}#sk-container-id-11 div.sk-serial {display: flex;flex-direction: column;align-items: center;background-color: white;padding-right: 0.2em;padding-left: 0.2em;position: relative;}#sk-container-id-11 div.sk-item {position: relative;z-index: 1;}#sk-container-id-11 div.sk-parallel {display: flex;align-items: stretch;justify-content: center;background-color: white;position: relative;}#sk-container-id-11 div.sk-item::before, #sk-container-id-11 div.sk-parallel-item::before {content: \"\";position: absolute;border-left: 1px solid gray;box-sizing: border-box;top: 0;bottom: 0;left: 50%;z-index: -1;}#sk-container-id-11 div.sk-parallel-item {display: flex;flex-direction: column;z-index: 1;position: relative;background-color: white;}#sk-container-id-11 div.sk-parallel-item:first-child::after {align-self: flex-end;width: 50%;}#sk-container-id-11 div.sk-parallel-item:last-child::after {align-self: flex-start;width: 50%;}#sk-container-id-11 div.sk-parallel-item:only-child::after {width: 0;}#sk-container-id-11 div.sk-dashed-wrapped {border: 1px dashed gray;margin: 0 0.4em 0.5em 0.4em;box-sizing: border-box;padding-bottom: 0.4em;background-color: white;}#sk-container-id-11 div.sk-label label {font-family: monospace;font-weight: bold;display: inline-block;line-height: 1.2em;}#sk-container-id-11 div.sk-label-container {text-align: center;}#sk-container-id-11 div.sk-container {/* jupyter's `normalize.less` sets `[hidden] { display: none; }` but bootstrap.min.css set `[hidden] { display: none !important; }` so we also need the `!important` here to be able to override the default hidden behavior on the sphinx rendered scikit-learn.org. See: https://github.com/scikit-learn/scikit-learn/issues/21755 */display: inline-block !important;position: relative;}#sk-container-id-11 div.sk-text-repr-fallback {display: none;}</style><div id=\"sk-container-id-11\" class=\"sk-top-container\"><div class=\"sk-text-repr-fallback\"><pre>LogisticRegression(max_iter=1000, random_state=0)</pre><b>In a Jupyter environment, please rerun this cell to show the HTML representation or trust the notebook. <br />On GitHub, the HTML representation is unable to render, please try loading this page with nbviewer.org.</b></div><div class=\"sk-container\" hidden><div class=\"sk-item\"><div class=\"sk-estimator sk-toggleable\"><input class=\"sk-toggleable__control sk-hidden--visually\" id=\"sk-estimator-id-21\" type=\"checkbox\" checked><label for=\"sk-estimator-id-21\" class=\"sk-toggleable__label sk-toggleable__label-arrow\">LogisticRegression</label><div class=\"sk-toggleable__content\"><pre>LogisticRegression(max_iter=1000, random_state=0)</pre></div></div></div></div></div>"
      ],
      "text/plain": [
       "LogisticRegression(max_iter=1000, random_state=0)"
      ]
     },
     "execution_count": 251,
     "metadata": {},
     "output_type": "execute_result"
    }
   ],
   "source": [
    "model = LogisticRegression(max_iter = 1000, random_state = 0)\n",
    "model.fit(X_train, Y_train)"
   ]
  },
  {
   "cell_type": "markdown",
   "id": "a62829f6",
   "metadata": {},
   "source": [
    "# Validation and Testing: Confusion Matrix plus unit testing of a ingle comment input"
   ]
  },
  {
   "cell_type": "code",
   "execution_count": 252,
   "id": "7e701199",
   "metadata": {},
   "outputs": [
    {
     "data": {
      "text/plain": [
       "<sklearn.metrics._plot.confusion_matrix.ConfusionMatrixDisplay at 0x22802fbcdd0>"
      ]
     },
     "execution_count": 252,
     "metadata": {},
     "output_type": "execute_result"
    },
    {
     "data": {
      "image/png": "[encoded data removed]",
      "text/plain": [
       "<Figure size 640x480 with 2 Axes>"
      ]
     },
     "metadata": {},
     "output_type": "display_data"
    }
   ],
   "source": [
    "%matplotlib inline\n",
    "\n",
    "cmd.from_estimator(model, X_test, Y_test,\n",
    "                   display_labels=['Negative', 'Positive'],\n",
    "                   cmap='Blues', xticks_rotation='vertical')"
   ]
  },
  {
   "cell_type": "markdown",
   "id": "5a85dacb",
   "metadata": {},
   "source": [
    "Testing the model wtih a test input for face validity"
   ]
  },
  {
   "cell_type": "code",
   "execution_count": 253,
   "id": "018ae4c1",
   "metadata": {},
   "outputs": [
    {
     "data": {
      "text/plain": [
       "0.5872811523420763"
      ]
     },
     "execution_count": 253,
     "metadata": {},
     "output_type": "execute_result"
    }
   ],
   "source": [
    "review = 'The long commutes  was extremely bad.'\n",
    "model.predict_proba(cv.transform([review]))[0][1]"
   ]
  },
  {
   "cell_type": "markdown",
   "id": "b4fb2e2a",
   "metadata": {},
   "source": [
    "# Bag of Workds Sentiment Analysis"
   ]
  },
  {
   "cell_type": "code",
   "execution_count": 254,
   "id": "157d1fe6",
   "metadata": {},
   "outputs": [],
   "source": [
    "BoWDF = All_Comments2"
   ]
  },
  {
   "cell_type": "code",
   "execution_count": 255,
   "id": "1803d98b",
   "metadata": {},
   "outputs": [
    {
     "data": {
      "text/plain": [
       "(784, 1574)"
      ]
     },
     "execution_count": 255,
     "metadata": {},
     "output_type": "execute_result"
    }
   ],
   "source": [
    "# Instantiate an object cv by calling a method named as CountVectorzer()\n",
    "cv1    = CountVectorizer(stop_words = 'english',ngram_range = (1, 2),tokenizer = token.tokenize)\n",
    "\n",
    "# Train the dataset by calling a fit_transform() method\n",
    "X_fin = cv.fit_transform(BoWDF['Text'])\n",
    "\n",
    "# Display the rows and colums\n",
    "X_fin.shape\n",
    "\n"
   ]
  },
  {
   "cell_type": "code",
   "execution_count": 256,
   "id": "c674910d",
   "metadata": {},
   "outputs": [
    {
     "data": {
      "text/plain": [
       "(784,)"
      ]
     },
     "execution_count": 256,
     "metadata": {},
     "output_type": "execute_result"
    }
   ],
   "source": [
    "y1=BoWDF['Sentiment_Score']\n",
    "y1.shape"
   ]
  },
  {
   "cell_type": "code",
   "execution_count": 257,
   "id": "1e4dce73",
   "metadata": {},
   "outputs": [
    {
     "data": {
      "text/plain": [
       "<784x1574 sparse matrix of type '<class 'numpy.int64'>'\n",
       "\twith 82658 stored elements in Compressed Sparse Row format>"
      ]
     },
     "execution_count": 257,
     "metadata": {},
     "output_type": "execute_result"
    }
   ],
   "source": [
    "X_fin"
   ]
  },
  {
   "cell_type": "code",
   "execution_count": 258,
   "id": "96cd86f1",
   "metadata": {},
   "outputs": [],
   "source": [
    "# Instantiate an object model by calling a method MultinomialNB()\n",
    "model1 = MultinomialNB()"
   ]
  },
  {
   "cell_type": "code",
   "execution_count": 259,
   "id": "f66702ed",
   "metadata": {},
   "outputs": [],
   "source": [
    "# Split the dataset into training and testing parts\n",
    "X_train1, X_test1, y_train1, y_test1 = train_test_split(X_fin, y1, test_size = 0.3)"
   ]
  },
  {
   "cell_type": "code",
   "execution_count": 260,
   "id": "6033e13f",
   "metadata": {},
   "outputs": [
    {
     "data": {
      "text/html": [
       "<style>#sk-container-id-12 {color: black;}#sk-container-id-12 pre{padding: 0;}#sk-container-id-12 div.sk-toggleable {background-color: white;}#sk-container-id-12 label.sk-toggleable__label {cursor: pointer;display: block;width: 100%;margin-bottom: 0;padding: 0.3em;box-sizing: border-box;text-align: center;}#sk-container-id-12 label.sk-toggleable__label-arrow:before {content: \"▸\";float: left;margin-right: 0.25em;color: #696969;}#sk-container-id-12 label.sk-toggleable__label-arrow:hover:before {color: black;}#sk-container-id-12 div.sk-estimator:hover label.sk-toggleable__label-arrow:before {color: black;}#sk-container-id-12 div.sk-toggleable__content {max-height: 0;max-width: 0;overflow: hidden;text-align: left;background-color: #f0f8ff;}#sk-container-id-12 div.sk-toggleable__content pre {margin: 0.2em;color: black;border-radius: 0.25em;background-color: #f0f8ff;}#sk-container-id-12 input.sk-toggleable__control:checked~div.sk-toggleable__content {max-height: 200px;max-width: 100%;overflow: auto;}#sk-container-id-12 input.sk-toggleable__control:checked~label.sk-toggleable__label-arrow:before {content: \"▾\";}#sk-container-id-12 div.sk-estimator input.sk-toggleable__control:checked~label.sk-toggleable__label {background-color: #d4ebff;}#sk-container-id-12 div.sk-label input.sk-toggleable__control:checked~label.sk-toggleable__label {background-color: #d4ebff;}#sk-container-id-12 input.sk-hidden--visually {border: 0;clip: rect(1px 1px 1px 1px);clip: rect(1px, 1px, 1px, 1px);height: 1px;margin: -1px;overflow: hidden;padding: 0;position: absolute;width: 1px;}#sk-container-id-12 div.sk-estimator {font-family: monospace;background-color: #f0f8ff;border: 1px dotted black;border-radius: 0.25em;box-sizing: border-box;margin-bottom: 0.5em;}#sk-container-id-12 div.sk-estimator:hover {background-color: #d4ebff;}#sk-container-id-12 div.sk-parallel-item::after {content: \"\";width: 100%;border-bottom: 1px solid gray;flex-grow: 1;}#sk-container-id-12 div.sk-label:hover label.sk-toggleable__label {background-color: #d4ebff;}#sk-container-id-12 div.sk-serial::before {content: \"\";position: absolute;border-left: 1px solid gray;box-sizing: border-box;top: 0;bottom: 0;left: 50%;z-index: 0;}#sk-container-id-12 div.sk-serial {display: flex;flex-direction: column;align-items: center;background-color: white;padding-right: 0.2em;padding-left: 0.2em;position: relative;}#sk-container-id-12 div.sk-item {position: relative;z-index: 1;}#sk-container-id-12 div.sk-parallel {display: flex;align-items: stretch;justify-content: center;background-color: white;position: relative;}#sk-container-id-12 div.sk-item::before, #sk-container-id-12 div.sk-parallel-item::before {content: \"\";position: absolute;border-left: 1px solid gray;box-sizing: border-box;top: 0;bottom: 0;left: 50%;z-index: -1;}#sk-container-id-12 div.sk-parallel-item {display: flex;flex-direction: column;z-index: 1;position: relative;background-color: white;}#sk-container-id-12 div.sk-parallel-item:first-child::after {align-self: flex-end;width: 50%;}#sk-container-id-12 div.sk-parallel-item:last-child::after {align-self: flex-start;width: 50%;}#sk-container-id-12 div.sk-parallel-item:only-child::after {width: 0;}#sk-container-id-12 div.sk-dashed-wrapped {border: 1px dashed gray;margin: 0 0.4em 0.5em 0.4em;box-sizing: border-box;padding-bottom: 0.4em;background-color: white;}#sk-container-id-12 div.sk-label label {font-family: monospace;font-weight: bold;display: inline-block;line-height: 1.2em;}#sk-container-id-12 div.sk-label-container {text-align: center;}#sk-container-id-12 div.sk-container {/* jupyter's `normalize.less` sets `[hidden] { display: none; }` but bootstrap.min.css set `[hidden] { display: none !important; }` so we also need the `!important` here to be able to override the default hidden behavior on the sphinx rendered scikit-learn.org. See: https://github.com/scikit-learn/scikit-learn/issues/21755 */display: inline-block !important;position: relative;}#sk-container-id-12 div.sk-text-repr-fallback {display: none;}</style><div id=\"sk-container-id-12\" class=\"sk-top-container\"><div class=\"sk-text-repr-fallback\"><pre>MultinomialNB()</pre><b>In a Jupyter environment, please rerun this cell to show the HTML representation or trust the notebook. <br />On GitHub, the HTML representation is unable to render, please try loading this page with nbviewer.org.</b></div><div class=\"sk-container\" hidden><div class=\"sk-item\"><div class=\"sk-estimator sk-toggleable\"><input class=\"sk-toggleable__control sk-hidden--visually\" id=\"sk-estimator-id-22\" type=\"checkbox\" checked><label for=\"sk-estimator-id-22\" class=\"sk-toggleable__label sk-toggleable__label-arrow\">MultinomialNB</label><div class=\"sk-toggleable__content\"><pre>MultinomialNB()</pre></div></div></div></div></div>"
      ],
      "text/plain": [
       "MultinomialNB()"
      ]
     },
     "execution_count": 260,
     "metadata": {},
     "output_type": "execute_result"
    }
   ],
   "source": [
    "# Train the model by calling a method fit()\n",
    "model1.fit(X_train1,y_train1)"
   ]
  },
  {
   "cell_type": "code",
   "execution_count": 261,
   "id": "6aa26694",
   "metadata": {},
   "outputs": [],
   "source": [
    "# Call predict() method\n",
    "y_pred = model1.predict(X_test1)"
   ]
  },
  {
   "cell_type": "code",
   "execution_count": 262,
   "id": "0c82813f",
   "metadata": {},
   "outputs": [
    {
     "name": "stdout",
     "output_type": "stream",
     "text": [
      "              precision    recall  f1-score   support\n",
      "\n",
      "           0       0.72      0.16      0.27        79\n",
      "           1       0.70      0.97      0.81       157\n",
      "\n",
      "    accuracy                           0.70       236\n",
      "   macro avg       0.71      0.57      0.54       236\n",
      "weighted avg       0.71      0.70      0.63       236\n",
      "\n"
     ]
    }
   ],
   "source": [
    "# Instantiate a mthod named as Cla\n",
    "cf = classification_report(y_test1, y_pred)\n",
    "\n",
    "# Display the values of an object cf\n",
    "print(cf)"
   ]
  },
  {
   "cell_type": "markdown",
   "id": "99c4557a",
   "metadata": {},
   "source": [
    "Testing the model wtih a test input for face validity to compare against logistic regression model"
   ]
  },
  {
   "cell_type": "code",
   "execution_count": 263,
   "id": "8315ead6",
   "metadata": {},
   "outputs": [],
   "source": [
    "#model1.predict_proba(cv1.transform([review]))[0][1]"
   ]
  },
  {
   "cell_type": "markdown",
   "id": "6fce3415",
   "metadata": {},
   "source": [
    "# Machine Learning Section with Classifications"
   ]
  },
  {
   "cell_type": "code",
   "execution_count": 264,
   "id": "a102fe17",
   "metadata": {},
   "outputs": [],
   "source": [
    "#reading Dataset\n",
    "#IEDataset = pd.read_csv(\"Data/Irish Commuting Data by Area.csv\",  sep = ',',encoding = \"ISO-8859-1\", header= 0)\n",
    "IEDataset = pd.read_csv(\"Data/Irish Commuting Data by Area.csv\",  sep = ',', header= 0)"
   ]
  },
  {
   "cell_type": "code",
   "execution_count": 265,
   "id": "dc718a2e",
   "metadata": {},
   "outputs": [
    {
     "data": {
      "text/html": [
       "<div>\n",
       "<style scoped>\n",
       "    .dataframe tbody tr th:only-of-type {\n",
       "        vertical-align: middle;\n",
       "    }\n",
       "\n",
       "    .dataframe tbody tr th {\n",
       "        vertical-align: top;\n",
       "    }\n",
       "\n",
       "    .dataframe thead th {\n",
       "        text-align: right;\n",
       "    }\n",
       "</style>\n",
       "<table border=\"1\" class=\"dataframe\">\n",
       "  <thead>\n",
       "    <tr style=\"text-align: right;\">\n",
       "      <th></th>\n",
       "      <th>Travelling_Time_Number</th>\n",
       "      <th>Persons_at_work_2016_VALUE</th>\n",
       "      <th>Percentage_change_of_persons_at_work_2011_2016</th>\n",
       "      <th>Broad_Industrial_Group_Recoded</th>\n",
       "    </tr>\n",
       "  </thead>\n",
       "  <tbody>\n",
       "    <tr>\n",
       "      <th>count</th>\n",
       "      <td>132.000000</td>\n",
       "      <td>132.000000</td>\n",
       "      <td>132.000000</td>\n",
       "      <td>132.000000</td>\n",
       "    </tr>\n",
       "    <tr>\n",
       "      <th>mean</th>\n",
       "      <td>40.166667</td>\n",
       "      <td>13030.325758</td>\n",
       "      <td>17.296970</td>\n",
       "      <td>12.500000</td>\n",
       "    </tr>\n",
       "    <tr>\n",
       "      <th>std</th>\n",
       "      <td>29.468360</td>\n",
       "      <td>16921.097412</td>\n",
       "      <td>19.620666</td>\n",
       "      <td>6.368458</td>\n",
       "    </tr>\n",
       "    <tr>\n",
       "      <th>min</th>\n",
       "      <td>1.000000</td>\n",
       "      <td>14.000000</td>\n",
       "      <td>-34.900000</td>\n",
       "      <td>2.000000</td>\n",
       "    </tr>\n",
       "    <tr>\n",
       "      <th>25%</th>\n",
       "      <td>15.000000</td>\n",
       "      <td>1755.750000</td>\n",
       "      <td>3.250000</td>\n",
       "      <td>7.000000</td>\n",
       "    </tr>\n",
       "    <tr>\n",
       "      <th>50%</th>\n",
       "      <td>37.500000</td>\n",
       "      <td>6369.000000</td>\n",
       "      <td>13.650000</td>\n",
       "      <td>12.500000</td>\n",
       "    </tr>\n",
       "    <tr>\n",
       "      <th>75%</th>\n",
       "      <td>60.000000</td>\n",
       "      <td>16883.500000</td>\n",
       "      <td>28.875000</td>\n",
       "      <td>18.000000</td>\n",
       "    </tr>\n",
       "    <tr>\n",
       "      <th>max</th>\n",
       "      <td>90.000000</td>\n",
       "      <td>84010.000000</td>\n",
       "      <td>86.300000</td>\n",
       "      <td>23.000000</td>\n",
       "    </tr>\n",
       "  </tbody>\n",
       "</table>\n",
       "</div>"
      ],
      "text/plain": [
       "       Travelling_Time_Number  Persons_at_work_2016_VALUE  \\\n",
       "count              132.000000                  132.000000   \n",
       "mean                40.166667                13030.325758   \n",
       "std                 29.468360                16921.097412   \n",
       "min                  1.000000                   14.000000   \n",
       "25%                 15.000000                 1755.750000   \n",
       "50%                 37.500000                 6369.000000   \n",
       "75%                 60.000000                16883.500000   \n",
       "max                 90.000000                84010.000000   \n",
       "\n",
       "       Percentage_change_of_persons_at_work_2011_2016  \\\n",
       "count                                      132.000000   \n",
       "mean                                        17.296970   \n",
       "std                                         19.620666   \n",
       "min                                        -34.900000   \n",
       "25%                                          3.250000   \n",
       "50%                                         13.650000   \n",
       "75%                                         28.875000   \n",
       "max                                         86.300000   \n",
       "\n",
       "       Broad_Industrial_Group_Recoded  \n",
       "count                      132.000000  \n",
       "mean                        12.500000  \n",
       "std                          6.368458  \n",
       "min                          2.000000  \n",
       "25%                          7.000000  \n",
       "50%                         12.500000  \n",
       "75%                         18.000000  \n",
       "max                         23.000000  "
      ]
     },
     "execution_count": 265,
     "metadata": {},
     "output_type": "execute_result"
    }
   ],
   "source": [
    "IEDataset.describe()"
   ]
  },
  {
   "cell_type": "code",
   "execution_count": 266,
   "id": "cb449e0c",
   "metadata": {},
   "outputs": [
    {
     "data": {
      "text/html": [
       "<div>\n",
       "<style scoped>\n",
       "    .dataframe tbody tr th:only-of-type {\n",
       "        vertical-align: middle;\n",
       "    }\n",
       "\n",
       "    .dataframe tbody tr th {\n",
       "        vertical-align: top;\n",
       "    }\n",
       "\n",
       "    .dataframe thead th {\n",
       "        text-align: right;\n",
       "    }\n",
       "</style>\n",
       "<table border=\"1\" class=\"dataframe\">\n",
       "  <thead>\n",
       "    <tr style=\"text-align: right;\">\n",
       "      <th></th>\n",
       "      <th>Broad_Industrial_Group</th>\n",
       "      <th>Travelling_Time</th>\n",
       "      <th>Travelling_Time_Number</th>\n",
       "      <th>Persons_at_work_2016_VALUE</th>\n",
       "      <th>Percentage_change_of_persons_at_work_2011_2016</th>\n",
       "      <th>Broad_Industrial_Group_Recoded</th>\n",
       "    </tr>\n",
       "  </thead>\n",
       "  <tbody>\n",
       "    <tr>\n",
       "      <th>0</th>\n",
       "      <td>Agriculture, forestry and fishing (A)</td>\n",
       "      <td>&lt; ¼ hour</td>\n",
       "      <td>1</td>\n",
       "      <td>19577</td>\n",
       "      <td>-4.0</td>\n",
       "      <td>2</td>\n",
       "    </tr>\n",
       "    <tr>\n",
       "      <th>1</th>\n",
       "      <td>Agriculture, forestry and fishing (A)</td>\n",
       "      <td>¼ hour - &lt; ½ hour</td>\n",
       "      <td>15</td>\n",
       "      <td>9910</td>\n",
       "      <td>3.3</td>\n",
       "      <td>2</td>\n",
       "    </tr>\n",
       "    <tr>\n",
       "      <th>2</th>\n",
       "      <td>Agriculture, forestry and fishing (A)</td>\n",
       "      <td>½ hour - &lt; ¾ hour</td>\n",
       "      <td>30</td>\n",
       "      <td>5557</td>\n",
       "      <td>2.7</td>\n",
       "      <td>2</td>\n",
       "    </tr>\n",
       "    <tr>\n",
       "      <th>3</th>\n",
       "      <td>Agriculture, forestry and fishing (A)</td>\n",
       "      <td>¾ hour - &lt; 1 hour</td>\n",
       "      <td>45</td>\n",
       "      <td>1307</td>\n",
       "      <td>8.1</td>\n",
       "      <td>2</td>\n",
       "    </tr>\n",
       "    <tr>\n",
       "      <th>4</th>\n",
       "      <td>Agriculture, forestry and fishing (A)</td>\n",
       "      <td>1 hour - &lt; 1½ hours</td>\n",
       "      <td>60</td>\n",
       "      <td>1878</td>\n",
       "      <td>18.9</td>\n",
       "      <td>2</td>\n",
       "    </tr>\n",
       "    <tr>\n",
       "      <th>...</th>\n",
       "      <td>...</td>\n",
       "      <td>...</td>\n",
       "      <td>...</td>\n",
       "      <td>...</td>\n",
       "      <td>...</td>\n",
       "      <td>...</td>\n",
       "    </tr>\n",
       "    <tr>\n",
       "      <th>127</th>\n",
       "      <td>Industry not stated</td>\n",
       "      <td>¼ hour - &lt; ½ hour</td>\n",
       "      <td>15</td>\n",
       "      <td>19896</td>\n",
       "      <td>28.4</td>\n",
       "      <td>23</td>\n",
       "    </tr>\n",
       "    <tr>\n",
       "      <th>128</th>\n",
       "      <td>Industry not stated</td>\n",
       "      <td>½ hour - &lt; ¾ hour</td>\n",
       "      <td>30</td>\n",
       "      <td>16484</td>\n",
       "      <td>36.8</td>\n",
       "      <td>23</td>\n",
       "    </tr>\n",
       "    <tr>\n",
       "      <th>129</th>\n",
       "      <td>Industry not stated</td>\n",
       "      <td>¾ hour - &lt; 1 hour</td>\n",
       "      <td>45</td>\n",
       "      <td>4542</td>\n",
       "      <td>42.1</td>\n",
       "      <td>23</td>\n",
       "    </tr>\n",
       "    <tr>\n",
       "      <th>130</th>\n",
       "      <td>Industry not stated</td>\n",
       "      <td>1 hour - &lt; 1½ hours</td>\n",
       "      <td>60</td>\n",
       "      <td>6206</td>\n",
       "      <td>61.6</td>\n",
       "      <td>23</td>\n",
       "    </tr>\n",
       "    <tr>\n",
       "      <th>131</th>\n",
       "      <td>Industry not stated</td>\n",
       "      <td>1½ hours and over</td>\n",
       "      <td>90</td>\n",
       "      <td>2550</td>\n",
       "      <td>67.5</td>\n",
       "      <td>23</td>\n",
       "    </tr>\n",
       "  </tbody>\n",
       "</table>\n",
       "<p>132 rows × 6 columns</p>\n",
       "</div>"
      ],
      "text/plain": [
       "                    Broad_Industrial_Group      Travelling_Time  \\\n",
       "0    Agriculture, forestry and fishing (A)             < ¼ hour   \n",
       "1    Agriculture, forestry and fishing (A)    ¼ hour - < ½ hour   \n",
       "2    Agriculture, forestry and fishing (A)    ½ hour - < ¾ hour   \n",
       "3    Agriculture, forestry and fishing (A)    ¾ hour - < 1 hour   \n",
       "4    Agriculture, forestry and fishing (A)  1 hour - < 1½ hours   \n",
       "..                                     ...                  ...   \n",
       "127                    Industry not stated    ¼ hour - < ½ hour   \n",
       "128                    Industry not stated    ½ hour - < ¾ hour   \n",
       "129                    Industry not stated    ¾ hour - < 1 hour   \n",
       "130                    Industry not stated  1 hour - < 1½ hours   \n",
       "131                    Industry not stated    1½ hours and over   \n",
       "\n",
       "     Travelling_Time_Number  Persons_at_work_2016_VALUE  \\\n",
       "0                         1                       19577   \n",
       "1                        15                        9910   \n",
       "2                        30                        5557   \n",
       "3                        45                        1307   \n",
       "4                        60                        1878   \n",
       "..                      ...                         ...   \n",
       "127                      15                       19896   \n",
       "128                      30                       16484   \n",
       "129                      45                        4542   \n",
       "130                      60                        6206   \n",
       "131                      90                        2550   \n",
       "\n",
       "     Percentage_change_of_persons_at_work_2011_2016  \\\n",
       "0                                              -4.0   \n",
       "1                                               3.3   \n",
       "2                                               2.7   \n",
       "3                                               8.1   \n",
       "4                                              18.9   \n",
       "..                                              ...   \n",
       "127                                            28.4   \n",
       "128                                            36.8   \n",
       "129                                            42.1   \n",
       "130                                            61.6   \n",
       "131                                            67.5   \n",
       "\n",
       "     Broad_Industrial_Group_Recoded  \n",
       "0                                 2  \n",
       "1                                 2  \n",
       "2                                 2  \n",
       "3                                 2  \n",
       "4                                 2  \n",
       "..                              ...  \n",
       "127                              23  \n",
       "128                              23  \n",
       "129                              23  \n",
       "130                              23  \n",
       "131                              23  \n",
       "\n",
       "[132 rows x 6 columns]"
      ]
     },
     "execution_count": 266,
     "metadata": {},
     "output_type": "execute_result"
    }
   ],
   "source": [
    "IEDataset"
   ]
  },
  {
   "cell_type": "code",
   "execution_count": 267,
   "id": "0abf3993",
   "metadata": {},
   "outputs": [],
   "source": [
    "RFM = IEDataset [ [ \"Broad_Industrial_Group\", \"Travelling_Time_Number\", \"Persons_at_work_2016_VALUE\", \"Percentage_change_of_persons_at_work_2011_2016\" ]].copy ()"
   ]
  },
  {
   "cell_type": "code",
   "execution_count": 268,
   "id": "ecf217ed",
   "metadata": {},
   "outputs": [],
   "source": [
    "RFM_norm1 = IEDataset [ [ \"Travelling_Time_Number\", \"Persons_at_work_2016_VALUE\", \"Percentage_change_of_persons_at_work_2011_2016\" ]].copy ()"
   ]
  },
  {
   "cell_type": "code",
   "execution_count": 269,
   "id": "a7c58239",
   "metadata": {},
   "outputs": [
    {
     "data": {
      "text/html": [
       "<div>\n",
       "<style scoped>\n",
       "    .dataframe tbody tr th:only-of-type {\n",
       "        vertical-align: middle;\n",
       "    }\n",
       "\n",
       "    .dataframe tbody tr th {\n",
       "        vertical-align: top;\n",
       "    }\n",
       "\n",
       "    .dataframe thead th {\n",
       "        text-align: right;\n",
       "    }\n",
       "</style>\n",
       "<table border=\"1\" class=\"dataframe\">\n",
       "  <thead>\n",
       "    <tr style=\"text-align: right;\">\n",
       "      <th></th>\n",
       "      <th>Travelling_Time_Number</th>\n",
       "      <th>Persons_at_work_2016_VALUE</th>\n",
       "      <th>Percentage_change_of_persons_at_work_2011_2016</th>\n",
       "    </tr>\n",
       "  </thead>\n",
       "  <tbody>\n",
       "    <tr>\n",
       "      <th>0</th>\n",
       "      <td>1</td>\n",
       "      <td>19577</td>\n",
       "      <td>-4.0</td>\n",
       "    </tr>\n",
       "    <tr>\n",
       "      <th>1</th>\n",
       "      <td>15</td>\n",
       "      <td>9910</td>\n",
       "      <td>3.3</td>\n",
       "    </tr>\n",
       "    <tr>\n",
       "      <th>2</th>\n",
       "      <td>30</td>\n",
       "      <td>5557</td>\n",
       "      <td>2.7</td>\n",
       "    </tr>\n",
       "    <tr>\n",
       "      <th>3</th>\n",
       "      <td>45</td>\n",
       "      <td>1307</td>\n",
       "      <td>8.1</td>\n",
       "    </tr>\n",
       "    <tr>\n",
       "      <th>4</th>\n",
       "      <td>60</td>\n",
       "      <td>1878</td>\n",
       "      <td>18.9</td>\n",
       "    </tr>\n",
       "    <tr>\n",
       "      <th>...</th>\n",
       "      <td>...</td>\n",
       "      <td>...</td>\n",
       "      <td>...</td>\n",
       "    </tr>\n",
       "    <tr>\n",
       "      <th>127</th>\n",
       "      <td>15</td>\n",
       "      <td>19896</td>\n",
       "      <td>28.4</td>\n",
       "    </tr>\n",
       "    <tr>\n",
       "      <th>128</th>\n",
       "      <td>30</td>\n",
       "      <td>16484</td>\n",
       "      <td>36.8</td>\n",
       "    </tr>\n",
       "    <tr>\n",
       "      <th>129</th>\n",
       "      <td>45</td>\n",
       "      <td>4542</td>\n",
       "      <td>42.1</td>\n",
       "    </tr>\n",
       "    <tr>\n",
       "      <th>130</th>\n",
       "      <td>60</td>\n",
       "      <td>6206</td>\n",
       "      <td>61.6</td>\n",
       "    </tr>\n",
       "    <tr>\n",
       "      <th>131</th>\n",
       "      <td>90</td>\n",
       "      <td>2550</td>\n",
       "      <td>67.5</td>\n",
       "    </tr>\n",
       "  </tbody>\n",
       "</table>\n",
       "<p>132 rows × 3 columns</p>\n",
       "</div>"
      ],
      "text/plain": [
       "     Travelling_Time_Number  Persons_at_work_2016_VALUE  \\\n",
       "0                         1                       19577   \n",
       "1                        15                        9910   \n",
       "2                        30                        5557   \n",
       "3                        45                        1307   \n",
       "4                        60                        1878   \n",
       "..                      ...                         ...   \n",
       "127                      15                       19896   \n",
       "128                      30                       16484   \n",
       "129                      45                        4542   \n",
       "130                      60                        6206   \n",
       "131                      90                        2550   \n",
       "\n",
       "     Percentage_change_of_persons_at_work_2011_2016  \n",
       "0                                              -4.0  \n",
       "1                                               3.3  \n",
       "2                                               2.7  \n",
       "3                                               8.1  \n",
       "4                                              18.9  \n",
       "..                                              ...  \n",
       "127                                            28.4  \n",
       "128                                            36.8  \n",
       "129                                            42.1  \n",
       "130                                            61.6  \n",
       "131                                            67.5  \n",
       "\n",
       "[132 rows x 3 columns]"
      ]
     },
     "execution_count": 269,
     "metadata": {},
     "output_type": "execute_result"
    }
   ],
   "source": [
    "RFM_norm1"
   ]
  },
  {
   "cell_type": "code",
   "execution_count": 270,
   "id": "0ab65b9e",
   "metadata": {},
   "outputs": [],
   "source": [
    "#Copy of the data before it's normalised in the next step\n",
    "RFM_norm2 = RFM_norm1"
   ]
  },
  {
   "cell_type": "code",
   "execution_count": 271,
   "id": "64e13db6",
   "metadata": {},
   "outputs": [],
   "source": [
    "# standardise all parameters\n",
    "from sklearn.preprocessing import StandardScaler\n",
    "standard_scaler = StandardScaler()\n",
    "RFM_norm1 = standard_scaler.fit_transform(RFM_norm1)"
   ]
  },
  {
   "cell_type": "code",
   "execution_count": 272,
   "id": "39e3f203",
   "metadata": {},
   "outputs": [
    {
     "data": {
      "text/plain": [
       "array([[-1.33417245,  0.38836808, -1.08957064],\n",
       "       [-0.85727676, -0.18510695, -0.71609658],\n",
       "       [-0.3463171 , -0.44333978, -0.74679308],\n",
       "       [ 0.16464256, -0.69546235, -0.4705246 ],\n",
       "       [ 0.67560222, -0.66158894,  0.08201236],\n",
       "       [ 1.69752154, -0.7273781 , -0.33239036],\n",
       "       [-1.33417245, -0.69914038, -1.57048244],\n",
       "       [-0.85727676, -0.67102129, -1.31979437],\n",
       "       [-0.3463171 , -0.71551351, -1.02817764],\n",
       "       [ 0.16464256, -0.75585312, -1.15607972],\n",
       "       [ 0.67560222, -0.75620906,  0.13317319],\n",
       "       [ 1.69752154, -0.76487021,  0.25595918],\n",
       "       [-1.33417245,  2.08417413, -0.77237349],\n",
       "       [-0.85727676,  3.1203089 , -0.54726584],\n",
       "       [-0.3463171 ,  1.73897384, -0.17890787],\n",
       "       [ 0.16464256,  0.09365162,  0.0103872 ],\n",
       "       [ 0.67560222, -0.02588413,  0.48106683],\n",
       "       [ 1.69752154, -0.51642567,  0.23549485],\n",
       "       [-1.33417245, -0.68401302, -0.80306999],\n",
       "       [-0.85727676, -0.57367232, -0.63935534],\n",
       "       [-0.3463171 , -0.57705373, -0.25053303],\n",
       "       [ 0.16464256, -0.68715714,  0.2508431 ],\n",
       "       [ 0.67560222, -0.67541119,  0.94663038],\n",
       "       [ 1.69752154, -0.73075951,  1.80101623],\n",
       "       [-1.33417245, -0.64284289, -1.02817764],\n",
       "       [-0.85727676, -0.59514723, -0.97701681],\n",
       "       [-0.3463171 , -0.64159711, -0.34262253],\n",
       "       [ 0.16464256, -0.72565774,  0.73687098],\n",
       "       [ 0.67560222, -0.71859831,  1.34056877],\n",
       "       [ 1.69752154, -0.74956489,  2.0824008 ],\n",
       "       [-1.33417245, -0.11000409, -1.03329372],\n",
       "       [-0.85727676,  0.39708855, -0.86446299],\n",
       "       [-0.3463171 ,  0.78867939, -0.1993722 ],\n",
       "       [ 0.16464256, -0.29443916,  0.66524582],\n",
       "       [ 0.67560222,  0.17824616,  1.73450716],\n",
       "       [ 1.69752154, -0.32344809,  2.31262453],\n",
       "       [-1.33417245,  4.00279721, -1.07933847],\n",
       "       [-0.85727676,  4.21072418, -0.92585598],\n",
       "       [-0.3463171 ,  2.14592933, -0.54726584],\n",
       "       [ 0.16464256,  0.13915233, -0.54214976],\n",
       "       [ 0.67560222,  0.08878714,  0.14340536],\n",
       "       [ 1.69752154, -0.48806929,  0.02061936],\n",
       "       [-1.33417245,  0.31136688, -1.12026714],\n",
       "       [-0.85727676,  0.68450828, -0.46029243],\n",
       "       [-0.3463171 ,  0.198238  , -0.24541695],\n",
       "       [ 0.16464256, -0.46244178, -0.32727428],\n",
       "       [ 0.67560222, -0.47009444,  0.09224453],\n",
       "       [ 1.69752154, -0.63928351,  0.18433402],\n",
       "       [-1.33417245,  1.63349762, -0.60865884],\n",
       "       [-0.85727676,  1.37698516, -0.20448829],\n",
       "       [-0.3463171 ,  0.35360482,  0.37874517],\n",
       "       [ 0.16464256, -0.4609587 ,  0.32246826],\n",
       "       [ 0.67560222, -0.48996763,  1.03871987],\n",
       "       [ 1.69752154, -0.68614865,  0.88523738],\n",
       "       [-1.33417245, -0.13539431, -0.2300687 ],\n",
       "       [-0.85727676,  0.60181208,  0.36851301],\n",
       "       [-0.3463171 ,  0.52682786,  0.72663881],\n",
       "       [ 0.16464256, -0.18670867,  1.27917577],\n",
       "       [ 0.67560222, -0.16108115,  1.84706098],\n",
       "       [ 1.69752154, -0.54294303,  1.65264983],\n",
       "       [-1.33417245, -0.18065773, -1.62164327],\n",
       "       [-0.85727676,  0.54171792, -1.36072303],\n",
       "       [-0.3463171 ,  0.6258972 , -1.10491889],\n",
       "       [ 0.16464256, -0.02659601, -0.84911474],\n",
       "       [ 0.67560222,  0.02922689, -0.07147013],\n",
       "       [ 1.69752154, -0.52461224, -0.0203093 ],\n",
       "       [-1.33417245, -0.65097013, -1.24305313],\n",
       "       [-0.85727676, -0.63524955, -0.77237349],\n",
       "       [-0.3463171 , -0.66811447, -0.46029243],\n",
       "       [ 0.16464256, -0.73319175, -0.19425612],\n",
       "       [ 0.67560222, -0.72915779,  0.51687941],\n",
       "       [ 1.69752154, -0.76059896,  1.91868614],\n",
       "       [-1.33417245,  0.24539975, -0.6495875 ],\n",
       "       [-0.85727676,  0.95709727, -0.07658621],\n",
       "       [-0.3463171 ,  0.72366143,  0.31223609],\n",
       "       [ 0.16464256, -0.11759743,  0.67547798],\n",
       "       [ 0.67560222, -0.06527458,  1.48381909],\n",
       "       [ 1.69752154, -0.51891723,  1.73962324],\n",
       "       [-1.33417245, -0.01485006, -0.65981967],\n",
       "       [-0.85727676,  0.45326739, -0.17379179],\n",
       "       [-0.3463171 ,  0.2067805 ,  0.12805711],\n",
       "       [ 0.16464256, -0.4356278 ,  0.45548642],\n",
       "       [ 0.67560222, -0.3854999 ,  0.90570172],\n",
       "       [ 1.69752154, -0.63969877,  0.66524582],\n",
       "       [-1.33417245,  0.31302792, -1.45792861],\n",
       "       [-0.85727676,  1.02158132, -1.42211603],\n",
       "       [-0.3463171 ,  0.81045092, -1.18677621],\n",
       "       [ 0.16464256, -0.09392757, -1.10491889],\n",
       "       [ 0.67560222, -0.14280968, -0.55749801],\n",
       "       [ 1.69752154, -0.56643492, -0.48075677],\n",
       "       [-1.33417245,  1.94784997, -0.83376649],\n",
       "       [-0.85727676,  2.67912407, -0.72632875],\n",
       "       [-0.3463171 ,  1.35740858, -0.41936377],\n",
       "       [ 0.16464256,  0.00721808, -0.19425612],\n",
       "       [ 0.67560222, -0.14939453,  0.38897734],\n",
       "       [ 1.69752154, -0.56346877,  0.52199549],\n",
       "       [-1.33417245,  2.3058047 , -0.74679308],\n",
       "       [-0.85727676,  3.61856242, -0.33239036],\n",
       "       [-0.3463171 ,  2.14432761,  0.0410837 ],\n",
       "       [ 0.16464256,  0.26367122,  0.28665568],\n",
       "       [ 0.67560222,  0.08297349,  0.88523738],\n",
       "       [ 1.69752154, -0.5154765 ,  0.69594232],\n",
       "       [-1.33417245, -0.26916758, -0.61377492],\n",
       "       [-0.85727676, -0.20557337, -0.58819451],\n",
       "       [-0.3463171 , -0.41041554, -0.39889944],\n",
       "       [ 0.16464256, -0.64669888, -0.01519322],\n",
       "       [ 0.67560222, -0.63857164,  0.75733531],\n",
       "       [ 1.69752154, -0.71770846,  0.86988914],\n",
       "       [-1.33417245, -0.03834196, -0.73656091],\n",
       "       [-0.85727676, -0.06141859, -0.42447985],\n",
       "       [-0.3463171 , -0.35085529, -0.4398281 ],\n",
       "       [ 0.16464256, -0.64450393, -0.67005183],\n",
       "       [ 0.67560222, -0.64824128, -0.1993722 ],\n",
       "       [ 1.69752154, -0.73289514,  0.19968227],\n",
       "       [-1.33417245, -0.74659874,  0.39409342],\n",
       "       [-0.85727676, -0.74333598,  1.20755061],\n",
       "       [-0.3463171 , -0.75561583,  1.45823868],\n",
       "       [ 0.16464256, -0.76736178,  3.53025227],\n",
       "       [ 0.67560222, -0.76759907,  0.84430872],\n",
       "       [ 1.69752154, -0.77216694, -1.22770488],\n",
       "       [-1.33417245, -0.76724313, -2.67044027],\n",
       "       [-0.85727676, -0.76261594, -1.71884884],\n",
       "       [-0.3463171 , -0.76226   , -0.55238193],\n",
       "       [ 0.16464256, -0.76789568,  0.10759277],\n",
       "       [ 0.67560222, -0.76712448,  1.03360379],\n",
       "       [ 1.69752154, -0.77121777, -0.88492732],\n",
       "       [-1.33417245,  0.22297567,  0.51687941],\n",
       "       [-0.85727676,  0.4072921 ,  0.56804024],\n",
       "       [-0.3463171 ,  0.20488217,  0.99779121],\n",
       "       [ 0.16464256, -0.50355259,  1.26894361],\n",
       "       [ 0.67560222, -0.40483918,  2.26657978],\n",
       "       [ 1.69752154, -0.62172392,  2.56842868]])"
      ]
     },
     "execution_count": 272,
     "metadata": {},
     "output_type": "execute_result"
    }
   ],
   "source": [
    "RFM_norm1"
   ]
  },
  {
   "cell_type": "markdown",
   "id": "a33a03d0",
   "metadata": {},
   "source": [
    "# K-Means with some K"
   ]
  },
  {
   "cell_type": "code",
   "execution_count": 273,
   "id": "6cfcf74c",
   "metadata": {},
   "outputs": [
    {
     "data": {
      "text/html": [
       "<div>\n",
       "<style scoped>\n",
       "    .dataframe tbody tr th:only-of-type {\n",
       "        vertical-align: middle;\n",
       "    }\n",
       "\n",
       "    .dataframe tbody tr th {\n",
       "        vertical-align: top;\n",
       "    }\n",
       "\n",
       "    .dataframe thead th {\n",
       "        text-align: right;\n",
       "    }\n",
       "</style>\n",
       "<table border=\"1\" class=\"dataframe\">\n",
       "  <thead>\n",
       "    <tr style=\"text-align: right;\">\n",
       "      <th></th>\n",
       "      <th>Frequency</th>\n",
       "      <th>Amount</th>\n",
       "      <th>Recency</th>\n",
       "    </tr>\n",
       "  </thead>\n",
       "  <tbody>\n",
       "    <tr>\n",
       "      <th>0</th>\n",
       "      <td>-1.334172</td>\n",
       "      <td>0.388368</td>\n",
       "      <td>-1.089571</td>\n",
       "    </tr>\n",
       "    <tr>\n",
       "      <th>1</th>\n",
       "      <td>-0.857277</td>\n",
       "      <td>-0.185107</td>\n",
       "      <td>-0.716097</td>\n",
       "    </tr>\n",
       "    <tr>\n",
       "      <th>2</th>\n",
       "      <td>-0.346317</td>\n",
       "      <td>-0.443340</td>\n",
       "      <td>-0.746793</td>\n",
       "    </tr>\n",
       "    <tr>\n",
       "      <th>3</th>\n",
       "      <td>0.164643</td>\n",
       "      <td>-0.695462</td>\n",
       "      <td>-0.470525</td>\n",
       "    </tr>\n",
       "    <tr>\n",
       "      <th>4</th>\n",
       "      <td>0.675602</td>\n",
       "      <td>-0.661589</td>\n",
       "      <td>0.082012</td>\n",
       "    </tr>\n",
       "  </tbody>\n",
       "</table>\n",
       "</div>"
      ],
      "text/plain": [
       "   Frequency    Amount   Recency\n",
       "0  -1.334172  0.388368 -1.089571\n",
       "1  -0.857277 -0.185107 -0.716097\n",
       "2  -0.346317 -0.443340 -0.746793\n",
       "3   0.164643 -0.695462 -0.470525\n",
       "4   0.675602 -0.661589  0.082012"
      ]
     },
     "execution_count": 273,
     "metadata": {},
     "output_type": "execute_result"
    }
   ],
   "source": [
    "RFM_norm1 = pd.DataFrame(RFM_norm1)\n",
    "RFM_norm1.columns = ['Frequency','Amount','Recency']\n",
    "RFM_norm1.head()"
   ]
  },
  {
   "cell_type": "code",
   "execution_count": 274,
   "id": "ea5dc447",
   "metadata": {},
   "outputs": [
    {
     "data": {
      "text/html": [
       "<style>#sk-container-id-13 {color: black;}#sk-container-id-13 pre{padding: 0;}#sk-container-id-13 div.sk-toggleable {background-color: white;}#sk-container-id-13 label.sk-toggleable__label {cursor: pointer;display: block;width: 100%;margin-bottom: 0;padding: 0.3em;box-sizing: border-box;text-align: center;}#sk-container-id-13 label.sk-toggleable__label-arrow:before {content: \"▸\";float: left;margin-right: 0.25em;color: #696969;}#sk-container-id-13 label.sk-toggleable__label-arrow:hover:before {color: black;}#sk-container-id-13 div.sk-estimator:hover label.sk-toggleable__label-arrow:before {color: black;}#sk-container-id-13 div.sk-toggleable__content {max-height: 0;max-width: 0;overflow: hidden;text-align: left;background-color: #f0f8ff;}#sk-container-id-13 div.sk-toggleable__content pre {margin: 0.2em;color: black;border-radius: 0.25em;background-color: #f0f8ff;}#sk-container-id-13 input.sk-toggleable__control:checked~div.sk-toggleable__content {max-height: 200px;max-width: 100%;overflow: auto;}#sk-container-id-13 input.sk-toggleable__control:checked~label.sk-toggleable__label-arrow:before {content: \"▾\";}#sk-container-id-13 div.sk-estimator input.sk-toggleable__control:checked~label.sk-toggleable__label {background-color: #d4ebff;}#sk-container-id-13 div.sk-label input.sk-toggleable__control:checked~label.sk-toggleable__label {background-color: #d4ebff;}#sk-container-id-13 input.sk-hidden--visually {border: 0;clip: rect(1px 1px 1px 1px);clip: rect(1px, 1px, 1px, 1px);height: 1px;margin: -1px;overflow: hidden;padding: 0;position: absolute;width: 1px;}#sk-container-id-13 div.sk-estimator {font-family: monospace;background-color: #f0f8ff;border: 1px dotted black;border-radius: 0.25em;box-sizing: border-box;margin-bottom: 0.5em;}#sk-container-id-13 div.sk-estimator:hover {background-color: #d4ebff;}#sk-container-id-13 div.sk-parallel-item::after {content: \"\";width: 100%;border-bottom: 1px solid gray;flex-grow: 1;}#sk-container-id-13 div.sk-label:hover label.sk-toggleable__label {background-color: #d4ebff;}#sk-container-id-13 div.sk-serial::before {content: \"\";position: absolute;border-left: 1px solid gray;box-sizing: border-box;top: 0;bottom: 0;left: 50%;z-index: 0;}#sk-container-id-13 div.sk-serial {display: flex;flex-direction: column;align-items: center;background-color: white;padding-right: 0.2em;padding-left: 0.2em;position: relative;}#sk-container-id-13 div.sk-item {position: relative;z-index: 1;}#sk-container-id-13 div.sk-parallel {display: flex;align-items: stretch;justify-content: center;background-color: white;position: relative;}#sk-container-id-13 div.sk-item::before, #sk-container-id-13 div.sk-parallel-item::before {content: \"\";position: absolute;border-left: 1px solid gray;box-sizing: border-box;top: 0;bottom: 0;left: 50%;z-index: -1;}#sk-container-id-13 div.sk-parallel-item {display: flex;flex-direction: column;z-index: 1;position: relative;background-color: white;}#sk-container-id-13 div.sk-parallel-item:first-child::after {align-self: flex-end;width: 50%;}#sk-container-id-13 div.sk-parallel-item:last-child::after {align-self: flex-start;width: 50%;}#sk-container-id-13 div.sk-parallel-item:only-child::after {width: 0;}#sk-container-id-13 div.sk-dashed-wrapped {border: 1px dashed gray;margin: 0 0.4em 0.5em 0.4em;box-sizing: border-box;padding-bottom: 0.4em;background-color: white;}#sk-container-id-13 div.sk-label label {font-family: monospace;font-weight: bold;display: inline-block;line-height: 1.2em;}#sk-container-id-13 div.sk-label-container {text-align: center;}#sk-container-id-13 div.sk-container {/* jupyter's `normalize.less` sets `[hidden] { display: none; }` but bootstrap.min.css set `[hidden] { display: none !important; }` so we also need the `!important` here to be able to override the default hidden behavior on the sphinx rendered scikit-learn.org. See: https://github.com/scikit-learn/scikit-learn/issues/21755 */display: inline-block !important;position: relative;}#sk-container-id-13 div.sk-text-repr-fallback {display: none;}</style><div id=\"sk-container-id-13\" class=\"sk-top-container\"><div class=\"sk-text-repr-fallback\"><pre>KMeans(max_iter=500, n_clusters=3)</pre><b>In a Jupyter environment, please rerun this cell to show the HTML representation or trust the notebook. <br />On GitHub, the HTML representation is unable to render, please try loading this page with nbviewer.org.</b></div><div class=\"sk-container\" hidden><div class=\"sk-item\"><div class=\"sk-estimator sk-toggleable\"><input class=\"sk-toggleable__control sk-hidden--visually\" id=\"sk-estimator-id-23\" type=\"checkbox\" checked><label for=\"sk-estimator-id-23\" class=\"sk-toggleable__label sk-toggleable__label-arrow\">KMeans</label><div class=\"sk-toggleable__content\"><pre>KMeans(max_iter=500, n_clusters=3)</pre></div></div></div></div></div>"
      ],
      "text/plain": [
       "KMeans(max_iter=500, n_clusters=3)"
      ]
     },
     "execution_count": 274,
     "metadata": {},
     "output_type": "execute_result"
    }
   ],
   "source": [
    "# Kmeans\n",
    "model_clus5 = KMeans(n_clusters = 3, max_iter=500)\n",
    "model_clus5.fit(RFM_norm1)"
   ]
  },
  {
   "cell_type": "markdown",
   "id": "0232d349",
   "metadata": {},
   "source": [
    "## Silhouette Analysis\n",
    "\n",
    "$$\\text{silhouette score}=\\frac{p-q}{max(p,q)}$$\n",
    "\n",
    "$p$ is the mean distance to the points in the nearest cluster that the data point is not a part of\n",
    "\n",
    "$q$ is the mean intra-cluster distance to all the points in its own cluster.\n",
    "\n",
    "* The value of the silhouette score range lies between -1 to 1. \n",
    "\n",
    "* A score closer to 1 indicates that the data point is very similar to other data points in the cluster, \n",
    "\n",
    "* A score closer to -1 indicates that the data point is not similar to the data points in its cluster."
   ]
  },
  {
   "cell_type": "code",
   "execution_count": 275,
   "id": "ddba74ec",
   "metadata": {},
   "outputs": [],
   "source": [
    "from sklearn.metrics import silhouette_score\n",
    "sse_ = []\n",
    "for k in range(2, 15):\n",
    "    kmeans = KMeans(n_clusters=k).fit(RFM_norm1)\n",
    "    sse_.append([k, silhouette_score(RFM_norm1, kmeans.labels_)])"
   ]
  },
  {
   "cell_type": "code",
   "execution_count": 276,
   "id": "e22b9835",
   "metadata": {},
   "outputs": [
    {
     "data": {
      "image/png": "[encoded data removed]",
      "text/plain": [
       "<Figure size 640x480 with 1 Axes>"
      ]
     },
     "metadata": {},
     "output_type": "display_data"
    }
   ],
   "source": [
    "plt.plot(pd.DataFrame(sse_)[0], pd.DataFrame(sse_)[1]);"
   ]
  },
  {
   "cell_type": "markdown",
   "id": "7eb82f2a",
   "metadata": {},
   "source": [
    "## Sum of Squared Distances"
   ]
  },
  {
   "cell_type": "code",
   "execution_count": 277,
   "id": "56847d44",
   "metadata": {},
   "outputs": [
    {
     "data": {
      "text/plain": [
       "[<matplotlib.lines.Line2D at 0x228063e87d0>]"
      ]
     },
     "execution_count": 277,
     "metadata": {},
     "output_type": "execute_result"
    },
    {
     "data": {
      "image/png": "[encoded data removed]",
      "text/plain": [
       "<Figure size 640x480 with 1 Axes>"
      ]
     },
     "metadata": {},
     "output_type": "display_data"
    }
   ],
   "source": [
    "# sum of squared distances\n",
    "ssd = []\n",
    "for num_clusters in list(range(1,16)):\n",
    "    model_clus = KMeans(n_clusters = num_clusters, max_iter=500)\n",
    "    model_clus.fit(RFM_norm1)\n",
    "    ssd.append(model_clus.inertia_)\n",
    "\n",
    "plt.plot(ssd)"
   ]
  },
  {
   "cell_type": "markdown",
   "id": "f56db50c",
   "metadata": {},
   "source": [
    "# Results of Clsuters Formed"
   ]
  },
  {
   "cell_type": "code",
   "execution_count": 278,
   "id": "976f1054",
   "metadata": {},
   "outputs": [],
   "source": [
    "# analysis of clusters formed\n",
    "RFM = RFM_norm2\n",
    "RFM.index = pd.RangeIndex(len(RFM.index))\n",
    "RFM_km = pd.concat([RFM, pd.Series(model_clus5.labels_)], axis=1)\n",
    "RFM_km.columns = ['Commute_Duration', 'Sample_Size', 'Sample_Volatility', 'ClusterID']\n",
    "\n",
    "km_clusters_amount = \tpd.DataFrame(RFM_km.groupby([\"ClusterID\"]).Sample_Size.mean())\n",
    "km_clusters_frequency = \tpd.DataFrame(RFM_km.groupby([\"ClusterID\"]).Commute_Duration.mean())\n",
    "km_clusters_recency = \tpd.DataFrame(RFM_km.groupby([\"ClusterID\"]).Sample_Volatility.mean())"
   ]
  },
  {
   "cell_type": "code",
   "execution_count": 279,
   "id": "ccaf4e88",
   "metadata": {},
   "outputs": [
    {
     "data": {
      "text/html": [
       "<div>\n",
       "<style scoped>\n",
       "    .dataframe tbody tr th:only-of-type {\n",
       "        vertical-align: middle;\n",
       "    }\n",
       "\n",
       "    .dataframe tbody tr th {\n",
       "        vertical-align: top;\n",
       "    }\n",
       "\n",
       "    .dataframe thead th {\n",
       "        text-align: right;\n",
       "    }\n",
       "</style>\n",
       "<table border=\"1\" class=\"dataframe\">\n",
       "  <thead>\n",
       "    <tr style=\"text-align: right;\">\n",
       "      <th></th>\n",
       "      <th>ClusterID</th>\n",
       "      <th>Sample_Size</th>\n",
       "      <th>Commute_Duration</th>\n",
       "      <th>Sample_Volatility</th>\n",
       "    </tr>\n",
       "  </thead>\n",
       "  <tbody>\n",
       "    <tr>\n",
       "      <th>0</th>\n",
       "      <td>0</td>\n",
       "      <td>11419.566667</td>\n",
       "      <td>20.783333</td>\n",
       "      <td>5.028333</td>\n",
       "    </tr>\n",
       "    <tr>\n",
       "      <th>1</th>\n",
       "      <td>1</td>\n",
       "      <td>54409.714286</td>\n",
       "      <td>14.285714</td>\n",
       "      <td>6.292857</td>\n",
       "    </tr>\n",
       "    <tr>\n",
       "      <th>2</th>\n",
       "      <td>2</td>\n",
       "      <td>4708.500000</td>\n",
       "      <td>66.465517</td>\n",
       "      <td>32.644828</td>\n",
       "    </tr>\n",
       "  </tbody>\n",
       "</table>\n",
       "</div>"
      ],
      "text/plain": [
       "   ClusterID   Sample_Size  Commute_Duration  Sample_Volatility\n",
       "0          0  11419.566667         20.783333           5.028333\n",
       "1          1  54409.714286         14.285714           6.292857\n",
       "2          2   4708.500000         66.465517          32.644828"
      ]
     },
     "execution_count": 279,
     "metadata": {},
     "output_type": "execute_result"
    }
   ],
   "source": [
    "df = pd.concat([pd.Series([0,1,2]), km_clusters_amount, km_clusters_frequency, km_clusters_recency], axis=1)\n",
    "df.columns = [\"ClusterID\", \"Sample_Size\", \"Commute_Duration\", \"Sample_Volatility\"]\n",
    "df.head()"
   ]
  },
  {
   "cell_type": "code",
   "execution_count": 280,
   "id": "74ad14b9",
   "metadata": {},
   "outputs": [
    {
     "data": {
      "text/plain": [
       "<Axes: xlabel='ClusterID', ylabel='Sample_Size'>"
      ]
     },
     "execution_count": 280,
     "metadata": {},
     "output_type": "execute_result"
    },
    {
     "data": {
      "image/png": "[encoded data removed]",
      "text/plain": [
       "<Figure size 640x480 with 1 Axes>"
      ]
     },
     "metadata": {},
     "output_type": "display_data"
    }
   ],
   "source": [
    "sns.barplot(x=df.ClusterID, y=df.Sample_Size)"
   ]
  },
  {
   "cell_type": "code",
   "execution_count": 281,
   "id": "8e258ddf",
   "metadata": {},
   "outputs": [
    {
     "data": {
      "text/plain": [
       "<Axes: xlabel='ClusterID', ylabel='Commute_Duration'>"
      ]
     },
     "execution_count": 281,
     "metadata": {},
     "output_type": "execute_result"
    },
    {
     "data": {
      "image/png": "[encoded data removed]",
      "text/plain": [
       "<Figure size 640x480 with 1 Axes>"
      ]
     },
     "metadata": {},
     "output_type": "display_data"
    }
   ],
   "source": [
    "sns.barplot(x=df.ClusterID, y=df.Commute_Duration)"
   ]
  },
  {
   "cell_type": "code",
   "execution_count": 282,
   "id": "67c89294",
   "metadata": {},
   "outputs": [
    {
     "data": {
      "text/plain": [
       "<Axes: xlabel='ClusterID', ylabel='Sample_Volatility'>"
      ]
     },
     "execution_count": 282,
     "metadata": {},
     "output_type": "execute_result"
    },
    {
     "data": {
      "image/png": "[encoded data removed]",
      "text/plain": [
       "<Figure size 640x480 with 1 Axes>"
      ]
     },
     "metadata": {},
     "output_type": "display_data"
    }
   ],
   "source": [
    "sns.barplot(x=df.ClusterID, y=df.Sample_Volatility)"
   ]
  },
  {
   "cell_type": "markdown",
   "id": "c8f94bb5",
   "metadata": {},
   "source": [
    "See Project Submission for discussion of the 3 clusters found in the above clustering exercises."
   ]
  },
  {
   "cell_type": "markdown",
   "id": "6c3fdd78",
   "metadata": {},
   "source": [
    "# GridSearchCV: SVC"
   ]
  },
  {
   "cell_type": "code",
   "execution_count": 283,
   "id": "bc7c5130",
   "metadata": {},
   "outputs": [],
   "source": [
    "# Load the dataset and split it into training and testing sets\n",
    "#X, y = load_iris(return_X_y=True)\n",
    "y = IEDataset [ [ \"Broad_Industrial_Group_Recoded\" ]].copy ()\n",
    "y = y.to_numpy()\n",
    "y = y.reshape((-1,))\n",
    "X = RFM_norm1\n",
    "\n",
    "\n",
    "X_train, X_test, y_train, y_test = train_test_split(X, y, test_size=0.4, random_state=42)"
   ]
  },
  {
   "cell_type": "code",
   "execution_count": 284,
   "id": "ef0d4da1",
   "metadata": {},
   "outputs": [
    {
     "data": {
      "text/plain": [
       "(132, 3)"
      ]
     },
     "execution_count": 284,
     "metadata": {},
     "output_type": "execute_result"
    }
   ],
   "source": [
    "X.shape"
   ]
  },
  {
   "cell_type": "code",
   "execution_count": 285,
   "id": "719ebd61",
   "metadata": {},
   "outputs": [
    {
     "data": {
      "text/plain": [
       "(132,)"
      ]
     },
     "execution_count": 285,
     "metadata": {},
     "output_type": "execute_result"
    }
   ],
   "source": [
    "y.shape"
   ]
  },
  {
   "cell_type": "code",
   "execution_count": 286,
   "id": "cd4e53be",
   "metadata": {},
   "outputs": [],
   "source": [
    "# Define the parameter grid\n",
    "param_grid = {'kernel': ['linear', 'rbf', 'poly', 'sigmoid'], 'C': [0.1, 1, 10, 100],'gamma': [0.01, 0.1, 1, 10], 'max_iter' : [1000]}"
   ]
  },
  {
   "cell_type": "code",
   "execution_count": 287,
   "id": "ce4d881a",
   "metadata": {},
   "outputs": [],
   "source": [
    "# Create a GridSearchCV object and fit it to the training data\n",
    "grid = GridSearchCV(SVC(), param_grid)"
   ]
  },
  {
   "cell_type": "code",
   "execution_count": 288,
   "id": "1bd9cff8",
   "metadata": {},
   "outputs": [
    {
     "data": {
      "text/plain": [
       "((79, 3), (53, 3), (79,), (53,))"
      ]
     },
     "execution_count": 288,
     "metadata": {},
     "output_type": "execute_result"
    }
   ],
   "source": [
    "X_train.shape, X_test.shape, y_train.shape, y_test.shape"
   ]
  },
  {
   "cell_type": "code",
   "execution_count": 289,
   "id": "aeaacdbd",
   "metadata": {},
   "outputs": [
    {
     "data": {
      "text/html": [
       "<style>#sk-container-id-14 {color: black;}#sk-container-id-14 pre{padding: 0;}#sk-container-id-14 div.sk-toggleable {background-color: white;}#sk-container-id-14 label.sk-toggleable__label {cursor: pointer;display: block;width: 100%;margin-bottom: 0;padding: 0.3em;box-sizing: border-box;text-align: center;}#sk-container-id-14 label.sk-toggleable__label-arrow:before {content: \"▸\";float: left;margin-right: 0.25em;color: #696969;}#sk-container-id-14 label.sk-toggleable__label-arrow:hover:before {color: black;}#sk-container-id-14 div.sk-estimator:hover label.sk-toggleable__label-arrow:before {color: black;}#sk-container-id-14 div.sk-toggleable__content {max-height: 0;max-width: 0;overflow: hidden;text-align: left;background-color: #f0f8ff;}#sk-container-id-14 div.sk-toggleable__content pre {margin: 0.2em;color: black;border-radius: 0.25em;background-color: #f0f8ff;}#sk-container-id-14 input.sk-toggleable__control:checked~div.sk-toggleable__content {max-height: 200px;max-width: 100%;overflow: auto;}#sk-container-id-14 input.sk-toggleable__control:checked~label.sk-toggleable__label-arrow:before {content: \"▾\";}#sk-container-id-14 div.sk-estimator input.sk-toggleable__control:checked~label.sk-toggleable__label {background-color: #d4ebff;}#sk-container-id-14 div.sk-label input.sk-toggleable__control:checked~label.sk-toggleable__label {background-color: #d4ebff;}#sk-container-id-14 input.sk-hidden--visually {border: 0;clip: rect(1px 1px 1px 1px);clip: rect(1px, 1px, 1px, 1px);height: 1px;margin: -1px;overflow: hidden;padding: 0;position: absolute;width: 1px;}#sk-container-id-14 div.sk-estimator {font-family: monospace;background-color: #f0f8ff;border: 1px dotted black;border-radius: 0.25em;box-sizing: border-box;margin-bottom: 0.5em;}#sk-container-id-14 div.sk-estimator:hover {background-color: #d4ebff;}#sk-container-id-14 div.sk-parallel-item::after {content: \"\";width: 100%;border-bottom: 1px solid gray;flex-grow: 1;}#sk-container-id-14 div.sk-label:hover label.sk-toggleable__label {background-color: #d4ebff;}#sk-container-id-14 div.sk-serial::before {content: \"\";position: absolute;border-left: 1px solid gray;box-sizing: border-box;top: 0;bottom: 0;left: 50%;z-index: 0;}#sk-container-id-14 div.sk-serial {display: flex;flex-direction: column;align-items: center;background-color: white;padding-right: 0.2em;padding-left: 0.2em;position: relative;}#sk-container-id-14 div.sk-item {position: relative;z-index: 1;}#sk-container-id-14 div.sk-parallel {display: flex;align-items: stretch;justify-content: center;background-color: white;position: relative;}#sk-container-id-14 div.sk-item::before, #sk-container-id-14 div.sk-parallel-item::before {content: \"\";position: absolute;border-left: 1px solid gray;box-sizing: border-box;top: 0;bottom: 0;left: 50%;z-index: -1;}#sk-container-id-14 div.sk-parallel-item {display: flex;flex-direction: column;z-index: 1;position: relative;background-color: white;}#sk-container-id-14 div.sk-parallel-item:first-child::after {align-self: flex-end;width: 50%;}#sk-container-id-14 div.sk-parallel-item:last-child::after {align-self: flex-start;width: 50%;}#sk-container-id-14 div.sk-parallel-item:only-child::after {width: 0;}#sk-container-id-14 div.sk-dashed-wrapped {border: 1px dashed gray;margin: 0 0.4em 0.5em 0.4em;box-sizing: border-box;padding-bottom: 0.4em;background-color: white;}#sk-container-id-14 div.sk-label label {font-family: monospace;font-weight: bold;display: inline-block;line-height: 1.2em;}#sk-container-id-14 div.sk-label-container {text-align: center;}#sk-container-id-14 div.sk-container {/* jupyter's `normalize.less` sets `[hidden] { display: none; }` but bootstrap.min.css set `[hidden] { display: none !important; }` so we also need the `!important` here to be able to override the default hidden behavior on the sphinx rendered scikit-learn.org. See: https://github.com/scikit-learn/scikit-learn/issues/21755 */display: inline-block !important;position: relative;}#sk-container-id-14 div.sk-text-repr-fallback {display: none;}</style><div id=\"sk-container-id-14\" class=\"sk-top-container\"><div class=\"sk-text-repr-fallback\"><pre>GridSearchCV(estimator=SVC(),\n",
       "             param_grid={&#x27;C&#x27;: [0.1, 1, 10, 100], &#x27;gamma&#x27;: [0.01, 0.1, 1, 10],\n",
       "                         &#x27;kernel&#x27;: [&#x27;linear&#x27;, &#x27;rbf&#x27;, &#x27;poly&#x27;, &#x27;sigmoid&#x27;],\n",
       "                         &#x27;max_iter&#x27;: [1000]})</pre><b>In a Jupyter environment, please rerun this cell to show the HTML representation or trust the notebook. <br />On GitHub, the HTML representation is unable to render, please try loading this page with nbviewer.org.</b></div><div class=\"sk-container\" hidden><div class=\"sk-item sk-dashed-wrapped\"><div class=\"sk-label-container\"><div class=\"sk-label sk-toggleable\"><input class=\"sk-toggleable__control sk-hidden--visually\" id=\"sk-estimator-id-24\" type=\"checkbox\" ><label for=\"sk-estimator-id-24\" class=\"sk-toggleable__label sk-toggleable__label-arrow\">GridSearchCV</label><div class=\"sk-toggleable__content\"><pre>GridSearchCV(estimator=SVC(),\n",
       "             param_grid={&#x27;C&#x27;: [0.1, 1, 10, 100], &#x27;gamma&#x27;: [0.01, 0.1, 1, 10],\n",
       "                         &#x27;kernel&#x27;: [&#x27;linear&#x27;, &#x27;rbf&#x27;, &#x27;poly&#x27;, &#x27;sigmoid&#x27;],\n",
       "                         &#x27;max_iter&#x27;: [1000]})</pre></div></div></div><div class=\"sk-parallel\"><div class=\"sk-parallel-item\"><div class=\"sk-item\"><div class=\"sk-label-container\"><div class=\"sk-label sk-toggleable\"><input class=\"sk-toggleable__control sk-hidden--visually\" id=\"sk-estimator-id-25\" type=\"checkbox\" ><label for=\"sk-estimator-id-25\" class=\"sk-toggleable__label sk-toggleable__label-arrow\">estimator: SVC</label><div class=\"sk-toggleable__content\"><pre>SVC()</pre></div></div></div><div class=\"sk-serial\"><div class=\"sk-item\"><div class=\"sk-estimator sk-toggleable\"><input class=\"sk-toggleable__control sk-hidden--visually\" id=\"sk-estimator-id-26\" type=\"checkbox\" ><label for=\"sk-estimator-id-26\" class=\"sk-toggleable__label sk-toggleable__label-arrow\">SVC</label><div class=\"sk-toggleable__content\"><pre>SVC()</pre></div></div></div></div></div></div></div></div></div></div>"
      ],
      "text/plain": [
       "GridSearchCV(estimator=SVC(),\n",
       "             param_grid={'C': [0.1, 1, 10, 100], 'gamma': [0.01, 0.1, 1, 10],\n",
       "                         'kernel': ['linear', 'rbf', 'poly', 'sigmoid'],\n",
       "                         'max_iter': [1000]})"
      ]
     },
     "execution_count": 289,
     "metadata": {},
     "output_type": "execute_result"
    }
   ],
   "source": [
    "grid.fit(X_train, y_train)"
   ]
  },
  {
   "cell_type": "code",
   "execution_count": 290,
   "id": "fa197a93",
   "metadata": {},
   "outputs": [
    {
     "name": "stdout",
     "output_type": "stream",
     "text": [
      "Best parameters: {'C': 100, 'gamma': 0.01, 'kernel': 'linear', 'max_iter': 1000}\n",
      "Best score: 0.215\n"
     ]
    }
   ],
   "source": [
    "# Print the best parameters and score\n",
    "print(\"Best parameters:\", grid.best_params_)\n",
    "print(\"Best score:\", grid.best_score_)"
   ]
  },
  {
   "cell_type": "code",
   "execution_count": 291,
   "id": "4ee16b1d",
   "metadata": {},
   "outputs": [],
   "source": [
    "# Predict on the test data using the best estimator\n",
    "y_pred = grid.predict(X_test)"
   ]
  },
  {
   "cell_type": "code",
   "execution_count": 292,
   "id": "c3f68a67",
   "metadata": {},
   "outputs": [
    {
     "ename": "TypeError",
     "evalue": "'numpy.float64' object is not callable",
     "output_type": "error",
     "traceback": [
      "\u001b[1;31m---------------------------------------------------------------------------\u001b[0m",
      "\u001b[1;31mTypeError\u001b[0m                                 Traceback (most recent call last)",
      "Cell \u001b[1;32mIn[292], line 2\u001b[0m\n\u001b[0;32m      1\u001b[0m \u001b[38;5;66;03m# Print the accuracy on the test data\u001b[39;00m\n\u001b[1;32m----> 2\u001b[0m \u001b[38;5;28mprint\u001b[39m(\u001b[38;5;124m\"\u001b[39m\u001b[38;5;124mAccuracy:\u001b[39m\u001b[38;5;124m\"\u001b[39m, accuracy_score(y_test, y_pred))\n",
      "\u001b[1;31mTypeError\u001b[0m: 'numpy.float64' object is not callable"
     ]
    }
   ],
   "source": [
    "# Print the accuracy on the test data\n",
    "print(\"Accuracy:\", accuracy_score(y_test, y_pred))"
   ]
  },
  {
   "cell_type": "markdown",
   "id": "afa87273",
   "metadata": {},
   "source": [
    "Different estimators are better suited for different types of data and different problems. \n",
    "We can see in the above from the SVC angle the linear model is the reccomended crtieria from Grid Search CV, \n",
    "but has a low accuracy score. SVC isn't looking good."
   ]
  },
  {
   "cell_type": "markdown",
   "id": "d2eaf8a2",
   "metadata": {},
   "source": [
    "# GridSearchCV: KMeans"
   ]
  },
  {
   "cell_type": "code",
   "execution_count": null,
   "id": "0b624480",
   "metadata": {},
   "outputs": [],
   "source": [
    "# Define parameter grid for KMeans\n",
    "param_grid = {\n",
    "    'kmeans__n_clusters': [2, 3, 4, 5],\n",
    "    'kmeans__init': ['k-means++', 'random'],\n",
    "    'kmeans__max_iter': [100, 200, 300]\n",
    "}"
   ]
  },
  {
   "cell_type": "code",
   "execution_count": null,
   "id": "1e5c48e9",
   "metadata": {},
   "outputs": [],
   "source": [
    "# Create pipeline with scaling and KMeans\n",
    "pipeline = Pipeline([\n",
    "    ('scaler', StandardScaler()),\n",
    "    ('kmeans', KMeans())\n",
    "])"
   ]
  },
  {
   "cell_type": "code",
   "execution_count": null,
   "id": "de694ff7",
   "metadata": {},
   "outputs": [],
   "source": [
    "# Initialize GridSearchCV with pipeline, parameter grid, and scoring function\n",
    "grid_search = GridSearchCV(pipeline, param_grid, cv=5)"
   ]
  },
  {
   "cell_type": "code",
   "execution_count": null,
   "id": "a7a81078",
   "metadata": {},
   "outputs": [],
   "source": [
    "# Fit GridSearchCV on data\n",
    "grid_search.fit(X_train, y_train)"
   ]
  },
  {
   "cell_type": "code",
   "execution_count": null,
   "id": "911f4fa7",
   "metadata": {},
   "outputs": [],
   "source": [
    "# Get best parameters and best estimator\n",
    "print(grid_search.best_params_)\n",
    "print(grid_search.best_estimator_)\n",
    "print(\"Best score:\", grid_search.best_score_)"
   ]
  },
  {
   "cell_type": "code",
   "execution_count": null,
   "id": "88f936b7",
   "metadata": {},
   "outputs": [],
   "source": [
    "# Predict on the test data using the best estimator\n",
    "y_pred = grid_search.predict(X_test)"
   ]
  },
  {
   "cell_type": "code",
   "execution_count": null,
   "id": "cc41bff6",
   "metadata": {},
   "outputs": [],
   "source": [
    "# Print the accuracy on the test data\n",
    "print(\"Accuracy:\", accuracy_score(y_test, y_pred))"
   ]
  },
  {
   "cell_type": "markdown",
   "id": "be78c387",
   "metadata": {},
   "source": [
    "The kmeans++ model was proffered by GridSearch CV, but let's look at doing this step by step given the small dataset \n",
    "and that that technically we don't expect huge patterns or trends to be observed in the data, \n",
    "but let's see what the modelling can provide us with-Perhaps some new insight we couldn't have seen otherwise without \n",
    "large computing power."
   ]
  },
  {
   "cell_type": "code",
   "execution_count": null,
   "id": "6cac3d66",
   "metadata": {},
   "outputs": [],
   "source": []
  }
 ],
 "metadata": {
  "kernelspec": {
   "display_name": "Python 3 (ipykernel)",
   "language": "python",
   "name": "python3"
  },
  "language_info": {
   "codemirror_mode": {
    "name": "ipython",
    "version": 3
   },
   "file_extension": ".py",
   "mimetype": "text/x-python",
   "name": "python",
   "nbconvert_exporter": "python",
   "pygments_lexer": "ipython3",
   "version": "3.11.5"
  }
 },
 "nbformat": 4,
 "nbformat_minor": 5
}
