{
 "cells": [
  {
   "cell_type": "markdown",
   "id": "d2da5ba8",
   "metadata": {},
   "source": [
    "# Import Libraries"
   ]
  },
  {
   "cell_type": "code",
   "execution_count": 8,
   "id": "bbcd67e1",
   "metadata": {},
   "outputs": [],
   "source": [
    "# IMPORTING LIBRARIES\n",
    "import pandas as pd\n",
    "import numpy as np\n",
    "\n",
    "#Statistical libraries\n",
    "import scipy.stats as stats\n",
    "from statsmodels.stats import weightstats\n",
    "from scipy.stats import levene\n",
    "import statsmodels.api as sm\n",
    "from statsmodels.formula.api import ols\n",
    "from scipy.stats import kruskal\n",
    "\n",
    "#Visualisation libraries\n",
    "import matplotlib.pyplot as plt\n",
    "import seaborn as sns"
   ]
  },
  {
   "cell_type": "markdown",
   "id": "e9480b39",
   "metadata": {},
   "source": [
    "# Data Acquisition"
   ]
  },
  {
   "cell_type": "code",
   "execution_count": 9,
   "id": "4afa0420",
   "metadata": {},
   "outputs": [
    {
     "data": {
      "text/html": [
       "<div>\n",
       "<style scoped>\n",
       "    .dataframe tbody tr th:only-of-type {\n",
       "        vertical-align: middle;\n",
       "    }\n",
       "\n",
       "    .dataframe tbody tr th {\n",
       "        vertical-align: top;\n",
       "    }\n",
       "\n",
       "    .dataframe thead th {\n",
       "        text-align: right;\n",
       "    }\n",
       "</style>\n",
       "<table border=\"1\" class=\"dataframe\">\n",
       "  <thead>\n",
       "    <tr style=\"text-align: right;\">\n",
       "      <th></th>\n",
       "      <th>Broad Industrial Group</th>\n",
       "      <th>Travelling Time</th>\n",
       "      <th>CensusYear</th>\n",
       "      <th>Statistic Label</th>\n",
       "      <th>UNIT</th>\n",
       "      <th>VALUE</th>\n",
       "    </tr>\n",
       "  </thead>\n",
       "  <tbody>\n",
       "    <tr>\n",
       "      <th>0</th>\n",
       "      <td>Agriculture, forestry and fishing (A)</td>\n",
       "      <td>Total time travelling</td>\n",
       "      <td>2016</td>\n",
       "      <td>Persons at work 2011</td>\n",
       "      <td>Number</td>\n",
       "      <td>55043.0</td>\n",
       "    </tr>\n",
       "    <tr>\n",
       "      <th>1</th>\n",
       "      <td>Agriculture, forestry and fishing (A)</td>\n",
       "      <td>Total time travelling</td>\n",
       "      <td>2016</td>\n",
       "      <td>Persons at work 2016</td>\n",
       "      <td>Number</td>\n",
       "      <td>50456.0</td>\n",
       "    </tr>\n",
       "    <tr>\n",
       "      <th>2</th>\n",
       "      <td>Agriculture, forestry and fishing (A)</td>\n",
       "      <td>Total time travelling</td>\n",
       "      <td>2016</td>\n",
       "      <td>Percentage change of persons at work 2011-2016</td>\n",
       "      <td>%</td>\n",
       "      <td>-8.3</td>\n",
       "    </tr>\n",
       "    <tr>\n",
       "      <th>3</th>\n",
       "      <td>Agriculture, forestry and fishing (A)</td>\n",
       "      <td>&lt; ¼ hour</td>\n",
       "      <td>2016</td>\n",
       "      <td>Persons at work 2011</td>\n",
       "      <td>Number</td>\n",
       "      <td>20397.0</td>\n",
       "    </tr>\n",
       "    <tr>\n",
       "      <th>4</th>\n",
       "      <td>Agriculture, forestry and fishing (A)</td>\n",
       "      <td>&lt; ¼ hour</td>\n",
       "      <td>2016</td>\n",
       "      <td>Persons at work 2016</td>\n",
       "      <td>Number</td>\n",
       "      <td>19577.0</td>\n",
       "    </tr>\n",
       "  </tbody>\n",
       "</table>\n",
       "</div>"
      ],
      "text/plain": [
       "                  Broad Industrial Group        Travelling Time  CensusYear  \\\n",
       "0  Agriculture, forestry and fishing (A)  Total time travelling        2016   \n",
       "1  Agriculture, forestry and fishing (A)  Total time travelling        2016   \n",
       "2  Agriculture, forestry and fishing (A)  Total time travelling        2016   \n",
       "3  Agriculture, forestry and fishing (A)               < ¼ hour        2016   \n",
       "4  Agriculture, forestry and fishing (A)               < ¼ hour        2016   \n",
       "\n",
       "                                  Statistic Label    UNIT    VALUE  \n",
       "0                            Persons at work 2011  Number  55043.0  \n",
       "1                            Persons at work 2016  Number  50456.0  \n",
       "2  Percentage change of persons at work 2011-2016       %     -8.3  \n",
       "3                            Persons at work 2011  Number  20397.0  \n",
       "4                            Persons at work 2016  Number  19577.0  "
      ]
     },
     "execution_count": 9,
     "metadata": {},
     "output_type": "execute_result"
    }
   ],
   "source": [
    "# Import dataset\n",
    "IRE_dataset = pd.read_csv('Data/Commuters_by_Industry_by_time_bucket_for_Ireland_Pristine.csv')\n",
    "IRE_dataset.head()"
   ]
  },
  {
   "cell_type": "code",
   "execution_count": 10,
   "id": "b8331c8f",
   "metadata": {},
   "outputs": [
    {
     "data": {
      "text/html": [
       "<div>\n",
       "<style scoped>\n",
       "    .dataframe tbody tr th:only-of-type {\n",
       "        vertical-align: middle;\n",
       "    }\n",
       "\n",
       "    .dataframe tbody tr th {\n",
       "        vertical-align: top;\n",
       "    }\n",
       "\n",
       "    .dataframe thead th {\n",
       "        text-align: right;\n",
       "    }\n",
       "</style>\n",
       "<table border=\"1\" class=\"dataframe\">\n",
       "  <thead>\n",
       "    <tr style=\"text-align: right;\">\n",
       "      <th></th>\n",
       "      <th>Country</th>\n",
       "      <th>Male</th>\n",
       "      <th>Female</th>\n",
       "      <th>Both_Sexes</th>\n",
       "    </tr>\n",
       "  </thead>\n",
       "  <tbody>\n",
       "    <tr>\n",
       "      <th>0</th>\n",
       "      <td>China</td>\n",
       "      <td>56</td>\n",
       "      <td>38</td>\n",
       "      <td>47.0</td>\n",
       "    </tr>\n",
       "    <tr>\n",
       "      <th>1</th>\n",
       "      <td>Turkey</td>\n",
       "      <td>52</td>\n",
       "      <td>28</td>\n",
       "      <td>40.0</td>\n",
       "    </tr>\n",
       "    <tr>\n",
       "      <th>2</th>\n",
       "      <td>Korea (the Republic of)</td>\n",
       "      <td>74</td>\n",
       "      <td>0</td>\n",
       "      <td>74.0</td>\n",
       "    </tr>\n",
       "    <tr>\n",
       "      <th>3</th>\n",
       "      <td>Mexico</td>\n",
       "      <td>49</td>\n",
       "      <td>24</td>\n",
       "      <td>36.5</td>\n",
       "    </tr>\n",
       "    <tr>\n",
       "      <th>4</th>\n",
       "      <td>South Africa</td>\n",
       "      <td>44</td>\n",
       "      <td>29</td>\n",
       "      <td>36.5</td>\n",
       "    </tr>\n",
       "  </tbody>\n",
       "</table>\n",
       "</div>"
      ],
      "text/plain": [
       "                   Country  Male  Female  Both_Sexes\n",
       "0                    China    56      38        47.0\n",
       "1                   Turkey    52      28        40.0\n",
       "2  Korea (the Republic of)    74       0        74.0\n",
       "3                   Mexico    49      24        36.5\n",
       "4             South Africa    44      29        36.5"
      ]
     },
     "execution_count": 10,
     "metadata": {},
     "output_type": "execute_result"
    }
   ],
   "source": [
    "# Import dataset\n",
    "EU_dataset = pd.read_csv('Data/Commuters_by_Country_Europe_Pristine.csv')\n",
    "EU_dataset.head()"
   ]
  },
  {
   "cell_type": "code",
   "execution_count": 11,
   "id": "5349c1df",
   "metadata": {},
   "outputs": [
    {
     "data": {
      "text/html": [
       "<div>\n",
       "<style scoped>\n",
       "    .dataframe tbody tr th:only-of-type {\n",
       "        vertical-align: middle;\n",
       "    }\n",
       "\n",
       "    .dataframe tbody tr th {\n",
       "        vertical-align: top;\n",
       "    }\n",
       "\n",
       "    .dataframe thead th {\n",
       "        text-align: right;\n",
       "    }\n",
       "</style>\n",
       "<table border=\"1\" class=\"dataframe\">\n",
       "  <thead>\n",
       "    <tr style=\"text-align: right;\">\n",
       "      <th></th>\n",
       "      <th>GEO</th>\n",
       "      <th>Zero_minutes</th>\n",
       "      <th>From_1_to_14_minutes</th>\n",
       "      <th>From_15_to_29_minutes</th>\n",
       "      <th>From_30_to_44_minutes</th>\n",
       "      <th>From_45_to_59_minutes</th>\n",
       "      <th>60_minutes_or_over</th>\n",
       "      <th>No_response</th>\n",
       "    </tr>\n",
       "  </thead>\n",
       "  <tbody>\n",
       "    <tr>\n",
       "      <th>0</th>\n",
       "      <td>Belgium</td>\n",
       "      <td>383.5</td>\n",
       "      <td>1066.0</td>\n",
       "      <td>1499.7</td>\n",
       "      <td>962.7</td>\n",
       "      <td>380.2</td>\n",
       "      <td>513.5</td>\n",
       "      <td>12.2</td>\n",
       "    </tr>\n",
       "    <tr>\n",
       "      <th>1</th>\n",
       "      <td>Bulgaria</td>\n",
       "      <td>83.6</td>\n",
       "      <td>562.0</td>\n",
       "      <td>1254.1</td>\n",
       "      <td>951.5</td>\n",
       "      <td>200.2</td>\n",
       "      <td>150.0</td>\n",
       "      <td>27.6</td>\n",
       "    </tr>\n",
       "    <tr>\n",
       "      <th>2</th>\n",
       "      <td>Czechia</td>\n",
       "      <td>206.1</td>\n",
       "      <td>1180.9</td>\n",
       "      <td>1792.6</td>\n",
       "      <td>1254.1</td>\n",
       "      <td>365.0</td>\n",
       "      <td>442.5</td>\n",
       "      <td>47.4</td>\n",
       "    </tr>\n",
       "    <tr>\n",
       "      <th>3</th>\n",
       "      <td>Denmark</td>\n",
       "      <td>150.1</td>\n",
       "      <td>724.0</td>\n",
       "      <td>901.3</td>\n",
       "      <td>569.7</td>\n",
       "      <td>216.8</td>\n",
       "      <td>228.5</td>\n",
       "      <td>79.1</td>\n",
       "    </tr>\n",
       "    <tr>\n",
       "      <th>4</th>\n",
       "      <td>Germany</td>\n",
       "      <td>1648.1</td>\n",
       "      <td>10887.0</td>\n",
       "      <td>12605.4</td>\n",
       "      <td>7941.2</td>\n",
       "      <td>2556.4</td>\n",
       "      <td>3314.7</td>\n",
       "      <td>2689.5</td>\n",
       "    </tr>\n",
       "  </tbody>\n",
       "</table>\n",
       "</div>"
      ],
      "text/plain": [
       "        GEO  Zero_minutes  From_1_to_14_minutes  From_15_to_29_minutes  \\\n",
       "0   Belgium         383.5                1066.0                 1499.7   \n",
       "1  Bulgaria          83.6                 562.0                 1254.1   \n",
       "2   Czechia         206.1                1180.9                 1792.6   \n",
       "3   Denmark         150.1                 724.0                  901.3   \n",
       "4   Germany        1648.1               10887.0                12605.4   \n",
       "\n",
       "   From_30_to_44_minutes  From_45_to_59_minutes  60_minutes_or_over  \\\n",
       "0                  962.7                  380.2               513.5   \n",
       "1                  951.5                  200.2               150.0   \n",
       "2                 1254.1                  365.0               442.5   \n",
       "3                  569.7                  216.8               228.5   \n",
       "4                 7941.2                 2556.4              3314.7   \n",
       "\n",
       "   No_response  \n",
       "0         12.2  \n",
       "1         27.6  \n",
       "2         47.4  \n",
       "3         79.1  \n",
       "4       2689.5  "
      ]
     },
     "execution_count": 11,
     "metadata": {},
     "output_type": "execute_result"
    }
   ],
   "source": [
    "# Import dataset\n",
    "EU_TimeBucket_dataset = pd.read_csv('Data/Commuters_by_Country_Europe_by_Time Bracket.csv')\n",
    "# Drop redundant Categories in the following columns\n",
    "EU_TimeBucket_dataset = EU_TimeBucket_dataset.drop([\"From_1_to_9_minutes\",\"1_minute_or_over\",\"From_10_to_14_minutes\",\"From_30_to_59_minutes\",\"30_minutes_or_over\",\"From_15_to_19_minutes\",\"From_20_to_29_minutes\"], axis=1)\n",
    "EU_TimeBucket_dataset.head()"
   ]
  },
  {
   "cell_type": "code",
   "execution_count": 12,
   "id": "1bcad2f2",
   "metadata": {},
   "outputs": [
    {
     "data": {
      "text/html": [
       "<div>\n",
       "<style scoped>\n",
       "    .dataframe tbody tr th:only-of-type {\n",
       "        vertical-align: middle;\n",
       "    }\n",
       "\n",
       "    .dataframe tbody tr th {\n",
       "        vertical-align: top;\n",
       "    }\n",
       "\n",
       "    .dataframe thead th {\n",
       "        text-align: right;\n",
       "    }\n",
       "</style>\n",
       "<table border=\"1\" class=\"dataframe\">\n",
       "  <thead>\n",
       "    <tr style=\"text-align: right;\">\n",
       "      <th></th>\n",
       "      <th>Broad Industrial Group</th>\n",
       "      <th>Travelling Time</th>\n",
       "      <th>Statistic Label</th>\n",
       "      <th>UNIT</th>\n",
       "      <th>VALUE</th>\n",
       "    </tr>\n",
       "  </thead>\n",
       "  <tbody>\n",
       "    <tr>\n",
       "      <th>0</th>\n",
       "      <td>Agriculture, forestry and fishing (A)</td>\n",
       "      <td>Total time travelling</td>\n",
       "      <td>Persons at work 2011</td>\n",
       "      <td>Number</td>\n",
       "      <td>55043.0</td>\n",
       "    </tr>\n",
       "    <tr>\n",
       "      <th>1</th>\n",
       "      <td>Agriculture, forestry and fishing (A)</td>\n",
       "      <td>Total time travelling</td>\n",
       "      <td>Persons at work 2016</td>\n",
       "      <td>Number</td>\n",
       "      <td>50456.0</td>\n",
       "    </tr>\n",
       "    <tr>\n",
       "      <th>2</th>\n",
       "      <td>Agriculture, forestry and fishing (A)</td>\n",
       "      <td>Total time travelling</td>\n",
       "      <td>Percentage change of persons at work 2011-2016</td>\n",
       "      <td>%</td>\n",
       "      <td>-8.3</td>\n",
       "    </tr>\n",
       "    <tr>\n",
       "      <th>3</th>\n",
       "      <td>Agriculture, forestry and fishing (A)</td>\n",
       "      <td>&lt; ¼ hour</td>\n",
       "      <td>Persons at work 2011</td>\n",
       "      <td>Number</td>\n",
       "      <td>20397.0</td>\n",
       "    </tr>\n",
       "    <tr>\n",
       "      <th>4</th>\n",
       "      <td>Agriculture, forestry and fishing (A)</td>\n",
       "      <td>&lt; ¼ hour</td>\n",
       "      <td>Persons at work 2016</td>\n",
       "      <td>Number</td>\n",
       "      <td>19577.0</td>\n",
       "    </tr>\n",
       "  </tbody>\n",
       "</table>\n",
       "</div>"
      ],
      "text/plain": [
       "                  Broad Industrial Group        Travelling Time  \\\n",
       "0  Agriculture, forestry and fishing (A)  Total time travelling   \n",
       "1  Agriculture, forestry and fishing (A)  Total time travelling   \n",
       "2  Agriculture, forestry and fishing (A)  Total time travelling   \n",
       "3  Agriculture, forestry and fishing (A)               < ¼ hour   \n",
       "4  Agriculture, forestry and fishing (A)               < ¼ hour   \n",
       "\n",
       "                                  Statistic Label    UNIT    VALUE  \n",
       "0                            Persons at work 2011  Number  55043.0  \n",
       "1                            Persons at work 2016  Number  50456.0  \n",
       "2  Percentage change of persons at work 2011-2016       %     -8.3  \n",
       "3                            Persons at work 2011  Number  20397.0  \n",
       "4                            Persons at work 2016  Number  19577.0  "
      ]
     },
     "execution_count": 12,
     "metadata": {},
     "output_type": "execute_result"
    }
   ],
   "source": [
    "#Drop non-essential data columns\n",
    "IRE_dataset = IRE_dataset.drop([\"CensusYear\"], axis=1)\n",
    "IRE_dataset.head()"
   ]
  },
  {
   "cell_type": "code",
   "execution_count": 13,
   "id": "f9122ab8",
   "metadata": {},
   "outputs": [
    {
     "data": {
      "text/html": [
       "<div>\n",
       "<style scoped>\n",
       "    .dataframe tbody tr th:only-of-type {\n",
       "        vertical-align: middle;\n",
       "    }\n",
       "\n",
       "    .dataframe tbody tr th {\n",
       "        vertical-align: top;\n",
       "    }\n",
       "\n",
       "    .dataframe thead th {\n",
       "        text-align: right;\n",
       "    }\n",
       "</style>\n",
       "<table border=\"1\" class=\"dataframe\">\n",
       "  <thead>\n",
       "    <tr style=\"text-align: right;\">\n",
       "      <th></th>\n",
       "      <th>Broad Industrial Group</th>\n",
       "      <th>Commute Times</th>\n",
       "      <th>Statistic Label</th>\n",
       "      <th>Population Size (1000s)</th>\n",
       "    </tr>\n",
       "  </thead>\n",
       "  <tbody>\n",
       "    <tr>\n",
       "      <th>4</th>\n",
       "      <td>Agriculture, forestry and fishing (A)</td>\n",
       "      <td>&lt; ¼ hour</td>\n",
       "      <td>Persons at work 2016</td>\n",
       "      <td>19577.0</td>\n",
       "    </tr>\n",
       "    <tr>\n",
       "      <th>7</th>\n",
       "      <td>Agriculture, forestry and fishing (A)</td>\n",
       "      <td>¼ hour - &lt; ½ hour</td>\n",
       "      <td>Persons at work 2016</td>\n",
       "      <td>9910.0</td>\n",
       "    </tr>\n",
       "    <tr>\n",
       "      <th>10</th>\n",
       "      <td>Agriculture, forestry and fishing (A)</td>\n",
       "      <td>½ hour - &lt; ¾ hour</td>\n",
       "      <td>Persons at work 2016</td>\n",
       "      <td>5557.0</td>\n",
       "    </tr>\n",
       "    <tr>\n",
       "      <th>13</th>\n",
       "      <td>Agriculture, forestry and fishing (A)</td>\n",
       "      <td>¾ hour - &lt; 1 hour</td>\n",
       "      <td>Persons at work 2016</td>\n",
       "      <td>1307.0</td>\n",
       "    </tr>\n",
       "    <tr>\n",
       "      <th>16</th>\n",
       "      <td>Agriculture, forestry and fishing (A)</td>\n",
       "      <td>1 hour - &lt; 1½ hours</td>\n",
       "      <td>Persons at work 2016</td>\n",
       "      <td>1878.0</td>\n",
       "    </tr>\n",
       "  </tbody>\n",
       "</table>\n",
       "</div>"
      ],
      "text/plain": [
       "                   Broad Industrial Group        Commute Times  \\\n",
       "4   Agriculture, forestry and fishing (A)             < ¼ hour   \n",
       "7   Agriculture, forestry and fishing (A)    ¼ hour - < ½ hour   \n",
       "10  Agriculture, forestry and fishing (A)    ½ hour - < ¾ hour   \n",
       "13  Agriculture, forestry and fishing (A)    ¾ hour - < 1 hour   \n",
       "16  Agriculture, forestry and fishing (A)  1 hour - < 1½ hours   \n",
       "\n",
       "         Statistic Label  Population Size (1000s)  \n",
       "4   Persons at work 2016                  19577.0  \n",
       "7   Persons at work 2016                   9910.0  \n",
       "10  Persons at work 2016                   5557.0  \n",
       "13  Persons at work 2016                   1307.0  \n",
       "16  Persons at work 2016                   1878.0  "
      ]
     },
     "execution_count": 13,
     "metadata": {},
     "output_type": "execute_result"
    }
   ],
   "source": [
    "#Filtering the Dataset so the correct dimensions are present and removes duplicates where certain dimensionality has been removed\n",
    "IRE_dataset4Viz = IRE_dataset.drop([\"UNIT\"], axis=1)\n",
    "IRE_dataset4Viz = IRE_dataset4Viz.loc[IRE_dataset4Viz['Statistic Label'] == 'Persons at work 2016']\n",
    "IRE_dataset4Viz = IRE_dataset4Viz.loc[IRE_dataset4Viz['Travelling Time'].isin(['< ¼ hour', '¼ hour - < ½ hour', '½ hour - < ¾ hour','¾ hour - < 1 hour','1 hour - < 1½ hours','1½ hours and over','Not stated'])]\n",
    "IRE_dataset4Viz.rename(columns={'VALUE':'Population Size (1000s)'}, inplace=True)\n",
    "IRE_dataset4Viz.rename(columns={'Travelling Time':'Commute Times'}, inplace=True)\n",
    "IRE_dataset4Viz.head()"
   ]
  },
  {
   "cell_type": "code",
   "execution_count": 14,
   "id": "f2eb3c94",
   "metadata": {},
   "outputs": [
    {
     "data": {
      "text/html": [
       "<div>\n",
       "<style scoped>\n",
       "    .dataframe tbody tr th:only-of-type {\n",
       "        vertical-align: middle;\n",
       "    }\n",
       "\n",
       "    .dataframe tbody tr th {\n",
       "        vertical-align: top;\n",
       "    }\n",
       "\n",
       "    .dataframe thead th {\n",
       "        text-align: right;\n",
       "    }\n",
       "</style>\n",
       "<table border=\"1\" class=\"dataframe\">\n",
       "  <thead>\n",
       "    <tr style=\"text-align: right;\">\n",
       "      <th></th>\n",
       "      <th>Broad Industrial Group</th>\n",
       "      <th>Travelling Time</th>\n",
       "      <th>Statistic Label</th>\n",
       "      <th>VALUE</th>\n",
       "    </tr>\n",
       "  </thead>\n",
       "  <tbody>\n",
       "    <tr>\n",
       "      <th>532</th>\n",
       "      <td>Total at work</td>\n",
       "      <td>&lt; ¼ hour</td>\n",
       "      <td>Persons at work 2016</td>\n",
       "      <td>430221.0</td>\n",
       "    </tr>\n",
       "    <tr>\n",
       "      <th>535</th>\n",
       "      <td>Total at work</td>\n",
       "      <td>¼ hour - &lt; ½ hour</td>\n",
       "      <td>Persons at work 2016</td>\n",
       "      <td>550257.0</td>\n",
       "    </tr>\n",
       "    <tr>\n",
       "      <th>538</th>\n",
       "      <td>Total at work</td>\n",
       "      <td>½ hour - &lt; ¾ hour</td>\n",
       "      <td>Persons at work 2016</td>\n",
       "      <td>396252.0</td>\n",
       "    </tr>\n",
       "    <tr>\n",
       "      <th>541</th>\n",
       "      <td>Total at work</td>\n",
       "      <td>¾ hour - &lt; 1 hour</td>\n",
       "      <td>Persons at work 2016</td>\n",
       "      <td>143351.0</td>\n",
       "    </tr>\n",
       "    <tr>\n",
       "      <th>544</th>\n",
       "      <td>Total at work</td>\n",
       "      <td>1 hour - &lt; 1½ hours</td>\n",
       "      <td>Persons at work 2016</td>\n",
       "      <td>147124.0</td>\n",
       "    </tr>\n",
       "  </tbody>\n",
       "</table>\n",
       "</div>"
      ],
      "text/plain": [
       "    Broad Industrial Group      Travelling Time       Statistic Label  \\\n",
       "532          Total at work             < ¼ hour  Persons at work 2016   \n",
       "535          Total at work    ¼ hour - < ½ hour  Persons at work 2016   \n",
       "538          Total at work    ½ hour - < ¾ hour  Persons at work 2016   \n",
       "541          Total at work    ¾ hour - < 1 hour  Persons at work 2016   \n",
       "544          Total at work  1 hour - < 1½ hours  Persons at work 2016   \n",
       "\n",
       "        VALUE  \n",
       "532  430221.0  \n",
       "535  550257.0  \n",
       "538  396252.0  \n",
       "541  143351.0  \n",
       "544  147124.0  "
      ]
     },
     "execution_count": 14,
     "metadata": {},
     "output_type": "execute_result"
    }
   ],
   "source": [
    "#Filtering the Dataset so the correct dimensions are present and removes duplicates where certain dimensionality has been removed\n",
    "IRE_dataset = IRE_dataset.drop([\"UNIT\"], axis=1)\n",
    "IRE_dataset = IRE_dataset.loc[IRE_dataset['Statistic Label'] == 'Persons at work 2016']\n",
    "IRE_dataset = IRE_dataset.loc[IRE_dataset['Broad Industrial Group'] == 'Total at work']\n",
    "IRE_dataset = IRE_dataset.loc[IRE_dataset['Travelling Time'].isin(['< ¼ hour', '¼ hour - < ½ hour', '½ hour - < ¾ hour','¾ hour - < 1 hour','1 hour - < 1½ hours','1½ hours and over','Not stated'])]\n",
    "IRE_dataset.head()"
   ]
  },
  {
   "cell_type": "code",
   "execution_count": 15,
   "id": "8c9754c1",
   "metadata": {},
   "outputs": [
    {
     "data": {
      "text/html": [
       "<div>\n",
       "<style scoped>\n",
       "    .dataframe tbody tr th:only-of-type {\n",
       "        vertical-align: middle;\n",
       "    }\n",
       "\n",
       "    .dataframe tbody tr th {\n",
       "        vertical-align: top;\n",
       "    }\n",
       "\n",
       "    .dataframe thead th {\n",
       "        text-align: right;\n",
       "    }\n",
       "</style>\n",
       "<table border=\"1\" class=\"dataframe\">\n",
       "  <thead>\n",
       "    <tr style=\"text-align: right;\">\n",
       "      <th></th>\n",
       "      <th>Broad Industrial Group</th>\n",
       "      <th>Travelling Time</th>\n",
       "      <th>Statistic Label</th>\n",
       "      <th>VALUE</th>\n",
       "    </tr>\n",
       "  </thead>\n",
       "  <tbody>\n",
       "    <tr>\n",
       "      <th>532</th>\n",
       "      <td>Total at work</td>\n",
       "      <td>&lt; ¼ hour</td>\n",
       "      <td>Persons at work 2016</td>\n",
       "      <td>430221.0</td>\n",
       "    </tr>\n",
       "    <tr>\n",
       "      <th>535</th>\n",
       "      <td>Total at work</td>\n",
       "      <td>¼ hour - &lt; ½ hour</td>\n",
       "      <td>Persons at work 2016</td>\n",
       "      <td>550257.0</td>\n",
       "    </tr>\n",
       "    <tr>\n",
       "      <th>538</th>\n",
       "      <td>Total at work</td>\n",
       "      <td>½ hour - &lt; ¾ hour</td>\n",
       "      <td>Persons at work 2016</td>\n",
       "      <td>396252.0</td>\n",
       "    </tr>\n",
       "    <tr>\n",
       "      <th>541</th>\n",
       "      <td>Total at work</td>\n",
       "      <td>¾ hour - &lt; 1 hour</td>\n",
       "      <td>Persons at work 2016</td>\n",
       "      <td>143351.0</td>\n",
       "    </tr>\n",
       "    <tr>\n",
       "      <th>544</th>\n",
       "      <td>Total at work</td>\n",
       "      <td>1 hour - &lt; 1½ hours</td>\n",
       "      <td>Persons at work 2016</td>\n",
       "      <td>147124.0</td>\n",
       "    </tr>\n",
       "    <tr>\n",
       "      <th>547</th>\n",
       "      <td>Total at work</td>\n",
       "      <td>1½ hours and over</td>\n",
       "      <td>Persons at work 2016</td>\n",
       "      <td>52798.0</td>\n",
       "    </tr>\n",
       "    <tr>\n",
       "      <th>550</th>\n",
       "      <td>Total at work</td>\n",
       "      <td>Not stated</td>\n",
       "      <td>Persons at work 2016</td>\n",
       "      <td>155770.0</td>\n",
       "    </tr>\n",
       "  </tbody>\n",
       "</table>\n",
       "</div>"
      ],
      "text/plain": [
       "    Broad Industrial Group      Travelling Time       Statistic Label  \\\n",
       "532          Total at work             < ¼ hour  Persons at work 2016   \n",
       "535          Total at work    ¼ hour - < ½ hour  Persons at work 2016   \n",
       "538          Total at work    ½ hour - < ¾ hour  Persons at work 2016   \n",
       "541          Total at work    ¾ hour - < 1 hour  Persons at work 2016   \n",
       "544          Total at work  1 hour - < 1½ hours  Persons at work 2016   \n",
       "547          Total at work    1½ hours and over  Persons at work 2016   \n",
       "550          Total at work           Not stated  Persons at work 2016   \n",
       "\n",
       "        VALUE  \n",
       "532  430221.0  \n",
       "535  550257.0  \n",
       "538  396252.0  \n",
       "541  143351.0  \n",
       "544  147124.0  \n",
       "547   52798.0  \n",
       "550  155770.0  "
      ]
     },
     "execution_count": 15,
     "metadata": {},
     "output_type": "execute_result"
    }
   ],
   "source": [
    "IRE_dataset"
   ]
  },
  {
   "cell_type": "markdown",
   "id": "cca7564a",
   "metadata": {},
   "source": [
    "# EDA"
   ]
  },
  {
   "cell_type": "code",
   "execution_count": 73,
   "id": "8ae29617",
   "metadata": {},
   "outputs": [
    {
     "data": {
      "text/plain": [
       "Broad Industrial Group     object\n",
       "Travelling Time            object\n",
       "Statistic Label            object\n",
       "VALUE                     float64\n",
       "dtype: object"
      ]
     },
     "execution_count": 73,
     "metadata": {},
     "output_type": "execute_result"
    }
   ],
   "source": [
    "#Understanding the column formats\n",
    "IRE_dataset.dtypes"
   ]
  },
  {
   "cell_type": "code",
   "execution_count": 74,
   "id": "ac315b2b",
   "metadata": {},
   "outputs": [
    {
     "data": {
      "text/plain": [
       "(7, 4)"
      ]
     },
     "execution_count": 74,
     "metadata": {},
     "output_type": "execute_result"
    }
   ],
   "source": [
    "IRE_dataset.shape"
   ]
  },
  {
   "cell_type": "code",
   "execution_count": 75,
   "id": "6d86f97e",
   "metadata": {},
   "outputs": [
    {
     "name": "stdout",
     "output_type": "stream",
     "text": [
      "number of duplicate rows:  (0, 4)\n"
     ]
    }
   ],
   "source": [
    "duplicate_rows_df = IRE_dataset[IRE_dataset.duplicated()]\n",
    "print(\"number of duplicate rows: \", duplicate_rows_df.shape)"
   ]
  },
  {
   "cell_type": "code",
   "execution_count": 77,
   "id": "3d18b9fc",
   "metadata": {},
   "outputs": [
    {
     "name": "stdout",
     "output_type": "stream",
     "text": [
      "Broad Industrial Group    0\n",
      "Travelling Time           0\n",
      "Statistic Label           0\n",
      "VALUE                     0\n",
      "dtype: int64\n"
     ]
    }
   ],
   "source": [
    "print(IRE_dataset.isnull().sum())"
   ]
  },
  {
   "cell_type": "markdown",
   "id": "12fc1727",
   "metadata": {},
   "source": [
    "We have no duplicate rows. No need to drop dupplicate rows from our df IRE_dataset."
   ]
  },
  {
   "cell_type": "code",
   "execution_count": 78,
   "id": "e01de4d6",
   "metadata": {},
   "outputs": [
    {
     "data": {
      "text/plain": [
       "Country        object\n",
       "Male            int64\n",
       "Female          int64\n",
       "Both_Sexes    float64\n",
       "dtype: object"
      ]
     },
     "execution_count": 78,
     "metadata": {},
     "output_type": "execute_result"
    }
   ],
   "source": [
    "#Understanding the column formats\n",
    "EU_dataset.dtypes"
   ]
  },
  {
   "cell_type": "code",
   "execution_count": 79,
   "id": "2ccfb4ee",
   "metadata": {},
   "outputs": [
    {
     "data": {
      "text/plain": [
       "(29, 4)"
      ]
     },
     "execution_count": 79,
     "metadata": {},
     "output_type": "execute_result"
    }
   ],
   "source": [
    "EU_dataset.shape"
   ]
  },
  {
   "cell_type": "code",
   "execution_count": 80,
   "id": "60b3d49c",
   "metadata": {},
   "outputs": [
    {
     "name": "stdout",
     "output_type": "stream",
     "text": [
      "number of duplicate rows:  (0, 4)\n"
     ]
    }
   ],
   "source": [
    "duplicate_rows_df2 = EU_dataset[EU_dataset.duplicated()]\n",
    "print(\"number of duplicate rows: \", duplicate_rows_df2.shape)"
   ]
  },
  {
   "cell_type": "code",
   "execution_count": 81,
   "id": "5d44c827",
   "metadata": {},
   "outputs": [
    {
     "name": "stdout",
     "output_type": "stream",
     "text": [
      "Country       0\n",
      "Male          0\n",
      "Female        0\n",
      "Both_Sexes    0\n",
      "dtype: int64\n"
     ]
    }
   ],
   "source": [
    "print(EU_dataset.isnull().sum())"
   ]
  },
  {
   "cell_type": "markdown",
   "id": "70a39635",
   "metadata": {},
   "source": [
    "We have no duplicate rows. No need to drop dupplicate rows from our df EU_dataset."
   ]
  },
  {
   "cell_type": "code",
   "execution_count": 83,
   "id": "7288e084",
   "metadata": {},
   "outputs": [
    {
     "data": {
      "text/plain": [
       "GEO                       object\n",
       "Zero_minutes             float64\n",
       "From_1_to_14_minutes     float64\n",
       "From_15_to_29_minutes    float64\n",
       "From_30_to_44_minutes    float64\n",
       "From_45_to_59_minutes    float64\n",
       "60_minutes_or_over       float64\n",
       "No_response              float64\n",
       "dtype: object"
      ]
     },
     "execution_count": 83,
     "metadata": {},
     "output_type": "execute_result"
    }
   ],
   "source": [
    "#Understanding the column formats\n",
    "EU_TimeBucket_dataset.dtypes"
   ]
  },
  {
   "cell_type": "code",
   "execution_count": 84,
   "id": "a24f5a26",
   "metadata": {},
   "outputs": [
    {
     "data": {
      "text/plain": [
       "(32, 8)"
      ]
     },
     "execution_count": 84,
     "metadata": {},
     "output_type": "execute_result"
    }
   ],
   "source": [
    "EU_TimeBucket_dataset.shape"
   ]
  },
  {
   "cell_type": "code",
   "execution_count": 85,
   "id": "0100cc13",
   "metadata": {},
   "outputs": [
    {
     "name": "stdout",
     "output_type": "stream",
     "text": [
      "number of duplicate rows:  (0, 8)\n"
     ]
    }
   ],
   "source": [
    "duplicate_rows_df3 = EU_TimeBucket_dataset[EU_TimeBucket_dataset.duplicated()]\n",
    "print(\"number of duplicate rows: \", duplicate_rows_df3.shape)"
   ]
  },
  {
   "cell_type": "code",
   "execution_count": 86,
   "id": "6f58aaf7",
   "metadata": {},
   "outputs": [
    {
     "name": "stdout",
     "output_type": "stream",
     "text": [
      "GEO                      0\n",
      "Zero_minutes             0\n",
      "From_1_to_14_minutes     0\n",
      "From_15_to_29_minutes    0\n",
      "From_30_to_44_minutes    0\n",
      "From_45_to_59_minutes    0\n",
      "60_minutes_or_over       0\n",
      "No_response              0\n",
      "dtype: int64\n"
     ]
    }
   ],
   "source": [
    "print(EU_TimeBucket_dataset.isnull().sum())"
   ]
  },
  {
   "cell_type": "markdown",
   "id": "37775727",
   "metadata": {},
   "source": [
    "We have no duplicate rows. No need to drop dupplicate rows from our df EU_TimeBucket_dataset."
   ]
  },
  {
   "cell_type": "markdown",
   "id": "008f418e",
   "metadata": {},
   "source": [
    "# Descritive Stats"
   ]
  },
  {
   "cell_type": "code",
   "execution_count": 17,
   "id": "48ad6ffd",
   "metadata": {},
   "outputs": [
    {
     "data": {
      "text/plain": [
       "Country        object\n",
       "Male            int64\n",
       "Female          int64\n",
       "Both_Sexes    float64\n",
       "dtype: object"
      ]
     },
     "execution_count": 17,
     "metadata": {},
     "output_type": "execute_result"
    }
   ],
   "source": [
    "EU_dataset.dtypes"
   ]
  },
  {
   "cell_type": "code",
   "execution_count": 18,
   "id": "221266ef",
   "metadata": {},
   "outputs": [
    {
     "data": {
      "text/plain": [
       "(29, 4)"
      ]
     },
     "execution_count": 18,
     "metadata": {},
     "output_type": "execute_result"
    }
   ],
   "source": [
    "EU_dataset.shape"
   ]
  },
  {
   "cell_type": "code",
   "execution_count": 19,
   "id": "a6286a93",
   "metadata": {},
   "outputs": [
    {
     "data": {
      "text/html": [
       "<div>\n",
       "<style scoped>\n",
       "    .dataframe tbody tr th:only-of-type {\n",
       "        vertical-align: middle;\n",
       "    }\n",
       "\n",
       "    .dataframe tbody tr th {\n",
       "        vertical-align: top;\n",
       "    }\n",
       "\n",
       "    .dataframe thead th {\n",
       "        text-align: right;\n",
       "    }\n",
       "</style>\n",
       "<table border=\"1\" class=\"dataframe\">\n",
       "  <thead>\n",
       "    <tr style=\"text-align: right;\">\n",
       "      <th></th>\n",
       "      <th>Male</th>\n",
       "      <th>Female</th>\n",
       "      <th>Both_Sexes</th>\n",
       "    </tr>\n",
       "  </thead>\n",
       "  <tbody>\n",
       "    <tr>\n",
       "      <th>count</th>\n",
       "      <td>29.000000</td>\n",
       "      <td>29.000000</td>\n",
       "      <td>29.000000</td>\n",
       "    </tr>\n",
       "    <tr>\n",
       "      <th>mean</th>\n",
       "      <td>35.448276</td>\n",
       "      <td>21.551724</td>\n",
       "      <td>29.775862</td>\n",
       "    </tr>\n",
       "    <tr>\n",
       "      <th>std</th>\n",
       "      <td>11.809761</td>\n",
       "      <td>6.417533</td>\n",
       "      <td>10.648261</td>\n",
       "    </tr>\n",
       "    <tr>\n",
       "      <th>min</th>\n",
       "      <td>21.000000</td>\n",
       "      <td>0.000000</td>\n",
       "      <td>20.000000</td>\n",
       "    </tr>\n",
       "    <tr>\n",
       "      <th>25%</th>\n",
       "      <td>28.000000</td>\n",
       "      <td>18.000000</td>\n",
       "      <td>23.500000</td>\n",
       "    </tr>\n",
       "    <tr>\n",
       "      <th>50%</th>\n",
       "      <td>32.000000</td>\n",
       "      <td>21.000000</td>\n",
       "      <td>27.000000</td>\n",
       "    </tr>\n",
       "    <tr>\n",
       "      <th>75%</th>\n",
       "      <td>43.000000</td>\n",
       "      <td>25.000000</td>\n",
       "      <td>31.000000</td>\n",
       "    </tr>\n",
       "    <tr>\n",
       "      <th>max</th>\n",
       "      <td>74.000000</td>\n",
       "      <td>38.000000</td>\n",
       "      <td>74.000000</td>\n",
       "    </tr>\n",
       "  </tbody>\n",
       "</table>\n",
       "</div>"
      ],
      "text/plain": [
       "            Male     Female  Both_Sexes\n",
       "count  29.000000  29.000000   29.000000\n",
       "mean   35.448276  21.551724   29.775862\n",
       "std    11.809761   6.417533   10.648261\n",
       "min    21.000000   0.000000   20.000000\n",
       "25%    28.000000  18.000000   23.500000\n",
       "50%    32.000000  21.000000   27.000000\n",
       "75%    43.000000  25.000000   31.000000\n",
       "max    74.000000  38.000000   74.000000"
      ]
     },
     "execution_count": 19,
     "metadata": {},
     "output_type": "execute_result"
    }
   ],
   "source": [
    "EU_dataset.describe()"
   ]
  },
  {
   "cell_type": "code",
   "execution_count": 20,
   "id": "9df26f39",
   "metadata": {},
   "outputs": [
    {
     "data": {
      "text/plain": [
       "GEO                       object\n",
       "Zero_minutes             float64\n",
       "From_1_to_14_minutes     float64\n",
       "From_15_to_29_minutes    float64\n",
       "From_30_to_44_minutes    float64\n",
       "From_45_to_59_minutes    float64\n",
       "60_minutes_or_over       float64\n",
       "No_response              float64\n",
       "dtype: object"
      ]
     },
     "execution_count": 20,
     "metadata": {},
     "output_type": "execute_result"
    }
   ],
   "source": [
    "EU_TimeBucket_dataset.dtypes"
   ]
  },
  {
   "cell_type": "code",
   "execution_count": 21,
   "id": "bcc16b92",
   "metadata": {},
   "outputs": [
    {
     "data": {
      "text/plain": [
       "(32, 8)"
      ]
     },
     "execution_count": 21,
     "metadata": {},
     "output_type": "execute_result"
    }
   ],
   "source": [
    "EU_TimeBucket_dataset.shape"
   ]
  },
  {
   "cell_type": "code",
   "execution_count": 22,
   "id": "a8b9ade9",
   "metadata": {},
   "outputs": [
    {
     "data": {
      "text/html": [
       "<div>\n",
       "<style scoped>\n",
       "    .dataframe tbody tr th:only-of-type {\n",
       "        vertical-align: middle;\n",
       "    }\n",
       "\n",
       "    .dataframe tbody tr th {\n",
       "        vertical-align: top;\n",
       "    }\n",
       "\n",
       "    .dataframe thead th {\n",
       "        text-align: right;\n",
       "    }\n",
       "</style>\n",
       "<table border=\"1\" class=\"dataframe\">\n",
       "  <thead>\n",
       "    <tr style=\"text-align: right;\">\n",
       "      <th></th>\n",
       "      <th>Zero_minutes</th>\n",
       "      <th>From_1_to_14_minutes</th>\n",
       "      <th>From_15_to_29_minutes</th>\n",
       "      <th>From_30_to_44_minutes</th>\n",
       "      <th>From_45_to_59_minutes</th>\n",
       "      <th>60_minutes_or_over</th>\n",
       "      <th>No_response</th>\n",
       "    </tr>\n",
       "  </thead>\n",
       "  <tbody>\n",
       "    <tr>\n",
       "      <th>count</th>\n",
       "      <td>32.000000</td>\n",
       "      <td>32.000000</td>\n",
       "      <td>32.000000</td>\n",
       "      <td>32.000000</td>\n",
       "      <td>32.000000</td>\n",
       "      <td>32.000000</td>\n",
       "      <td>32.000000</td>\n",
       "    </tr>\n",
       "    <tr>\n",
       "      <th>mean</th>\n",
       "      <td>393.171875</td>\n",
       "      <td>2278.071875</td>\n",
       "      <td>2560.196875</td>\n",
       "      <td>1637.190625</td>\n",
       "      <td>483.250000</td>\n",
       "      <td>698.409375</td>\n",
       "      <td>302.421875</td>\n",
       "    </tr>\n",
       "    <tr>\n",
       "      <th>std</th>\n",
       "      <td>595.798981</td>\n",
       "      <td>3057.355322</td>\n",
       "      <td>3254.741175</td>\n",
       "      <td>2106.596053</td>\n",
       "      <td>664.157098</td>\n",
       "      <td>1016.178923</td>\n",
       "      <td>552.683339</td>\n",
       "    </tr>\n",
       "    <tr>\n",
       "      <th>min</th>\n",
       "      <td>5.400000</td>\n",
       "      <td>36.100000</td>\n",
       "      <td>48.100000</td>\n",
       "      <td>15.300000</td>\n",
       "      <td>0.000000</td>\n",
       "      <td>5.100000</td>\n",
       "      <td>0.000000</td>\n",
       "    </tr>\n",
       "    <tr>\n",
       "      <th>25%</th>\n",
       "      <td>74.800000</td>\n",
       "      <td>400.825000</td>\n",
       "      <td>577.850000</td>\n",
       "      <td>340.800000</td>\n",
       "      <td>84.750000</td>\n",
       "      <td>116.250000</td>\n",
       "      <td>9.150000</td>\n",
       "    </tr>\n",
       "    <tr>\n",
       "      <th>50%</th>\n",
       "      <td>156.450000</td>\n",
       "      <td>1008.150000</td>\n",
       "      <td>1278.500000</td>\n",
       "      <td>763.700000</td>\n",
       "      <td>208.500000</td>\n",
       "      <td>274.750000</td>\n",
       "      <td>64.450000</td>\n",
       "    </tr>\n",
       "    <tr>\n",
       "      <th>75%</th>\n",
       "      <td>386.600000</td>\n",
       "      <td>1947.450000</td>\n",
       "      <td>2698.125000</td>\n",
       "      <td>1686.250000</td>\n",
       "      <td>600.000000</td>\n",
       "      <td>601.075000</td>\n",
       "      <td>300.825000</td>\n",
       "    </tr>\n",
       "    <tr>\n",
       "      <th>max</th>\n",
       "      <td>2429.300000</td>\n",
       "      <td>10887.000000</td>\n",
       "      <td>12605.400000</td>\n",
       "      <td>7941.200000</td>\n",
       "      <td>2556.400000</td>\n",
       "      <td>4130.500000</td>\n",
       "      <td>2689.500000</td>\n",
       "    </tr>\n",
       "  </tbody>\n",
       "</table>\n",
       "</div>"
      ],
      "text/plain": [
       "       Zero_minutes  From_1_to_14_minutes  From_15_to_29_minutes  \\\n",
       "count     32.000000             32.000000              32.000000   \n",
       "mean     393.171875           2278.071875            2560.196875   \n",
       "std      595.798981           3057.355322            3254.741175   \n",
       "min        5.400000             36.100000              48.100000   \n",
       "25%       74.800000            400.825000             577.850000   \n",
       "50%      156.450000           1008.150000            1278.500000   \n",
       "75%      386.600000           1947.450000            2698.125000   \n",
       "max     2429.300000          10887.000000           12605.400000   \n",
       "\n",
       "       From_30_to_44_minutes  From_45_to_59_minutes  60_minutes_or_over  \\\n",
       "count              32.000000              32.000000           32.000000   \n",
       "mean             1637.190625             483.250000          698.409375   \n",
       "std              2106.596053             664.157098         1016.178923   \n",
       "min                15.300000               0.000000            5.100000   \n",
       "25%               340.800000              84.750000          116.250000   \n",
       "50%               763.700000             208.500000          274.750000   \n",
       "75%              1686.250000             600.000000          601.075000   \n",
       "max              7941.200000            2556.400000         4130.500000   \n",
       "\n",
       "       No_response  \n",
       "count    32.000000  \n",
       "mean    302.421875  \n",
       "std     552.683339  \n",
       "min       0.000000  \n",
       "25%       9.150000  \n",
       "50%      64.450000  \n",
       "75%     300.825000  \n",
       "max    2689.500000  "
      ]
     },
     "execution_count": 22,
     "metadata": {},
     "output_type": "execute_result"
    }
   ],
   "source": [
    "EU_TimeBucket_dataset.describe()"
   ]
  },
  {
   "cell_type": "code",
   "execution_count": 23,
   "id": "9667a33b",
   "metadata": {},
   "outputs": [
    {
     "data": {
      "text/plain": [
       "Broad Industrial Group     object\n",
       "Travelling Time            object\n",
       "Statistic Label            object\n",
       "VALUE                     float64\n",
       "dtype: object"
      ]
     },
     "execution_count": 23,
     "metadata": {},
     "output_type": "execute_result"
    }
   ],
   "source": [
    "IRE_dataset.dtypes"
   ]
  },
  {
   "cell_type": "code",
   "execution_count": 24,
   "id": "c59be864",
   "metadata": {},
   "outputs": [
    {
     "data": {
      "text/plain": [
       "(7, 4)"
      ]
     },
     "execution_count": 24,
     "metadata": {},
     "output_type": "execute_result"
    }
   ],
   "source": [
    "IRE_dataset.shape"
   ]
  },
  {
   "cell_type": "code",
   "execution_count": 25,
   "id": "22c47dcf",
   "metadata": {},
   "outputs": [
    {
     "data": {
      "text/html": [
       "<div>\n",
       "<style scoped>\n",
       "    .dataframe tbody tr th:only-of-type {\n",
       "        vertical-align: middle;\n",
       "    }\n",
       "\n",
       "    .dataframe tbody tr th {\n",
       "        vertical-align: top;\n",
       "    }\n",
       "\n",
       "    .dataframe thead th {\n",
       "        text-align: right;\n",
       "    }\n",
       "</style>\n",
       "<table border=\"1\" class=\"dataframe\">\n",
       "  <thead>\n",
       "    <tr style=\"text-align: right;\">\n",
       "      <th></th>\n",
       "      <th>VALUE</th>\n",
       "    </tr>\n",
       "  </thead>\n",
       "  <tbody>\n",
       "    <tr>\n",
       "      <th>count</th>\n",
       "      <td>7.000000</td>\n",
       "    </tr>\n",
       "    <tr>\n",
       "      <th>mean</th>\n",
       "      <td>267967.571429</td>\n",
       "    </tr>\n",
       "    <tr>\n",
       "      <th>std</th>\n",
       "      <td>187744.990752</td>\n",
       "    </tr>\n",
       "    <tr>\n",
       "      <th>min</th>\n",
       "      <td>52798.000000</td>\n",
       "    </tr>\n",
       "    <tr>\n",
       "      <th>25%</th>\n",
       "      <td>145237.500000</td>\n",
       "    </tr>\n",
       "    <tr>\n",
       "      <th>50%</th>\n",
       "      <td>155770.000000</td>\n",
       "    </tr>\n",
       "    <tr>\n",
       "      <th>75%</th>\n",
       "      <td>413236.500000</td>\n",
       "    </tr>\n",
       "    <tr>\n",
       "      <th>max</th>\n",
       "      <td>550257.000000</td>\n",
       "    </tr>\n",
       "  </tbody>\n",
       "</table>\n",
       "</div>"
      ],
      "text/plain": [
       "               VALUE\n",
       "count       7.000000\n",
       "mean   267967.571429\n",
       "std    187744.990752\n",
       "min     52798.000000\n",
       "25%    145237.500000\n",
       "50%    155770.000000\n",
       "75%    413236.500000\n",
       "max    550257.000000"
      ]
     },
     "execution_count": 25,
     "metadata": {},
     "output_type": "execute_result"
    }
   ],
   "source": [
    "IRE_dataset.describe()"
   ]
  },
  {
   "cell_type": "markdown",
   "id": "7b952b39",
   "metadata": {},
   "source": [
    "# Confidnece Interval"
   ]
  },
  {
   "cell_type": "code",
   "execution_count": 26,
   "id": "cf05a778",
   "metadata": {},
   "outputs": [
    {
     "data": {
      "text/plain": [
       "(26.412160625502725, 33.1395635124283)"
      ]
     },
     "execution_count": 26,
     "metadata": {},
     "output_type": "execute_result"
    }
   ],
   "source": [
    "#We create our confidence interval using Student's T at 90% confidence\n",
    "\n",
    "X = EU_dataset.iloc[:,3].values\n",
    "#EU_dataset_Short\n",
    "\n",
    "#X\n",
    "stats.t.interval(confidence=0.9, df=len(X)-1, loc= np.mean(X), scale = stats.sem(X))"
   ]
  },
  {
   "cell_type": "markdown",
   "id": "1f063f9e",
   "metadata": {},
   "source": [
    "\n",
    "At a 90% confidence level, this tells us based on the sample we can expect to see between 26 and 33 minute commutes on avergae for our sample."
   ]
  },
  {
   "cell_type": "markdown",
   "id": "37cfd3ae",
   "metadata": {},
   "source": [
    "# T-Test"
   ]
  },
  {
   "cell_type": "code",
   "execution_count": 27,
   "id": "449931c6",
   "metadata": {},
   "outputs": [
    {
     "data": {
      "text/html": [
       "<div>\n",
       "<style scoped>\n",
       "    .dataframe tbody tr th:only-of-type {\n",
       "        vertical-align: middle;\n",
       "    }\n",
       "\n",
       "    .dataframe tbody tr th {\n",
       "        vertical-align: top;\n",
       "    }\n",
       "\n",
       "    .dataframe thead th {\n",
       "        text-align: right;\n",
       "    }\n",
       "</style>\n",
       "<table border=\"1\" class=\"dataframe\">\n",
       "  <thead>\n",
       "    <tr style=\"text-align: right;\">\n",
       "      <th></th>\n",
       "      <th>Broad Industrial Group</th>\n",
       "      <th>Travelling Time</th>\n",
       "      <th>Statistic Label</th>\n",
       "      <th>VALUE</th>\n",
       "    </tr>\n",
       "  </thead>\n",
       "  <tbody>\n",
       "    <tr>\n",
       "      <th>532</th>\n",
       "      <td>Total at work</td>\n",
       "      <td>&lt; ¼ hour</td>\n",
       "      <td>Persons at work 2016</td>\n",
       "      <td>430221.0</td>\n",
       "    </tr>\n",
       "    <tr>\n",
       "      <th>535</th>\n",
       "      <td>Total at work</td>\n",
       "      <td>¼ hour - &lt; ½ hour</td>\n",
       "      <td>Persons at work 2016</td>\n",
       "      <td>550257.0</td>\n",
       "    </tr>\n",
       "    <tr>\n",
       "      <th>538</th>\n",
       "      <td>Total at work</td>\n",
       "      <td>½ hour - &lt; ¾ hour</td>\n",
       "      <td>Persons at work 2016</td>\n",
       "      <td>396252.0</td>\n",
       "    </tr>\n",
       "    <tr>\n",
       "      <th>541</th>\n",
       "      <td>Total at work</td>\n",
       "      <td>¾ hour - &lt; 1 hour</td>\n",
       "      <td>Persons at work 2016</td>\n",
       "      <td>143351.0</td>\n",
       "    </tr>\n",
       "    <tr>\n",
       "      <th>544</th>\n",
       "      <td>Total at work</td>\n",
       "      <td>1 hour - &lt; 1½ hours</td>\n",
       "      <td>Persons at work 2016</td>\n",
       "      <td>147124.0</td>\n",
       "    </tr>\n",
       "  </tbody>\n",
       "</table>\n",
       "</div>"
      ],
      "text/plain": [
       "    Broad Industrial Group      Travelling Time       Statistic Label  \\\n",
       "532          Total at work             < ¼ hour  Persons at work 2016   \n",
       "535          Total at work    ¼ hour - < ½ hour  Persons at work 2016   \n",
       "538          Total at work    ½ hour - < ¾ hour  Persons at work 2016   \n",
       "541          Total at work    ¾ hour - < 1 hour  Persons at work 2016   \n",
       "544          Total at work  1 hour - < 1½ hours  Persons at work 2016   \n",
       "\n",
       "        VALUE  \n",
       "532  430221.0  \n",
       "535  550257.0  \n",
       "538  396252.0  \n",
       "541  143351.0  \n",
       "544  147124.0  "
      ]
     },
     "execution_count": 27,
     "metadata": {},
     "output_type": "execute_result"
    }
   ],
   "source": [
    "TotalAverageCommute = IRE_dataset.loc[IRE_dataset['Broad Industrial Group'] =='Total at work']\n",
    "TotalAverageCommute.head()"
   ]
  },
  {
   "cell_type": "code",
   "execution_count": 28,
   "id": "1ce065f1",
   "metadata": {},
   "outputs": [
    {
     "data": {
      "text/html": [
       "<div>\n",
       "<style scoped>\n",
       "    .dataframe tbody tr th:only-of-type {\n",
       "        vertical-align: middle;\n",
       "    }\n",
       "\n",
       "    .dataframe tbody tr th {\n",
       "        vertical-align: top;\n",
       "    }\n",
       "\n",
       "    .dataframe thead th {\n",
       "        text-align: right;\n",
       "    }\n",
       "</style>\n",
       "<table border=\"1\" class=\"dataframe\">\n",
       "  <thead>\n",
       "    <tr style=\"text-align: right;\">\n",
       "      <th></th>\n",
       "      <th>Broad Industrial Group</th>\n",
       "      <th>Travelling Time</th>\n",
       "      <th>Statistic Label</th>\n",
       "      <th>VALUE</th>\n",
       "    </tr>\n",
       "  </thead>\n",
       "  <tbody>\n",
       "    <tr>\n",
       "      <th>532</th>\n",
       "      <td>Total at work</td>\n",
       "      <td>&lt; ¼ hour</td>\n",
       "      <td>Persons at work 2016</td>\n",
       "      <td>430221.0</td>\n",
       "    </tr>\n",
       "    <tr>\n",
       "      <th>535</th>\n",
       "      <td>Total at work</td>\n",
       "      <td>¼ hour - &lt; ½ hour</td>\n",
       "      <td>Persons at work 2016</td>\n",
       "      <td>550257.0</td>\n",
       "    </tr>\n",
       "    <tr>\n",
       "      <th>538</th>\n",
       "      <td>Total at work</td>\n",
       "      <td>½ hour - &lt; ¾ hour</td>\n",
       "      <td>Persons at work 2016</td>\n",
       "      <td>396252.0</td>\n",
       "    </tr>\n",
       "    <tr>\n",
       "      <th>541</th>\n",
       "      <td>Total at work</td>\n",
       "      <td>¾ hour - &lt; 1 hour</td>\n",
       "      <td>Persons at work 2016</td>\n",
       "      <td>143351.0</td>\n",
       "    </tr>\n",
       "    <tr>\n",
       "      <th>544</th>\n",
       "      <td>Total at work</td>\n",
       "      <td>1 hour - &lt; 1½ hours</td>\n",
       "      <td>Persons at work 2016</td>\n",
       "      <td>147124.0</td>\n",
       "    </tr>\n",
       "  </tbody>\n",
       "</table>\n",
       "</div>"
      ],
      "text/plain": [
       "    Broad Industrial Group      Travelling Time       Statistic Label  \\\n",
       "532          Total at work             < ¼ hour  Persons at work 2016   \n",
       "535          Total at work    ¼ hour - < ½ hour  Persons at work 2016   \n",
       "538          Total at work    ½ hour - < ¾ hour  Persons at work 2016   \n",
       "541          Total at work    ¾ hour - < 1 hour  Persons at work 2016   \n",
       "544          Total at work  1 hour - < 1½ hours  Persons at work 2016   \n",
       "\n",
       "        VALUE  \n",
       "532  430221.0  \n",
       "535  550257.0  \n",
       "538  396252.0  \n",
       "541  143351.0  \n",
       "544  147124.0  "
      ]
     },
     "execution_count": 28,
     "metadata": {},
     "output_type": "execute_result"
    }
   ],
   "source": [
    "TotalAverageCommute = TotalAverageCommute[TotalAverageCommute['Travelling Time'].isin(['< ¼ hour', '¼ hour - < ½ hour', '½ hour - < ¾ hour', '¾ hour - < 1 hour','1 hour - < 1½ hours','1½ hours and over','Not stated'])]\n",
    "TotalAverageCommute.head()"
   ]
  },
  {
   "cell_type": "code",
   "execution_count": 29,
   "id": "162f5116",
   "metadata": {},
   "outputs": [
    {
     "data": {
      "text/html": [
       "<div>\n",
       "<style scoped>\n",
       "    .dataframe tbody tr th:only-of-type {\n",
       "        vertical-align: middle;\n",
       "    }\n",
       "\n",
       "    .dataframe tbody tr th {\n",
       "        vertical-align: top;\n",
       "    }\n",
       "\n",
       "    .dataframe thead th {\n",
       "        text-align: right;\n",
       "    }\n",
       "</style>\n",
       "<table border=\"1\" class=\"dataframe\">\n",
       "  <thead>\n",
       "    <tr style=\"text-align: right;\">\n",
       "      <th></th>\n",
       "      <th>Broad Industrial Group</th>\n",
       "      <th>Travelling Time</th>\n",
       "      <th>Statistic Label</th>\n",
       "      <th>VALUE</th>\n",
       "    </tr>\n",
       "  </thead>\n",
       "  <tbody>\n",
       "    <tr>\n",
       "      <th>532</th>\n",
       "      <td>Total at work</td>\n",
       "      <td>&lt; ¼ hour</td>\n",
       "      <td>Persons at work 2016</td>\n",
       "      <td>430221.0</td>\n",
       "    </tr>\n",
       "    <tr>\n",
       "      <th>535</th>\n",
       "      <td>Total at work</td>\n",
       "      <td>¼ hour - &lt; ½ hour</td>\n",
       "      <td>Persons at work 2016</td>\n",
       "      <td>550257.0</td>\n",
       "    </tr>\n",
       "    <tr>\n",
       "      <th>538</th>\n",
       "      <td>Total at work</td>\n",
       "      <td>½ hour - &lt; ¾ hour</td>\n",
       "      <td>Persons at work 2016</td>\n",
       "      <td>396252.0</td>\n",
       "    </tr>\n",
       "    <tr>\n",
       "      <th>541</th>\n",
       "      <td>Total at work</td>\n",
       "      <td>¾ hour - &lt; 1 hour</td>\n",
       "      <td>Persons at work 2016</td>\n",
       "      <td>143351.0</td>\n",
       "    </tr>\n",
       "    <tr>\n",
       "      <th>544</th>\n",
       "      <td>Total at work</td>\n",
       "      <td>1 hour - &lt; 1½ hours</td>\n",
       "      <td>Persons at work 2016</td>\n",
       "      <td>147124.0</td>\n",
       "    </tr>\n",
       "    <tr>\n",
       "      <th>547</th>\n",
       "      <td>Total at work</td>\n",
       "      <td>1½ hours and over</td>\n",
       "      <td>Persons at work 2016</td>\n",
       "      <td>52798.0</td>\n",
       "    </tr>\n",
       "    <tr>\n",
       "      <th>550</th>\n",
       "      <td>Total at work</td>\n",
       "      <td>Not stated</td>\n",
       "      <td>Persons at work 2016</td>\n",
       "      <td>155770.0</td>\n",
       "    </tr>\n",
       "  </tbody>\n",
       "</table>\n",
       "</div>"
      ],
      "text/plain": [
       "    Broad Industrial Group      Travelling Time       Statistic Label  \\\n",
       "532          Total at work             < ¼ hour  Persons at work 2016   \n",
       "535          Total at work    ¼ hour - < ½ hour  Persons at work 2016   \n",
       "538          Total at work    ½ hour - < ¾ hour  Persons at work 2016   \n",
       "541          Total at work    ¾ hour - < 1 hour  Persons at work 2016   \n",
       "544          Total at work  1 hour - < 1½ hours  Persons at work 2016   \n",
       "547          Total at work    1½ hours and over  Persons at work 2016   \n",
       "550          Total at work           Not stated  Persons at work 2016   \n",
       "\n",
       "        VALUE  \n",
       "532  430221.0  \n",
       "535  550257.0  \n",
       "538  396252.0  \n",
       "541  143351.0  \n",
       "544  147124.0  \n",
       "547   52798.0  \n",
       "550  155770.0  "
      ]
     },
     "execution_count": 29,
     "metadata": {},
     "output_type": "execute_result"
    }
   ],
   "source": [
    "TotalAverageCommute = TotalAverageCommute.loc[TotalAverageCommute['Statistic Label'] =='Persons at work 2016']\n",
    "TotalAverageCommute"
   ]
  },
  {
   "cell_type": "code",
   "execution_count": 30,
   "id": "2fc2b8df",
   "metadata": {},
   "outputs": [],
   "source": [
    "def Time_Convert_Max(row):\n",
    "    if row['Travelling Time'] == '< ¼ hour':\n",
    "        val = 15\n",
    "    elif row['Travelling Time'] == '¼ hour - < ½ hour':\n",
    "        val = 30\n",
    "    elif row['Travelling Time'] == '½ hour - < ¾ hour':\n",
    "        val = 45\n",
    "    elif row['Travelling Time'] == '¾ hour - < 1 hour':\n",
    "        val = 60\n",
    "    elif row['Travelling Time'] == '1 hour - < 1½ hours':\n",
    "        val = 90\n",
    "    elif row['Travelling Time'] == '1½ hours and over':\n",
    "        val = 90\n",
    "    elif row['Travelling Time'] == 'Not stated':\n",
    "        val = 0\n",
    "    else:\n",
    "        val = 0\n",
    "    return val"
   ]
  },
  {
   "cell_type": "code",
   "execution_count": 31,
   "id": "710c1e5a",
   "metadata": {},
   "outputs": [
    {
     "data": {
      "text/html": [
       "<div>\n",
       "<style scoped>\n",
       "    .dataframe tbody tr th:only-of-type {\n",
       "        vertical-align: middle;\n",
       "    }\n",
       "\n",
       "    .dataframe tbody tr th {\n",
       "        vertical-align: top;\n",
       "    }\n",
       "\n",
       "    .dataframe thead th {\n",
       "        text-align: right;\n",
       "    }\n",
       "</style>\n",
       "<table border=\"1\" class=\"dataframe\">\n",
       "  <thead>\n",
       "    <tr style=\"text-align: right;\">\n",
       "      <th></th>\n",
       "      <th>Broad Industrial Group</th>\n",
       "      <th>Travelling Time</th>\n",
       "      <th>Statistic Label</th>\n",
       "      <th>VALUE</th>\n",
       "      <th>Time_Max</th>\n",
       "    </tr>\n",
       "  </thead>\n",
       "  <tbody>\n",
       "    <tr>\n",
       "      <th>532</th>\n",
       "      <td>Total at work</td>\n",
       "      <td>&lt; ¼ hour</td>\n",
       "      <td>Persons at work 2016</td>\n",
       "      <td>430221.0</td>\n",
       "      <td>15</td>\n",
       "    </tr>\n",
       "    <tr>\n",
       "      <th>535</th>\n",
       "      <td>Total at work</td>\n",
       "      <td>¼ hour - &lt; ½ hour</td>\n",
       "      <td>Persons at work 2016</td>\n",
       "      <td>550257.0</td>\n",
       "      <td>30</td>\n",
       "    </tr>\n",
       "    <tr>\n",
       "      <th>538</th>\n",
       "      <td>Total at work</td>\n",
       "      <td>½ hour - &lt; ¾ hour</td>\n",
       "      <td>Persons at work 2016</td>\n",
       "      <td>396252.0</td>\n",
       "      <td>45</td>\n",
       "    </tr>\n",
       "    <tr>\n",
       "      <th>541</th>\n",
       "      <td>Total at work</td>\n",
       "      <td>¾ hour - &lt; 1 hour</td>\n",
       "      <td>Persons at work 2016</td>\n",
       "      <td>143351.0</td>\n",
       "      <td>60</td>\n",
       "    </tr>\n",
       "    <tr>\n",
       "      <th>544</th>\n",
       "      <td>Total at work</td>\n",
       "      <td>1 hour - &lt; 1½ hours</td>\n",
       "      <td>Persons at work 2016</td>\n",
       "      <td>147124.0</td>\n",
       "      <td>90</td>\n",
       "    </tr>\n",
       "    <tr>\n",
       "      <th>547</th>\n",
       "      <td>Total at work</td>\n",
       "      <td>1½ hours and over</td>\n",
       "      <td>Persons at work 2016</td>\n",
       "      <td>52798.0</td>\n",
       "      <td>90</td>\n",
       "    </tr>\n",
       "    <tr>\n",
       "      <th>550</th>\n",
       "      <td>Total at work</td>\n",
       "      <td>Not stated</td>\n",
       "      <td>Persons at work 2016</td>\n",
       "      <td>155770.0</td>\n",
       "      <td>0</td>\n",
       "    </tr>\n",
       "  </tbody>\n",
       "</table>\n",
       "</div>"
      ],
      "text/plain": [
       "    Broad Industrial Group      Travelling Time       Statistic Label  \\\n",
       "532          Total at work             < ¼ hour  Persons at work 2016   \n",
       "535          Total at work    ¼ hour - < ½ hour  Persons at work 2016   \n",
       "538          Total at work    ½ hour - < ¾ hour  Persons at work 2016   \n",
       "541          Total at work    ¾ hour - < 1 hour  Persons at work 2016   \n",
       "544          Total at work  1 hour - < 1½ hours  Persons at work 2016   \n",
       "547          Total at work    1½ hours and over  Persons at work 2016   \n",
       "550          Total at work           Not stated  Persons at work 2016   \n",
       "\n",
       "        VALUE  Time_Max  \n",
       "532  430221.0        15  \n",
       "535  550257.0        30  \n",
       "538  396252.0        45  \n",
       "541  143351.0        60  \n",
       "544  147124.0        90  \n",
       "547   52798.0        90  \n",
       "550  155770.0         0  "
      ]
     },
     "execution_count": 31,
     "metadata": {},
     "output_type": "execute_result"
    }
   ],
   "source": [
    "In [1]: TotalAverageCommute['Time_Max'] = TotalAverageCommute.apply(Time_Convert_Max, axis=1)\n",
    "TotalAverageCommute"
   ]
  },
  {
   "cell_type": "code",
   "execution_count": 32,
   "id": "4889224c",
   "metadata": {},
   "outputs": [],
   "source": [
    "def Time_Convert_Min(row):\n",
    "    if row['Travelling Time'] == '< ¼ hour':\n",
    "        val = 1\n",
    "    elif row['Travelling Time'] == '¼ hour - < ½ hour':\n",
    "        val = 15\n",
    "    elif row['Travelling Time'] == '½ hour - < ¾ hour':\n",
    "        val = 30\n",
    "    elif row['Travelling Time'] == '¾ hour - < 1 hour':\n",
    "        val = 45\n",
    "    elif row['Travelling Time'] == '1 hour - < 1½ hours':\n",
    "        val = 60\n",
    "    elif row['Travelling Time'] == '1½ hours and over':\n",
    "        val = 90\n",
    "    elif row['Travelling Time'] == 'Not stated':\n",
    "        val = 0\n",
    "    else:\n",
    "        val = 0\n",
    "    return val"
   ]
  },
  {
   "cell_type": "code",
   "execution_count": 33,
   "id": "d8a39f5e",
   "metadata": {},
   "outputs": [
    {
     "data": {
      "text/html": [
       "<div>\n",
       "<style scoped>\n",
       "    .dataframe tbody tr th:only-of-type {\n",
       "        vertical-align: middle;\n",
       "    }\n",
       "\n",
       "    .dataframe tbody tr th {\n",
       "        vertical-align: top;\n",
       "    }\n",
       "\n",
       "    .dataframe thead th {\n",
       "        text-align: right;\n",
       "    }\n",
       "</style>\n",
       "<table border=\"1\" class=\"dataframe\">\n",
       "  <thead>\n",
       "    <tr style=\"text-align: right;\">\n",
       "      <th></th>\n",
       "      <th>Broad Industrial Group</th>\n",
       "      <th>Travelling Time</th>\n",
       "      <th>Statistic Label</th>\n",
       "      <th>VALUE</th>\n",
       "      <th>Time_Max</th>\n",
       "      <th>Time_Min</th>\n",
       "    </tr>\n",
       "  </thead>\n",
       "  <tbody>\n",
       "    <tr>\n",
       "      <th>532</th>\n",
       "      <td>Total at work</td>\n",
       "      <td>&lt; ¼ hour</td>\n",
       "      <td>Persons at work 2016</td>\n",
       "      <td>430221.0</td>\n",
       "      <td>15</td>\n",
       "      <td>1</td>\n",
       "    </tr>\n",
       "    <tr>\n",
       "      <th>535</th>\n",
       "      <td>Total at work</td>\n",
       "      <td>¼ hour - &lt; ½ hour</td>\n",
       "      <td>Persons at work 2016</td>\n",
       "      <td>550257.0</td>\n",
       "      <td>30</td>\n",
       "      <td>15</td>\n",
       "    </tr>\n",
       "    <tr>\n",
       "      <th>538</th>\n",
       "      <td>Total at work</td>\n",
       "      <td>½ hour - &lt; ¾ hour</td>\n",
       "      <td>Persons at work 2016</td>\n",
       "      <td>396252.0</td>\n",
       "      <td>45</td>\n",
       "      <td>30</td>\n",
       "    </tr>\n",
       "    <tr>\n",
       "      <th>541</th>\n",
       "      <td>Total at work</td>\n",
       "      <td>¾ hour - &lt; 1 hour</td>\n",
       "      <td>Persons at work 2016</td>\n",
       "      <td>143351.0</td>\n",
       "      <td>60</td>\n",
       "      <td>45</td>\n",
       "    </tr>\n",
       "    <tr>\n",
       "      <th>544</th>\n",
       "      <td>Total at work</td>\n",
       "      <td>1 hour - &lt; 1½ hours</td>\n",
       "      <td>Persons at work 2016</td>\n",
       "      <td>147124.0</td>\n",
       "      <td>90</td>\n",
       "      <td>60</td>\n",
       "    </tr>\n",
       "    <tr>\n",
       "      <th>547</th>\n",
       "      <td>Total at work</td>\n",
       "      <td>1½ hours and over</td>\n",
       "      <td>Persons at work 2016</td>\n",
       "      <td>52798.0</td>\n",
       "      <td>90</td>\n",
       "      <td>90</td>\n",
       "    </tr>\n",
       "    <tr>\n",
       "      <th>550</th>\n",
       "      <td>Total at work</td>\n",
       "      <td>Not stated</td>\n",
       "      <td>Persons at work 2016</td>\n",
       "      <td>155770.0</td>\n",
       "      <td>0</td>\n",
       "      <td>0</td>\n",
       "    </tr>\n",
       "  </tbody>\n",
       "</table>\n",
       "</div>"
      ],
      "text/plain": [
       "    Broad Industrial Group      Travelling Time       Statistic Label  \\\n",
       "532          Total at work             < ¼ hour  Persons at work 2016   \n",
       "535          Total at work    ¼ hour - < ½ hour  Persons at work 2016   \n",
       "538          Total at work    ½ hour - < ¾ hour  Persons at work 2016   \n",
       "541          Total at work    ¾ hour - < 1 hour  Persons at work 2016   \n",
       "544          Total at work  1 hour - < 1½ hours  Persons at work 2016   \n",
       "547          Total at work    1½ hours and over  Persons at work 2016   \n",
       "550          Total at work           Not stated  Persons at work 2016   \n",
       "\n",
       "        VALUE  Time_Max  Time_Min  \n",
       "532  430221.0        15         1  \n",
       "535  550257.0        30        15  \n",
       "538  396252.0        45        30  \n",
       "541  143351.0        60        45  \n",
       "544  147124.0        90        60  \n",
       "547   52798.0        90        90  \n",
       "550  155770.0         0         0  "
      ]
     },
     "execution_count": 33,
     "metadata": {},
     "output_type": "execute_result"
    }
   ],
   "source": [
    "In [1]: TotalAverageCommute['Time_Min'] = TotalAverageCommute.apply(Time_Convert_Min, axis=1)\n",
    "TotalAverageCommute"
   ]
  },
  {
   "cell_type": "code",
   "execution_count": 34,
   "id": "8f8ce162",
   "metadata": {},
   "outputs": [
    {
     "data": {
      "text/html": [
       "<div>\n",
       "<style scoped>\n",
       "    .dataframe tbody tr th:only-of-type {\n",
       "        vertical-align: middle;\n",
       "    }\n",
       "\n",
       "    .dataframe tbody tr th {\n",
       "        vertical-align: top;\n",
       "    }\n",
       "\n",
       "    .dataframe thead th {\n",
       "        text-align: right;\n",
       "    }\n",
       "</style>\n",
       "<table border=\"1\" class=\"dataframe\">\n",
       "  <thead>\n",
       "    <tr style=\"text-align: right;\">\n",
       "      <th></th>\n",
       "      <th>Broad Industrial Group</th>\n",
       "      <th>Travelling Time</th>\n",
       "      <th>Statistic Label</th>\n",
       "      <th>VALUE</th>\n",
       "      <th>Time_Max</th>\n",
       "      <th>Time_Min</th>\n",
       "      <th>Time_Avg</th>\n",
       "    </tr>\n",
       "  </thead>\n",
       "  <tbody>\n",
       "    <tr>\n",
       "      <th>532</th>\n",
       "      <td>Total at work</td>\n",
       "      <td>&lt; ¼ hour</td>\n",
       "      <td>Persons at work 2016</td>\n",
       "      <td>430221.0</td>\n",
       "      <td>15</td>\n",
       "      <td>1</td>\n",
       "      <td>8.0</td>\n",
       "    </tr>\n",
       "    <tr>\n",
       "      <th>535</th>\n",
       "      <td>Total at work</td>\n",
       "      <td>¼ hour - &lt; ½ hour</td>\n",
       "      <td>Persons at work 2016</td>\n",
       "      <td>550257.0</td>\n",
       "      <td>30</td>\n",
       "      <td>15</td>\n",
       "      <td>22.5</td>\n",
       "    </tr>\n",
       "    <tr>\n",
       "      <th>538</th>\n",
       "      <td>Total at work</td>\n",
       "      <td>½ hour - &lt; ¾ hour</td>\n",
       "      <td>Persons at work 2016</td>\n",
       "      <td>396252.0</td>\n",
       "      <td>45</td>\n",
       "      <td>30</td>\n",
       "      <td>37.5</td>\n",
       "    </tr>\n",
       "    <tr>\n",
       "      <th>541</th>\n",
       "      <td>Total at work</td>\n",
       "      <td>¾ hour - &lt; 1 hour</td>\n",
       "      <td>Persons at work 2016</td>\n",
       "      <td>143351.0</td>\n",
       "      <td>60</td>\n",
       "      <td>45</td>\n",
       "      <td>52.5</td>\n",
       "    </tr>\n",
       "    <tr>\n",
       "      <th>544</th>\n",
       "      <td>Total at work</td>\n",
       "      <td>1 hour - &lt; 1½ hours</td>\n",
       "      <td>Persons at work 2016</td>\n",
       "      <td>147124.0</td>\n",
       "      <td>90</td>\n",
       "      <td>60</td>\n",
       "      <td>75.0</td>\n",
       "    </tr>\n",
       "    <tr>\n",
       "      <th>547</th>\n",
       "      <td>Total at work</td>\n",
       "      <td>1½ hours and over</td>\n",
       "      <td>Persons at work 2016</td>\n",
       "      <td>52798.0</td>\n",
       "      <td>90</td>\n",
       "      <td>90</td>\n",
       "      <td>90.0</td>\n",
       "    </tr>\n",
       "    <tr>\n",
       "      <th>550</th>\n",
       "      <td>Total at work</td>\n",
       "      <td>Not stated</td>\n",
       "      <td>Persons at work 2016</td>\n",
       "      <td>155770.0</td>\n",
       "      <td>0</td>\n",
       "      <td>0</td>\n",
       "      <td>0.0</td>\n",
       "    </tr>\n",
       "  </tbody>\n",
       "</table>\n",
       "</div>"
      ],
      "text/plain": [
       "    Broad Industrial Group      Travelling Time       Statistic Label  \\\n",
       "532          Total at work             < ¼ hour  Persons at work 2016   \n",
       "535          Total at work    ¼ hour - < ½ hour  Persons at work 2016   \n",
       "538          Total at work    ½ hour - < ¾ hour  Persons at work 2016   \n",
       "541          Total at work    ¾ hour - < 1 hour  Persons at work 2016   \n",
       "544          Total at work  1 hour - < 1½ hours  Persons at work 2016   \n",
       "547          Total at work    1½ hours and over  Persons at work 2016   \n",
       "550          Total at work           Not stated  Persons at work 2016   \n",
       "\n",
       "        VALUE  Time_Max  Time_Min  Time_Avg  \n",
       "532  430221.0        15         1       8.0  \n",
       "535  550257.0        30        15      22.5  \n",
       "538  396252.0        45        30      37.5  \n",
       "541  143351.0        60        45      52.5  \n",
       "544  147124.0        90        60      75.0  \n",
       "547   52798.0        90        90      90.0  \n",
       "550  155770.0         0         0       0.0  "
      ]
     },
     "execution_count": 34,
     "metadata": {},
     "output_type": "execute_result"
    }
   ],
   "source": [
    "TotalAverageCommute['Time_Avg'] = (TotalAverageCommute['Time_Min'] + TotalAverageCommute['Time_Max']) / 2\n",
    "TotalAverageCommute"
   ]
  },
  {
   "cell_type": "code",
   "execution_count": 35,
   "id": "392883f6",
   "metadata": {},
   "outputs": [
    {
     "data": {
      "text/html": [
       "<div>\n",
       "<style scoped>\n",
       "    .dataframe tbody tr th:only-of-type {\n",
       "        vertical-align: middle;\n",
       "    }\n",
       "\n",
       "    .dataframe tbody tr th {\n",
       "        vertical-align: top;\n",
       "    }\n",
       "\n",
       "    .dataframe thead th {\n",
       "        text-align: right;\n",
       "    }\n",
       "</style>\n",
       "<table border=\"1\" class=\"dataframe\">\n",
       "  <thead>\n",
       "    <tr style=\"text-align: right;\">\n",
       "      <th></th>\n",
       "      <th>Broad Industrial Group</th>\n",
       "      <th>Travelling Time</th>\n",
       "      <th>Statistic Label</th>\n",
       "      <th>VALUE</th>\n",
       "      <th>Time_Max</th>\n",
       "      <th>Time_Min</th>\n",
       "      <th>Time_Avg</th>\n",
       "      <th>Time_Weighted</th>\n",
       "    </tr>\n",
       "  </thead>\n",
       "  <tbody>\n",
       "    <tr>\n",
       "      <th>532</th>\n",
       "      <td>Total at work</td>\n",
       "      <td>&lt; ¼ hour</td>\n",
       "      <td>Persons at work 2016</td>\n",
       "      <td>430221.0</td>\n",
       "      <td>15</td>\n",
       "      <td>1</td>\n",
       "      <td>8.0</td>\n",
       "      <td>3441768.0</td>\n",
       "    </tr>\n",
       "    <tr>\n",
       "      <th>535</th>\n",
       "      <td>Total at work</td>\n",
       "      <td>¼ hour - &lt; ½ hour</td>\n",
       "      <td>Persons at work 2016</td>\n",
       "      <td>550257.0</td>\n",
       "      <td>30</td>\n",
       "      <td>15</td>\n",
       "      <td>22.5</td>\n",
       "      <td>12380782.5</td>\n",
       "    </tr>\n",
       "    <tr>\n",
       "      <th>538</th>\n",
       "      <td>Total at work</td>\n",
       "      <td>½ hour - &lt; ¾ hour</td>\n",
       "      <td>Persons at work 2016</td>\n",
       "      <td>396252.0</td>\n",
       "      <td>45</td>\n",
       "      <td>30</td>\n",
       "      <td>37.5</td>\n",
       "      <td>14859450.0</td>\n",
       "    </tr>\n",
       "    <tr>\n",
       "      <th>541</th>\n",
       "      <td>Total at work</td>\n",
       "      <td>¾ hour - &lt; 1 hour</td>\n",
       "      <td>Persons at work 2016</td>\n",
       "      <td>143351.0</td>\n",
       "      <td>60</td>\n",
       "      <td>45</td>\n",
       "      <td>52.5</td>\n",
       "      <td>7525927.5</td>\n",
       "    </tr>\n",
       "    <tr>\n",
       "      <th>544</th>\n",
       "      <td>Total at work</td>\n",
       "      <td>1 hour - &lt; 1½ hours</td>\n",
       "      <td>Persons at work 2016</td>\n",
       "      <td>147124.0</td>\n",
       "      <td>90</td>\n",
       "      <td>60</td>\n",
       "      <td>75.0</td>\n",
       "      <td>11034300.0</td>\n",
       "    </tr>\n",
       "    <tr>\n",
       "      <th>547</th>\n",
       "      <td>Total at work</td>\n",
       "      <td>1½ hours and over</td>\n",
       "      <td>Persons at work 2016</td>\n",
       "      <td>52798.0</td>\n",
       "      <td>90</td>\n",
       "      <td>90</td>\n",
       "      <td>90.0</td>\n",
       "      <td>4751820.0</td>\n",
       "    </tr>\n",
       "    <tr>\n",
       "      <th>550</th>\n",
       "      <td>Total at work</td>\n",
       "      <td>Not stated</td>\n",
       "      <td>Persons at work 2016</td>\n",
       "      <td>155770.0</td>\n",
       "      <td>0</td>\n",
       "      <td>0</td>\n",
       "      <td>0.0</td>\n",
       "      <td>0.0</td>\n",
       "    </tr>\n",
       "  </tbody>\n",
       "</table>\n",
       "</div>"
      ],
      "text/plain": [
       "    Broad Industrial Group      Travelling Time       Statistic Label  \\\n",
       "532          Total at work             < ¼ hour  Persons at work 2016   \n",
       "535          Total at work    ¼ hour - < ½ hour  Persons at work 2016   \n",
       "538          Total at work    ½ hour - < ¾ hour  Persons at work 2016   \n",
       "541          Total at work    ¾ hour - < 1 hour  Persons at work 2016   \n",
       "544          Total at work  1 hour - < 1½ hours  Persons at work 2016   \n",
       "547          Total at work    1½ hours and over  Persons at work 2016   \n",
       "550          Total at work           Not stated  Persons at work 2016   \n",
       "\n",
       "        VALUE  Time_Max  Time_Min  Time_Avg  Time_Weighted  \n",
       "532  430221.0        15         1       8.0      3441768.0  \n",
       "535  550257.0        30        15      22.5     12380782.5  \n",
       "538  396252.0        45        30      37.5     14859450.0  \n",
       "541  143351.0        60        45      52.5      7525927.5  \n",
       "544  147124.0        90        60      75.0     11034300.0  \n",
       "547   52798.0        90        90      90.0      4751820.0  \n",
       "550  155770.0         0         0       0.0            0.0  "
      ]
     },
     "execution_count": 35,
     "metadata": {},
     "output_type": "execute_result"
    }
   ],
   "source": [
    "TotalAverageCommute['Time_Weighted'] = TotalAverageCommute['Time_Avg'] * TotalAverageCommute['VALUE']\n",
    "TotalAverageCommute"
   ]
  },
  {
   "cell_type": "code",
   "execution_count": 36,
   "id": "164f6441",
   "metadata": {},
   "outputs": [
    {
     "data": {
      "text/plain": [
       "53994048.0"
      ]
     },
     "execution_count": 36,
     "metadata": {},
     "output_type": "execute_result"
    }
   ],
   "source": [
    "WeightedSum = TotalAverageCommute ['Time_Weighted'].sum () \n",
    "WeightedSum"
   ]
  },
  {
   "cell_type": "code",
   "execution_count": 37,
   "id": "6f032a99",
   "metadata": {},
   "outputs": [
    {
     "data": {
      "text/plain": [
       "1875773.0"
      ]
     },
     "execution_count": 37,
     "metadata": {},
     "output_type": "execute_result"
    }
   ],
   "source": [
    "PopSum = TotalAverageCommute ['VALUE'].sum () \n",
    "PopSum"
   ]
  },
  {
   "cell_type": "code",
   "execution_count": 38,
   "id": "0782f68e",
   "metadata": {},
   "outputs": [
    {
     "data": {
      "text/plain": [
       "28.784958521100368"
      ]
     },
     "execution_count": 38,
     "metadata": {},
     "output_type": "execute_result"
    }
   ],
   "source": [
    "Avg_Irish_Commute = WeightedSum/PopSum\n",
    "Avg_Irish_Commute"
   ]
  },
  {
   "cell_type": "code",
   "execution_count": 39,
   "id": "d24ad60d",
   "metadata": {},
   "outputs": [],
   "source": [
    "#Avg_EU_Commute = 25"
   ]
  },
  {
   "cell_type": "code",
   "execution_count": 40,
   "id": "2024d7aa",
   "metadata": {},
   "outputs": [],
   "source": [
    "#H0: x̄/mu = Irish time is same as EU Average of 25 mins\n",
    "#H1: x̄/mu different than EU Average of 25 mins"
   ]
  },
  {
   "cell_type": "code",
   "execution_count": 41,
   "id": "42329d5a",
   "metadata": {},
   "outputs": [],
   "source": [
    "X = EU_dataset['Both_Sexes']"
   ]
  },
  {
   "cell_type": "code",
   "execution_count": 42,
   "id": "8e20aedd",
   "metadata": {},
   "outputs": [],
   "source": [
    "mu = Avg_Irish_Commute"
   ]
  },
  {
   "cell_type": "markdown",
   "id": "b1478449",
   "metadata": {},
   "source": [
    "# Normal (Z TEST)"
   ]
  },
  {
   "cell_type": "code",
   "execution_count": 43,
   "id": "ea036e94",
   "metadata": {},
   "outputs": [
    {
     "data": {
      "text/plain": [
       "0.5011314786641567"
      ]
     },
     "execution_count": 43,
     "metadata": {},
     "output_type": "execute_result"
    }
   ],
   "source": [
    "#We compute z and p-value\n",
    "\n",
    "z_score, p_value = weightstats.ztest(X, value = mu, ddof = 1, alternative = 'two-sided')\n",
    "\n",
    "z_score"
   ]
  },
  {
   "cell_type": "code",
   "execution_count": 44,
   "id": "3a4da8b3",
   "metadata": {},
   "outputs": [
    {
     "data": {
      "text/plain": [
       "0.6162785941329143"
      ]
     },
     "execution_count": 44,
     "metadata": {},
     "output_type": "execute_result"
    }
   ],
   "source": [
    "p_value"
   ]
  },
  {
   "cell_type": "markdown",
   "id": "2978caca",
   "metadata": {},
   "source": [
    "In this case, we accept H0, then we have evidence to say that Ireland's average commute times are similar to those in the EU."
   ]
  },
  {
   "cell_type": "markdown",
   "id": "ff0e2bad",
   "metadata": {},
   "source": [
    "# T- TEST"
   ]
  },
  {
   "cell_type": "code",
   "execution_count": 45,
   "id": "02748588",
   "metadata": {},
   "outputs": [
    {
     "name": "stdout",
     "output_type": "stream",
     "text": [
      "T-statistic: 0.5011314786641567\n",
      "P-value: 0.6201957092290915\n"
     ]
    }
   ],
   "source": [
    "stats.ttest_1samp(X,25)\n",
    "\n",
    "t_stat, p_value = stats.ttest_1samp(X, mu)\n",
    "print(\"T-statistic:\", t_stat)\n",
    "print(\"P-value:\", p_value)"
   ]
  },
  {
   "cell_type": "code",
   "execution_count": 46,
   "id": "0c838d6c",
   "metadata": {},
   "outputs": [],
   "source": [
    "transposed_EU_TimeBucket_dataset = pd.melt(EU_TimeBucket_dataset, id_vars=['GEO'], var_name='Time_Bucket', value_name='VALUE')"
   ]
  },
  {
   "cell_type": "code",
   "execution_count": 47,
   "id": "d0cc5bf2",
   "metadata": {},
   "outputs": [
    {
     "data": {
      "text/plain": [
       "ShapiroResult(statistic=0.5974071025848389, pvalue=3.4784143565502745e-08)"
      ]
     },
     "execution_count": 47,
     "metadata": {},
     "output_type": "execute_result"
    }
   ],
   "source": [
    "#Shapiro test No_response\n",
    "\n",
    "stats.shapiro(transposed_EU_TimeBucket_dataset.VALUE[transposed_EU_TimeBucket_dataset.Time_Bucket==\"No_response\"])"
   ]
  },
  {
   "cell_type": "markdown",
   "id": "92de6d4a",
   "metadata": {},
   "source": [
    "# ANOVA 2-Tailed"
   ]
  },
  {
   "cell_type": "code",
   "execution_count": 92,
   "id": "7cc40326",
   "metadata": {},
   "outputs": [
    {
     "data": {
      "text/plain": [
       "<Figure size 640x480 with 0 Axes>"
      ]
     },
     "execution_count": 92,
     "metadata": {},
     "output_type": "execute_result"
    },
    {
     "data": {
      "image/png": "[encoded data removed]",
      "text/plain": [
       "<Figure size 640x480 with 1 Axes>"
      ]
     },
     "metadata": {},
     "output_type": "display_data"
    },
    {
     "data": {
      "text/plain": [
       "<Figure size 640x480 with 0 Axes>"
      ]
     },
     "metadata": {},
     "output_type": "display_data"
    }
   ],
   "source": [
    "#plot\n",
    "\n",
    "#Use the different variables in the follow code: From_1_to_14_minutes, From_15_to_29_minutes, From_30_to_44_minutes, From_45_to_59_minutes, 60_minutes_or_over\n",
    "\n",
    "stats.probplot(EU_TimeBucket_dataset.From_45_to_59_minutes, plot = plt)\n",
    "plt.figure()"
   ]
  },
  {
   "cell_type": "code",
   "execution_count": 49,
   "id": "834b1333",
   "metadata": {},
   "outputs": [],
   "source": [
    "#transposed_EU_TimeBucket_dataset = pd.melt(EU_TimeBucket_dataset, id_vars=['GEO'], var_name='Time_Bucket', value_name='VALUE')"
   ]
  },
  {
   "cell_type": "code",
   "execution_count": 50,
   "id": "2964fd58",
   "metadata": {},
   "outputs": [
    {
     "data": {
      "text/html": [
       "<div>\n",
       "<style scoped>\n",
       "    .dataframe tbody tr th:only-of-type {\n",
       "        vertical-align: middle;\n",
       "    }\n",
       "\n",
       "    .dataframe tbody tr th {\n",
       "        vertical-align: top;\n",
       "    }\n",
       "\n",
       "    .dataframe thead th {\n",
       "        text-align: right;\n",
       "    }\n",
       "</style>\n",
       "<table border=\"1\" class=\"dataframe\">\n",
       "  <thead>\n",
       "    <tr style=\"text-align: right;\">\n",
       "      <th></th>\n",
       "      <th>GEO</th>\n",
       "      <th>Time_Bucket</th>\n",
       "      <th>VALUE</th>\n",
       "    </tr>\n",
       "  </thead>\n",
       "  <tbody>\n",
       "    <tr>\n",
       "      <th>0</th>\n",
       "      <td>Belgium</td>\n",
       "      <td>Zero_minutes</td>\n",
       "      <td>383.5</td>\n",
       "    </tr>\n",
       "    <tr>\n",
       "      <th>1</th>\n",
       "      <td>Bulgaria</td>\n",
       "      <td>Zero_minutes</td>\n",
       "      <td>83.6</td>\n",
       "    </tr>\n",
       "    <tr>\n",
       "      <th>2</th>\n",
       "      <td>Czechia</td>\n",
       "      <td>Zero_minutes</td>\n",
       "      <td>206.1</td>\n",
       "    </tr>\n",
       "    <tr>\n",
       "      <th>3</th>\n",
       "      <td>Denmark</td>\n",
       "      <td>Zero_minutes</td>\n",
       "      <td>150.1</td>\n",
       "    </tr>\n",
       "    <tr>\n",
       "      <th>4</th>\n",
       "      <td>Germany</td>\n",
       "      <td>Zero_minutes</td>\n",
       "      <td>1648.1</td>\n",
       "    </tr>\n",
       "    <tr>\n",
       "      <th>...</th>\n",
       "      <td>...</td>\n",
       "      <td>...</td>\n",
       "      <td>...</td>\n",
       "    </tr>\n",
       "    <tr>\n",
       "      <th>219</th>\n",
       "      <td>United Kingdom</td>\n",
       "      <td>No_response</td>\n",
       "      <td>754.3</td>\n",
       "    </tr>\n",
       "    <tr>\n",
       "      <th>220</th>\n",
       "      <td>Iceland</td>\n",
       "      <td>No_response</td>\n",
       "      <td>19.5</td>\n",
       "    </tr>\n",
       "    <tr>\n",
       "      <th>221</th>\n",
       "      <td>Norway</td>\n",
       "      <td>No_response</td>\n",
       "      <td>0.0</td>\n",
       "    </tr>\n",
       "    <tr>\n",
       "      <th>222</th>\n",
       "      <td>Switzerland</td>\n",
       "      <td>No_response</td>\n",
       "      <td>62.8</td>\n",
       "    </tr>\n",
       "    <tr>\n",
       "      <th>223</th>\n",
       "      <td>Türkiye</td>\n",
       "      <td>No_response</td>\n",
       "      <td>0.0</td>\n",
       "    </tr>\n",
       "  </tbody>\n",
       "</table>\n",
       "<p>224 rows × 3 columns</p>\n",
       "</div>"
      ],
      "text/plain": [
       "                GEO   Time_Bucket   VALUE\n",
       "0           Belgium  Zero_minutes   383.5\n",
       "1          Bulgaria  Zero_minutes    83.6\n",
       "2           Czechia  Zero_minutes   206.1\n",
       "3           Denmark  Zero_minutes   150.1\n",
       "4           Germany  Zero_minutes  1648.1\n",
       "..              ...           ...     ...\n",
       "219  United Kingdom   No_response   754.3\n",
       "220         Iceland   No_response    19.5\n",
       "221          Norway   No_response     0.0\n",
       "222     Switzerland   No_response    62.8\n",
       "223         Türkiye   No_response     0.0\n",
       "\n",
       "[224 rows x 3 columns]"
      ]
     },
     "execution_count": 50,
     "metadata": {},
     "output_type": "execute_result"
    }
   ],
   "source": [
    "transposed_EU_TimeBucket_dataset"
   ]
  },
  {
   "cell_type": "markdown",
   "id": "bb01c3de",
   "metadata": {},
   "source": [
    "Now we will perform a Shapiro Wilk test\n",
    "H0: data comes from a normal distribution // H1: data does not come from a normal distribution"
   ]
  },
  {
   "cell_type": "code",
   "execution_count": 51,
   "id": "6e9a9bb9",
   "metadata": {},
   "outputs": [
    {
     "data": {
      "text/plain": [
       "ShapiroResult(statistic=0.6432220935821533, pvalue=1.3629309592033678e-07)"
      ]
     },
     "execution_count": 51,
     "metadata": {},
     "output_type": "execute_result"
    }
   ],
   "source": [
    "#Shapiro test Zero_minutes\n",
    "stats.shapiro(transposed_EU_TimeBucket_dataset.VALUE[transposed_EU_TimeBucket_dataset.Time_Bucket==\"Zero_minutes\"])"
   ]
  },
  {
   "cell_type": "code",
   "execution_count": 52,
   "id": "fd487e0e",
   "metadata": {},
   "outputs": [
    {
     "data": {
      "text/plain": [
       "ShapiroResult(statistic=0.7036488652229309, pvalue=9.861580565484473e-07)"
      ]
     },
     "execution_count": 52,
     "metadata": {},
     "output_type": "execute_result"
    }
   ],
   "source": [
    "#Shapiro test From_1_to_14_minutes\n",
    "\n",
    "stats.shapiro(transposed_EU_TimeBucket_dataset.VALUE[transposed_EU_TimeBucket_dataset.Time_Bucket==\"From_1_to_14_minutes\"])"
   ]
  },
  {
   "cell_type": "code",
   "execution_count": 53,
   "id": "d14eae6d",
   "metadata": {},
   "outputs": [
    {
     "data": {
      "text/plain": [
       "ShapiroResult(statistic=0.7256731986999512, pvalue=2.1541993646678748e-06)"
      ]
     },
     "execution_count": 53,
     "metadata": {},
     "output_type": "execute_result"
    }
   ],
   "source": [
    "#Shapiro test From_15_to_29_minutes\n",
    "\n",
    "stats.shapiro(transposed_EU_TimeBucket_dataset.VALUE[transposed_EU_TimeBucket_dataset.Time_Bucket==\"From_15_to_29_minutes\"])"
   ]
  },
  {
   "cell_type": "code",
   "execution_count": 54,
   "id": "ba8b6ad6",
   "metadata": {},
   "outputs": [
    {
     "data": {
      "text/plain": [
       "ShapiroResult(statistic=0.7290364503860474, pvalue=2.4349817522306694e-06)"
      ]
     },
     "execution_count": 54,
     "metadata": {},
     "output_type": "execute_result"
    }
   ],
   "source": [
    "#Shapiro test From_30_to_44_minutes\n",
    "\n",
    "stats.shapiro(transposed_EU_TimeBucket_dataset.VALUE[transposed_EU_TimeBucket_dataset.Time_Bucket==\"From_30_to_44_minutes\"])"
   ]
  },
  {
   "cell_type": "code",
   "execution_count": 55,
   "id": "ba9d86e8",
   "metadata": {},
   "outputs": [
    {
     "data": {
      "text/plain": [
       "ShapiroResult(statistic=0.6938837766647339, pvalue=7.051514785416657e-07)"
      ]
     },
     "execution_count": 55,
     "metadata": {},
     "output_type": "execute_result"
    }
   ],
   "source": [
    "#Shapiro test From_45_to_59_minutes\n",
    "\n",
    "stats.shapiro(transposed_EU_TimeBucket_dataset.VALUE[transposed_EU_TimeBucket_dataset.Time_Bucket==\"From_45_to_59_minutes\"])"
   ]
  },
  {
   "cell_type": "code",
   "execution_count": 56,
   "id": "e49d3205",
   "metadata": {},
   "outputs": [
    {
     "data": {
      "text/plain": [
       "ShapiroResult(statistic=0.6843088865280151, pvalue=5.10668712649931e-07)"
      ]
     },
     "execution_count": 56,
     "metadata": {},
     "output_type": "execute_result"
    }
   ],
   "source": [
    "#Shapiro test 60_minutes_or_over\n",
    "\n",
    "stats.shapiro(transposed_EU_TimeBucket_dataset.VALUE[transposed_EU_TimeBucket_dataset.Time_Bucket==\"60_minutes_or_over\"])"
   ]
  },
  {
   "cell_type": "code",
   "execution_count": 57,
   "id": "4547ccdd",
   "metadata": {},
   "outputs": [
    {
     "data": {
      "text/plain": [
       "ShapiroResult(statistic=0.5974071025848389, pvalue=3.4784143565502745e-08)"
      ]
     },
     "execution_count": 57,
     "metadata": {},
     "output_type": "execute_result"
    }
   ],
   "source": [
    "#Shapiro test No_response\n",
    "\n",
    "stats.shapiro(transposed_EU_TimeBucket_dataset.VALUE[transposed_EU_TimeBucket_dataset.Time_Bucket==\"No_response\"])"
   ]
  },
  {
   "cell_type": "markdown",
   "id": "9b7dc675",
   "metadata": {},
   "source": [
    "Many of the groups are not normally distributed"
   ]
  },
  {
   "cell_type": "markdown",
   "id": "ff870030",
   "metadata": {},
   "source": [
    "Now we will check if we can assume equality of the variances"
   ]
  },
  {
   "cell_type": "code",
   "execution_count": 58,
   "id": "8b919e1b",
   "metadata": {},
   "outputs": [],
   "source": [
    "#we create the objects per time bucket\n",
    "Zero_minutes = transposed_EU_TimeBucket_dataset.VALUE[transposed_EU_TimeBucket_dataset.Time_Bucket==\"Zero_minutes\"]\n",
    "From_1_to_14_minutes = transposed_EU_TimeBucket_dataset.VALUE[transposed_EU_TimeBucket_dataset.Time_Bucket==\"From_1_to_14_minutes\"]\n",
    "From_15_to_29_minutes = transposed_EU_TimeBucket_dataset.VALUE[transposed_EU_TimeBucket_dataset.Time_Bucket==\"From_15_to_29_minutes\"]\n",
    "From_30_to_44_minutes = transposed_EU_TimeBucket_dataset.VALUE[transposed_EU_TimeBucket_dataset.Time_Bucket==\"From_30_to_44_minutes\"]\n",
    "From_45_to_59_minutes = transposed_EU_TimeBucket_dataset.VALUE[transposed_EU_TimeBucket_dataset.Time_Bucket==\"From_45_to_59_minutes\"]\n",
    "_60_minutes_or_over = transposed_EU_TimeBucket_dataset.VALUE[transposed_EU_TimeBucket_dataset.Time_Bucket==\"60_minutes_or_over\"]\n",
    "No_response = transposed_EU_TimeBucket_dataset.VALUE[transposed_EU_TimeBucket_dataset.Time_Bucket==\"No_response\"]"
   ]
  },
  {
   "cell_type": "code",
   "execution_count": 59,
   "id": "88344579",
   "metadata": {},
   "outputs": [
    {
     "data": {
      "text/plain": [
       "LeveneResult(statistic=17.22185296006305, pvalue=2.9109683462257287e-16)"
      ]
     },
     "execution_count": 59,
     "metadata": {},
     "output_type": "execute_result"
    }
   ],
   "source": [
    "#Homogeinity of the variances --> Levene test\n",
    "\n",
    "#H0: the variances are equal\n",
    "#H1: the variances are not equal\n",
    "\n",
    "levene(Zero_minutes,From_1_to_14_minutes,From_15_to_29_minutes,From_30_to_44_minutes,From_45_to_59_minutes,_60_minutes_or_over,No_response,center = 'mean')"
   ]
  },
  {
   "cell_type": "markdown",
   "id": "5bfeaa54",
   "metadata": {},
   "source": [
    "#ANOVA 2-Tailed\n",
    "#H0 = means are equal\n",
    "#H1 = at least one mean is different"
   ]
  },
  {
   "cell_type": "code",
   "execution_count": 60,
   "id": "7c24f3a9",
   "metadata": {},
   "outputs": [
    {
     "name": "stdout",
     "output_type": "stream",
     "text": [
      "                df        sum_sq       mean_sq          F        PR(>F)\n",
      "GEO           31.0  5.255884e+08  1.695446e+07  10.642876  3.422781e-27\n",
      "Time_Bucket    6.0  1.736042e+08  2.893404e+07  18.162851  1.496482e-16\n",
      "Residual     186.0  2.963043e+08  1.593034e+06        NaN           NaN\n"
     ]
    }
   ],
   "source": [
    "model = ols('VALUE~GEO+Time_Bucket', data=transposed_EU_TimeBucket_dataset).fit()\n",
    "aov = sm.stats.anova_lm(model, type = 2)\n",
    "print(aov)"
   ]
  },
  {
   "cell_type": "markdown",
   "id": "929d56e5",
   "metadata": {},
   "source": [
    "We reject the null hypothesis That there's no differences between commute times across the EU countires and the time blocks"
   ]
  },
  {
   "cell_type": "markdown",
   "id": "d6182c89",
   "metadata": {},
   "source": [
    "Due to the issues with the data from the above tests we cannot use parametric tests and instead must use non-parametric tests to describe characteristics of the data."
   ]
  },
  {
   "cell_type": "markdown",
   "id": "3d9d3492",
   "metadata": {},
   "source": [
    "# Anova 1-Way"
   ]
  },
  {
   "cell_type": "code",
   "execution_count": 61,
   "id": "44f38a58",
   "metadata": {},
   "outputs": [
    {
     "name": "stdout",
     "output_type": "stream",
     "text": [
      "             df        sum_sq       mean_sq         F        PR(>F)\n",
      "GEO        31.0  5.255884e+08  1.695446e+07  6.927426  2.771008e-18\n",
      "Residual  192.0  4.699086e+08  2.447441e+06       NaN           NaN\n"
     ]
    }
   ],
   "source": [
    "#H0 : mu east = mu south = mu north\n",
    "#H1 : there are at least 2 mu that are different oen to another one\n",
    "\n",
    "#We work with ANOVA One Way --> We analyse the charges based on  (region)\n",
    "\n",
    "model1Way = ols('VALUE~GEO', data=transposed_EU_TimeBucket_dataset).fit()\n",
    "aov1Way = sm.stats.anova_lm(model1Way, type = 2)\n",
    "print(aov1Way)"
   ]
  },
  {
   "cell_type": "markdown",
   "id": "b7939e70",
   "metadata": {},
   "source": [
    "We reject the null hypothesis That there's no differences between commute times across the EU."
   ]
  },
  {
   "cell_type": "markdown",
   "id": "65bc4c55",
   "metadata": {},
   "source": [
    "# Kruskal-Wallis Test"
   ]
  },
  {
   "cell_type": "code",
   "execution_count": 62,
   "id": "183e59e9",
   "metadata": {},
   "outputs": [],
   "source": [
    "#Step 1: Hypothesis\n",
    "\n",
    "#H0: there is no difference in the Commute Times for Men and Women in EU Countries\n",
    "#H1: there is at least one country that presents a different commute time\n",
    "\n",
    "#Step 2: we create the variables\n",
    "\n",
    "Male = EU_dataset['Male']\n",
    "Female = EU_dataset['Female']\n",
    "Both_Sexes = EU_dataset['Both_Sexes']"
   ]
  },
  {
   "cell_type": "code",
   "execution_count": 63,
   "id": "72bb0caf",
   "metadata": {},
   "outputs": [
    {
     "name": "stdout",
     "output_type": "stream",
     "text": [
      "Statistical Test: 33.50732972627299\n",
      "p-value: 5.296339284178958e-08\n"
     ]
    }
   ],
   "source": [
    "stat, p = kruskal(Male, Female, Both_Sexes)\n",
    "\n",
    "print('Statistical Test:', stat)\n",
    "print(\"p-value:\", p)"
   ]
  },
  {
   "cell_type": "markdown",
   "id": "3577f503",
   "metadata": {},
   "source": [
    "we reject the H0\n",
    "Interpretation: at a 5% significance level we have no evidence to indicate that the commute times are the same in the EU Countries"
   ]
  },
  {
   "cell_type": "code",
   "execution_count": 64,
   "id": "a37e1321",
   "metadata": {},
   "outputs": [
    {
     "data": {
      "text/html": [
       "<div>\n",
       "<style scoped>\n",
       "    .dataframe tbody tr th:only-of-type {\n",
       "        vertical-align: middle;\n",
       "    }\n",
       "\n",
       "    .dataframe tbody tr th {\n",
       "        vertical-align: top;\n",
       "    }\n",
       "\n",
       "    .dataframe thead th {\n",
       "        text-align: right;\n",
       "    }\n",
       "</style>\n",
       "<table border=\"1\" class=\"dataframe\">\n",
       "  <thead>\n",
       "    <tr style=\"text-align: right;\">\n",
       "      <th></th>\n",
       "      <th>Broad Industrial Group</th>\n",
       "      <th>Travelling Time</th>\n",
       "      <th>Statistic Label</th>\n",
       "      <th>VALUE</th>\n",
       "      <th>Time_Max</th>\n",
       "      <th>Time_Min</th>\n",
       "      <th>Time_Avg</th>\n",
       "      <th>Time_Weighted</th>\n",
       "    </tr>\n",
       "  </thead>\n",
       "  <tbody>\n",
       "    <tr>\n",
       "      <th>532</th>\n",
       "      <td>Total at work</td>\n",
       "      <td>&lt; ¼ hour</td>\n",
       "      <td>Persons at work 2016</td>\n",
       "      <td>430221.0</td>\n",
       "      <td>15</td>\n",
       "      <td>1</td>\n",
       "      <td>8.0</td>\n",
       "      <td>3441768.0</td>\n",
       "    </tr>\n",
       "    <tr>\n",
       "      <th>535</th>\n",
       "      <td>Total at work</td>\n",
       "      <td>¼ hour - &lt; ½ hour</td>\n",
       "      <td>Persons at work 2016</td>\n",
       "      <td>550257.0</td>\n",
       "      <td>30</td>\n",
       "      <td>15</td>\n",
       "      <td>22.5</td>\n",
       "      <td>12380782.5</td>\n",
       "    </tr>\n",
       "    <tr>\n",
       "      <th>538</th>\n",
       "      <td>Total at work</td>\n",
       "      <td>½ hour - &lt; ¾ hour</td>\n",
       "      <td>Persons at work 2016</td>\n",
       "      <td>396252.0</td>\n",
       "      <td>45</td>\n",
       "      <td>30</td>\n",
       "      <td>37.5</td>\n",
       "      <td>14859450.0</td>\n",
       "    </tr>\n",
       "    <tr>\n",
       "      <th>541</th>\n",
       "      <td>Total at work</td>\n",
       "      <td>¾ hour - &lt; 1 hour</td>\n",
       "      <td>Persons at work 2016</td>\n",
       "      <td>143351.0</td>\n",
       "      <td>60</td>\n",
       "      <td>45</td>\n",
       "      <td>52.5</td>\n",
       "      <td>7525927.5</td>\n",
       "    </tr>\n",
       "    <tr>\n",
       "      <th>544</th>\n",
       "      <td>Total at work</td>\n",
       "      <td>1 hour - &lt; 1½ hours</td>\n",
       "      <td>Persons at work 2016</td>\n",
       "      <td>147124.0</td>\n",
       "      <td>90</td>\n",
       "      <td>60</td>\n",
       "      <td>75.0</td>\n",
       "      <td>11034300.0</td>\n",
       "    </tr>\n",
       "    <tr>\n",
       "      <th>547</th>\n",
       "      <td>Total at work</td>\n",
       "      <td>1½ hours and over</td>\n",
       "      <td>Persons at work 2016</td>\n",
       "      <td>52798.0</td>\n",
       "      <td>90</td>\n",
       "      <td>90</td>\n",
       "      <td>90.0</td>\n",
       "      <td>4751820.0</td>\n",
       "    </tr>\n",
       "    <tr>\n",
       "      <th>550</th>\n",
       "      <td>Total at work</td>\n",
       "      <td>Not stated</td>\n",
       "      <td>Persons at work 2016</td>\n",
       "      <td>155770.0</td>\n",
       "      <td>0</td>\n",
       "      <td>0</td>\n",
       "      <td>0.0</td>\n",
       "      <td>0.0</td>\n",
       "    </tr>\n",
       "  </tbody>\n",
       "</table>\n",
       "</div>"
      ],
      "text/plain": [
       "    Broad Industrial Group      Travelling Time       Statistic Label  \\\n",
       "532          Total at work             < ¼ hour  Persons at work 2016   \n",
       "535          Total at work    ¼ hour - < ½ hour  Persons at work 2016   \n",
       "538          Total at work    ½ hour - < ¾ hour  Persons at work 2016   \n",
       "541          Total at work    ¾ hour - < 1 hour  Persons at work 2016   \n",
       "544          Total at work  1 hour - < 1½ hours  Persons at work 2016   \n",
       "547          Total at work    1½ hours and over  Persons at work 2016   \n",
       "550          Total at work           Not stated  Persons at work 2016   \n",
       "\n",
       "        VALUE  Time_Max  Time_Min  Time_Avg  Time_Weighted  \n",
       "532  430221.0        15         1       8.0      3441768.0  \n",
       "535  550257.0        30        15      22.5     12380782.5  \n",
       "538  396252.0        45        30      37.5     14859450.0  \n",
       "541  143351.0        60        45      52.5      7525927.5  \n",
       "544  147124.0        90        60      75.0     11034300.0  \n",
       "547   52798.0        90        90      90.0      4751820.0  \n",
       "550  155770.0         0         0       0.0            0.0  "
      ]
     },
     "execution_count": 64,
     "metadata": {},
     "output_type": "execute_result"
    }
   ],
   "source": [
    "TotalAverageCommute"
   ]
  },
  {
   "cell_type": "markdown",
   "id": "fa57b16e",
   "metadata": {},
   "source": [
    "# Creating the pristine/ processed data files for processing the next stages"
   ]
  },
  {
   "cell_type": "code",
   "execution_count": 65,
   "id": "9a880b5e",
   "metadata": {},
   "outputs": [],
   "source": [
    "# write the dataframe to a csv file\n",
    "\n",
    "transposed_EU_TimeBucket_dataset.to_csv('Viz_Data\\VizData_TimeBrackets_Global.csv', index=False)\n",
    "EU_dataset.to_csv('Viz_Data\\VizData_GenderSplit_Global.csv', index=False)\n",
    "IRE_dataset4Viz.to_csv('Viz_Data\\VizData_IRE.csv', index=False)\n"
   ]
  },
  {
   "cell_type": "code",
   "execution_count": null,
   "id": "efa1e7a9",
   "metadata": {},
   "outputs": [],
   "source": []
  }
 ],
 "metadata": {
  "kernelspec": {
   "display_name": "Python 3 (ipykernel)",
   "language": "python",
   "name": "python3"
  },
  "language_info": {
   "codemirror_mode": {
    "name": "ipython",
    "version": 3
   },
   "file_extension": ".py",
   "mimetype": "text/x-python",
   "name": "python",
   "nbconvert_exporter": "python",
   "pygments_lexer": "ipython3",
   "version": "3.11.5"
  }
 },
 "nbformat": 4,
 "nbformat_minor": 5
}
