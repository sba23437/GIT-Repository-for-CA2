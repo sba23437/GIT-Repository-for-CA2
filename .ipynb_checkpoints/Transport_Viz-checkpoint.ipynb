{
 "cells": [
  {
   "cell_type": "code",
   "execution_count": 1,
   "id": "a83d775c",
   "metadata": {},
   "outputs": [],
   "source": [
    "# IMPORTING LIBRARIES\n",
    "import pandas as pd\n",
    "import numpy as np"
   ]
  },
  {
   "cell_type": "code",
   "execution_count": 7,
   "id": "ac6fa5f0",
   "metadata": {},
   "outputs": [],
   "source": [
    "# Import dataset\n",
    "VizData_TimeBrackets_Global = pd.read_csv('Viz_Data\\VizData_TimeBrackets_Global.csv')\n",
    "#VizData_TimeBrackets_Global.head()"
   ]
  },
  {
   "cell_type": "code",
   "execution_count": 8,
   "id": "0eb75632",
   "metadata": {},
   "outputs": [],
   "source": [
    "# Import dataset\n",
    "VizData_GenderSplit_Global = pd.read_csv('Viz_Data\\VizData_GenderSplit_Global.csv')\n",
    "#VizData_GenderSplit_Global.head()"
   ]
  },
  {
   "cell_type": "code",
   "execution_count": 9,
   "id": "d94e4f73",
   "metadata": {},
   "outputs": [],
   "source": [
    "# Import dataset\n",
    "VizData_IRE = pd.read_csv('Viz_Data\\VizData_IRE.csv')\n",
    "#VizData_IRE.head()"
   ]
  },
  {
   "cell_type": "code",
   "execution_count": null,
   "id": "9ab2628c",
   "metadata": {},
   "outputs": [],
   "source": []
  }
 ],
 "metadata": {
  "kernelspec": {
   "display_name": "Python 3 (ipykernel)",
   "language": "python",
   "name": "python3"
  },
  "language_info": {
   "codemirror_mode": {
    "name": "ipython",
    "version": 3
   },
   "file_extension": ".py",
   "mimetype": "text/x-python",
   "name": "python",
   "nbconvert_exporter": "python",
   "pygments_lexer": "ipython3",
   "version": "3.11.5"
  }
 },
 "nbformat": 4,
 "nbformat_minor": 5
}
