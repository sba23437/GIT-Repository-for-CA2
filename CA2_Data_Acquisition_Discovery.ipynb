{
 "cells": [
  {
   "cell_type": "code",
   "execution_count": 797,
   "id": "bbcd67e1",
   "metadata": {},
   "outputs": [],
   "source": [
    "# IMPORTING LIBRARIES\n",
    "import pandas as pd\n",
    "import numpy as np\n",
    "\n",
    "#Statistical libraries\n",
    "import scipy.stats as stats\n",
    "from statsmodels.stats import weightstats\n",
    "from scipy.stats import levene\n",
    "import statsmodels.api as sm\n",
    "from statsmodels.formula.api import ols\n",
    "from scipy.stats import kruskal\n",
    "\n",
    "#Visualisation libraries\n",
    "import matplotlib.pyplot as plt\n",
    "import seaborn as sns"
   ]
  },
  {
   "cell_type": "code",
   "execution_count": 798,
   "id": "4afa0420",
   "metadata": {},
   "outputs": [
    {
     "data": {
      "text/html": [
       "<div>\n",
       "<style scoped>\n",
       "    .dataframe tbody tr th:only-of-type {\n",
       "        vertical-align: middle;\n",
       "    }\n",
       "\n",
       "    .dataframe tbody tr th {\n",
       "        vertical-align: top;\n",
       "    }\n",
       "\n",
       "    .dataframe thead th {\n",
       "        text-align: right;\n",
       "    }\n",
       "</style>\n",
       "<table border=\"1\" class=\"dataframe\">\n",
       "  <thead>\n",
       "    <tr style=\"text-align: right;\">\n",
       "      <th></th>\n",
       "      <th>Broad Industrial Group</th>\n",
       "      <th>Travelling Time</th>\n",
       "      <th>CensusYear</th>\n",
       "      <th>Statistic Label</th>\n",
       "      <th>UNIT</th>\n",
       "      <th>VALUE</th>\n",
       "    </tr>\n",
       "  </thead>\n",
       "  <tbody>\n",
       "    <tr>\n",
       "      <th>0</th>\n",
       "      <td>Agriculture, forestry and fishing (A)</td>\n",
       "      <td>Total time travelling</td>\n",
       "      <td>2016</td>\n",
       "      <td>Persons at work 2011</td>\n",
       "      <td>Number</td>\n",
       "      <td>55043.0</td>\n",
       "    </tr>\n",
       "    <tr>\n",
       "      <th>1</th>\n",
       "      <td>Agriculture, forestry and fishing (A)</td>\n",
       "      <td>Total time travelling</td>\n",
       "      <td>2016</td>\n",
       "      <td>Persons at work 2016</td>\n",
       "      <td>Number</td>\n",
       "      <td>50456.0</td>\n",
       "    </tr>\n",
       "    <tr>\n",
       "      <th>2</th>\n",
       "      <td>Agriculture, forestry and fishing (A)</td>\n",
       "      <td>Total time travelling</td>\n",
       "      <td>2016</td>\n",
       "      <td>Percentage change of persons at work 2011-2016</td>\n",
       "      <td>%</td>\n",
       "      <td>-8.3</td>\n",
       "    </tr>\n",
       "    <tr>\n",
       "      <th>3</th>\n",
       "      <td>Agriculture, forestry and fishing (A)</td>\n",
       "      <td>&lt; ¼ hour</td>\n",
       "      <td>2016</td>\n",
       "      <td>Persons at work 2011</td>\n",
       "      <td>Number</td>\n",
       "      <td>20397.0</td>\n",
       "    </tr>\n",
       "    <tr>\n",
       "      <th>4</th>\n",
       "      <td>Agriculture, forestry and fishing (A)</td>\n",
       "      <td>&lt; ¼ hour</td>\n",
       "      <td>2016</td>\n",
       "      <td>Persons at work 2016</td>\n",
       "      <td>Number</td>\n",
       "      <td>19577.0</td>\n",
       "    </tr>\n",
       "  </tbody>\n",
       "</table>\n",
       "</div>"
      ],
      "text/plain": [
       "                  Broad Industrial Group        Travelling Time  CensusYear  \\\n",
       "0  Agriculture, forestry and fishing (A)  Total time travelling        2016   \n",
       "1  Agriculture, forestry and fishing (A)  Total time travelling        2016   \n",
       "2  Agriculture, forestry and fishing (A)  Total time travelling        2016   \n",
       "3  Agriculture, forestry and fishing (A)               < ¼ hour        2016   \n",
       "4  Agriculture, forestry and fishing (A)               < ¼ hour        2016   \n",
       "\n",
       "                                  Statistic Label    UNIT    VALUE  \n",
       "0                            Persons at work 2011  Number  55043.0  \n",
       "1                            Persons at work 2016  Number  50456.0  \n",
       "2  Percentage change of persons at work 2011-2016       %     -8.3  \n",
       "3                            Persons at work 2011  Number  20397.0  \n",
       "4                            Persons at work 2016  Number  19577.0  "
      ]
     },
     "execution_count": 798,
     "metadata": {},
     "output_type": "execute_result"
    }
   ],
   "source": [
    "# Import dataset\n",
    "IRE_dataset = pd.read_csv('Data/Commuters_by_Industry_by_time_bucket_for_Ireland_Pristine.csv')\n",
    "IRE_dataset.head()"
   ]
  },
  {
   "cell_type": "code",
   "execution_count": 799,
   "id": "b8331c8f",
   "metadata": {},
   "outputs": [
    {
     "data": {
      "text/html": [
       "<div>\n",
       "<style scoped>\n",
       "    .dataframe tbody tr th:only-of-type {\n",
       "        vertical-align: middle;\n",
       "    }\n",
       "\n",
       "    .dataframe tbody tr th {\n",
       "        vertical-align: top;\n",
       "    }\n",
       "\n",
       "    .dataframe thead th {\n",
       "        text-align: right;\n",
       "    }\n",
       "</style>\n",
       "<table border=\"1\" class=\"dataframe\">\n",
       "  <thead>\n",
       "    <tr style=\"text-align: right;\">\n",
       "      <th></th>\n",
       "      <th>Country</th>\n",
       "      <th>Male</th>\n",
       "      <th>Female</th>\n",
       "      <th>Both_Sexes</th>\n",
       "    </tr>\n",
       "  </thead>\n",
       "  <tbody>\n",
       "    <tr>\n",
       "      <th>0</th>\n",
       "      <td>China (2008)</td>\n",
       "      <td>56</td>\n",
       "      <td>38</td>\n",
       "      <td>47.0</td>\n",
       "    </tr>\n",
       "    <tr>\n",
       "      <th>1</th>\n",
       "      <td>Turkey (2006)</td>\n",
       "      <td>52</td>\n",
       "      <td>28</td>\n",
       "      <td>40.0</td>\n",
       "    </tr>\n",
       "    <tr>\n",
       "      <th>2</th>\n",
       "      <td>Korea (2009)</td>\n",
       "      <td>74</td>\n",
       "      <td>0</td>\n",
       "      <td>74.0</td>\n",
       "    </tr>\n",
       "    <tr>\n",
       "      <th>3</th>\n",
       "      <td>Mexico (2009)</td>\n",
       "      <td>49</td>\n",
       "      <td>24</td>\n",
       "      <td>36.5</td>\n",
       "    </tr>\n",
       "    <tr>\n",
       "      <th>4</th>\n",
       "      <td>South Africa (2010)</td>\n",
       "      <td>44</td>\n",
       "      <td>29</td>\n",
       "      <td>36.5</td>\n",
       "    </tr>\n",
       "  </tbody>\n",
       "</table>\n",
       "</div>"
      ],
      "text/plain": [
       "               Country  Male  Female  Both_Sexes\n",
       "0         China (2008)    56      38        47.0\n",
       "1        Turkey (2006)    52      28        40.0\n",
       "2         Korea (2009)    74       0        74.0\n",
       "3        Mexico (2009)    49      24        36.5\n",
       "4  South Africa (2010)    44      29        36.5"
      ]
     },
     "execution_count": 799,
     "metadata": {},
     "output_type": "execute_result"
    }
   ],
   "source": [
    "# Import dataset\n",
    "EU_dataset = pd.read_csv('Data/Commuters_by_Country_Europe_Pristine.csv')\n",
    "EU_dataset.head()"
   ]
  },
  {
   "cell_type": "code",
   "execution_count": 800,
   "id": "5349c1df",
   "metadata": {},
   "outputs": [
    {
     "data": {
      "text/html": [
       "<div>\n",
       "<style scoped>\n",
       "    .dataframe tbody tr th:only-of-type {\n",
       "        vertical-align: middle;\n",
       "    }\n",
       "\n",
       "    .dataframe tbody tr th {\n",
       "        vertical-align: top;\n",
       "    }\n",
       "\n",
       "    .dataframe thead th {\n",
       "        text-align: right;\n",
       "    }\n",
       "</style>\n",
       "<table border=\"1\" class=\"dataframe\">\n",
       "  <thead>\n",
       "    <tr style=\"text-align: right;\">\n",
       "      <th></th>\n",
       "      <th>GEO</th>\n",
       "      <th>Zero_minutes</th>\n",
       "      <th>From_1_to_14_minutes</th>\n",
       "      <th>From_15_to_29_minutes</th>\n",
       "      <th>From_30_to_44_minutes</th>\n",
       "      <th>From_45_to_59_minutes</th>\n",
       "      <th>60_minutes_or_over</th>\n",
       "      <th>No_response</th>\n",
       "    </tr>\n",
       "  </thead>\n",
       "  <tbody>\n",
       "    <tr>\n",
       "      <th>0</th>\n",
       "      <td>Belgium</td>\n",
       "      <td>383.5</td>\n",
       "      <td>1066.0</td>\n",
       "      <td>1499.7</td>\n",
       "      <td>962.7</td>\n",
       "      <td>380.2</td>\n",
       "      <td>513.5</td>\n",
       "      <td>12.2</td>\n",
       "    </tr>\n",
       "    <tr>\n",
       "      <th>1</th>\n",
       "      <td>Bulgaria</td>\n",
       "      <td>83.6</td>\n",
       "      <td>562.0</td>\n",
       "      <td>1254.1</td>\n",
       "      <td>951.5</td>\n",
       "      <td>200.2</td>\n",
       "      <td>150.0</td>\n",
       "      <td>27.6</td>\n",
       "    </tr>\n",
       "    <tr>\n",
       "      <th>2</th>\n",
       "      <td>Czechia</td>\n",
       "      <td>206.1</td>\n",
       "      <td>1180.9</td>\n",
       "      <td>1792.6</td>\n",
       "      <td>1254.1</td>\n",
       "      <td>365.0</td>\n",
       "      <td>442.5</td>\n",
       "      <td>47.4</td>\n",
       "    </tr>\n",
       "    <tr>\n",
       "      <th>3</th>\n",
       "      <td>Denmark</td>\n",
       "      <td>150.1</td>\n",
       "      <td>724.0</td>\n",
       "      <td>901.3</td>\n",
       "      <td>569.7</td>\n",
       "      <td>216.8</td>\n",
       "      <td>228.5</td>\n",
       "      <td>79.1</td>\n",
       "    </tr>\n",
       "    <tr>\n",
       "      <th>4</th>\n",
       "      <td>Germany</td>\n",
       "      <td>1648.1</td>\n",
       "      <td>10887.0</td>\n",
       "      <td>12605.4</td>\n",
       "      <td>7941.2</td>\n",
       "      <td>2556.4</td>\n",
       "      <td>3314.7</td>\n",
       "      <td>2689.5</td>\n",
       "    </tr>\n",
       "  </tbody>\n",
       "</table>\n",
       "</div>"
      ],
      "text/plain": [
       "        GEO  Zero_minutes  From_1_to_14_minutes  From_15_to_29_minutes  \\\n",
       "0   Belgium         383.5                1066.0                 1499.7   \n",
       "1  Bulgaria          83.6                 562.0                 1254.1   \n",
       "2   Czechia         206.1                1180.9                 1792.6   \n",
       "3   Denmark         150.1                 724.0                  901.3   \n",
       "4   Germany        1648.1               10887.0                12605.4   \n",
       "\n",
       "   From_30_to_44_minutes  From_45_to_59_minutes  60_minutes_or_over  \\\n",
       "0                  962.7                  380.2               513.5   \n",
       "1                  951.5                  200.2               150.0   \n",
       "2                 1254.1                  365.0               442.5   \n",
       "3                  569.7                  216.8               228.5   \n",
       "4                 7941.2                 2556.4              3314.7   \n",
       "\n",
       "   No_response  \n",
       "0         12.2  \n",
       "1         27.6  \n",
       "2         47.4  \n",
       "3         79.1  \n",
       "4       2689.5  "
      ]
     },
     "execution_count": 800,
     "metadata": {},
     "output_type": "execute_result"
    }
   ],
   "source": [
    "# Import dataset\n",
    "EU_TimeBucket_dataset = pd.read_csv('Data/Commuters_by_Country_Europe_by_Time Bracket.csv')\n",
    "EU_TimeBucket_dataset = EU_TimeBucket_dataset.drop([\"From_1_to_9_minutes\",\"1_minute_or_over\",\"From_10_to_14_minutes\",\"From_30_to_59_minutes\",\"30_minutes_or_over\",\"From_15_to_19_minutes\",\"From_20_to_29_minutes\"], axis=1)\n",
    "EU_TimeBucket_dataset.head()"
   ]
  },
  {
   "cell_type": "code",
   "execution_count": 801,
   "id": "1bcad2f2",
   "metadata": {},
   "outputs": [
    {
     "data": {
      "text/html": [
       "<div>\n",
       "<style scoped>\n",
       "    .dataframe tbody tr th:only-of-type {\n",
       "        vertical-align: middle;\n",
       "    }\n",
       "\n",
       "    .dataframe tbody tr th {\n",
       "        vertical-align: top;\n",
       "    }\n",
       "\n",
       "    .dataframe thead th {\n",
       "        text-align: right;\n",
       "    }\n",
       "</style>\n",
       "<table border=\"1\" class=\"dataframe\">\n",
       "  <thead>\n",
       "    <tr style=\"text-align: right;\">\n",
       "      <th></th>\n",
       "      <th>Broad Industrial Group</th>\n",
       "      <th>Travelling Time</th>\n",
       "      <th>Statistic Label</th>\n",
       "      <th>UNIT</th>\n",
       "      <th>VALUE</th>\n",
       "    </tr>\n",
       "  </thead>\n",
       "  <tbody>\n",
       "    <tr>\n",
       "      <th>0</th>\n",
       "      <td>Agriculture, forestry and fishing (A)</td>\n",
       "      <td>Total time travelling</td>\n",
       "      <td>Persons at work 2011</td>\n",
       "      <td>Number</td>\n",
       "      <td>55043.0</td>\n",
       "    </tr>\n",
       "    <tr>\n",
       "      <th>1</th>\n",
       "      <td>Agriculture, forestry and fishing (A)</td>\n",
       "      <td>Total time travelling</td>\n",
       "      <td>Persons at work 2016</td>\n",
       "      <td>Number</td>\n",
       "      <td>50456.0</td>\n",
       "    </tr>\n",
       "    <tr>\n",
       "      <th>2</th>\n",
       "      <td>Agriculture, forestry and fishing (A)</td>\n",
       "      <td>Total time travelling</td>\n",
       "      <td>Percentage change of persons at work 2011-2016</td>\n",
       "      <td>%</td>\n",
       "      <td>-8.3</td>\n",
       "    </tr>\n",
       "    <tr>\n",
       "      <th>3</th>\n",
       "      <td>Agriculture, forestry and fishing (A)</td>\n",
       "      <td>&lt; ¼ hour</td>\n",
       "      <td>Persons at work 2011</td>\n",
       "      <td>Number</td>\n",
       "      <td>20397.0</td>\n",
       "    </tr>\n",
       "    <tr>\n",
       "      <th>4</th>\n",
       "      <td>Agriculture, forestry and fishing (A)</td>\n",
       "      <td>&lt; ¼ hour</td>\n",
       "      <td>Persons at work 2016</td>\n",
       "      <td>Number</td>\n",
       "      <td>19577.0</td>\n",
       "    </tr>\n",
       "  </tbody>\n",
       "</table>\n",
       "</div>"
      ],
      "text/plain": [
       "                  Broad Industrial Group        Travelling Time  \\\n",
       "0  Agriculture, forestry and fishing (A)  Total time travelling   \n",
       "1  Agriculture, forestry and fishing (A)  Total time travelling   \n",
       "2  Agriculture, forestry and fishing (A)  Total time travelling   \n",
       "3  Agriculture, forestry and fishing (A)               < ¼ hour   \n",
       "4  Agriculture, forestry and fishing (A)               < ¼ hour   \n",
       "\n",
       "                                  Statistic Label    UNIT    VALUE  \n",
       "0                            Persons at work 2011  Number  55043.0  \n",
       "1                            Persons at work 2016  Number  50456.0  \n",
       "2  Percentage change of persons at work 2011-2016       %     -8.3  \n",
       "3                            Persons at work 2011  Number  20397.0  \n",
       "4                            Persons at work 2016  Number  19577.0  "
      ]
     },
     "execution_count": 801,
     "metadata": {},
     "output_type": "execute_result"
    }
   ],
   "source": [
    "IRE_dataset = IRE_dataset.drop([\"CensusYear\"], axis=1)\n",
    "IRE_dataset.head()"
   ]
  },
  {
   "cell_type": "code",
   "execution_count": 802,
   "id": "f2eb3c94",
   "metadata": {},
   "outputs": [
    {
     "data": {
      "text/html": [
       "<div>\n",
       "<style scoped>\n",
       "    .dataframe tbody tr th:only-of-type {\n",
       "        vertical-align: middle;\n",
       "    }\n",
       "\n",
       "    .dataframe tbody tr th {\n",
       "        vertical-align: top;\n",
       "    }\n",
       "\n",
       "    .dataframe thead th {\n",
       "        text-align: right;\n",
       "    }\n",
       "</style>\n",
       "<table border=\"1\" class=\"dataframe\">\n",
       "  <thead>\n",
       "    <tr style=\"text-align: right;\">\n",
       "      <th></th>\n",
       "      <th>Broad Industrial Group</th>\n",
       "      <th>Travelling Time</th>\n",
       "      <th>Statistic Label</th>\n",
       "      <th>VALUE</th>\n",
       "    </tr>\n",
       "  </thead>\n",
       "  <tbody>\n",
       "    <tr>\n",
       "      <th>532</th>\n",
       "      <td>Total at work</td>\n",
       "      <td>&lt; ¼ hour</td>\n",
       "      <td>Persons at work 2016</td>\n",
       "      <td>430221.0</td>\n",
       "    </tr>\n",
       "    <tr>\n",
       "      <th>535</th>\n",
       "      <td>Total at work</td>\n",
       "      <td>¼ hour - &lt; ½ hour</td>\n",
       "      <td>Persons at work 2016</td>\n",
       "      <td>550257.0</td>\n",
       "    </tr>\n",
       "    <tr>\n",
       "      <th>538</th>\n",
       "      <td>Total at work</td>\n",
       "      <td>½ hour - &lt; ¾ hour</td>\n",
       "      <td>Persons at work 2016</td>\n",
       "      <td>396252.0</td>\n",
       "    </tr>\n",
       "    <tr>\n",
       "      <th>541</th>\n",
       "      <td>Total at work</td>\n",
       "      <td>¾ hour - &lt; 1 hour</td>\n",
       "      <td>Persons at work 2016</td>\n",
       "      <td>143351.0</td>\n",
       "    </tr>\n",
       "    <tr>\n",
       "      <th>544</th>\n",
       "      <td>Total at work</td>\n",
       "      <td>1 hour - &lt; 1½ hours</td>\n",
       "      <td>Persons at work 2016</td>\n",
       "      <td>147124.0</td>\n",
       "    </tr>\n",
       "  </tbody>\n",
       "</table>\n",
       "</div>"
      ],
      "text/plain": [
       "    Broad Industrial Group      Travelling Time       Statistic Label  \\\n",
       "532          Total at work             < ¼ hour  Persons at work 2016   \n",
       "535          Total at work    ¼ hour - < ½ hour  Persons at work 2016   \n",
       "538          Total at work    ½ hour - < ¾ hour  Persons at work 2016   \n",
       "541          Total at work    ¾ hour - < 1 hour  Persons at work 2016   \n",
       "544          Total at work  1 hour - < 1½ hours  Persons at work 2016   \n",
       "\n",
       "        VALUE  \n",
       "532  430221.0  \n",
       "535  550257.0  \n",
       "538  396252.0  \n",
       "541  143351.0  \n",
       "544  147124.0  "
      ]
     },
     "execution_count": 802,
     "metadata": {},
     "output_type": "execute_result"
    }
   ],
   "source": [
    "IRE_dataset = IRE_dataset.drop([\"UNIT\"], axis=1)\n",
    "IRE_dataset = IRE_dataset.loc[IRE_dataset['Statistic Label'] == 'Persons at work 2016']\n",
    "IRE_dataset = IRE_dataset.loc[IRE_dataset['Broad Industrial Group'] == 'Total at work']\n",
    "IRE_dataset = IRE_dataset.loc[IRE_dataset['Travelling Time'].isin(['< ¼ hour', '¼ hour - < ½ hour', '½ hour - < ¾ hour','¾ hour - < 1 hour','1 hour - < 1½ hours','1½ hours and over','Not stated'])]\n",
    "IRE_dataset.head()"
   ]
  },
  {
   "cell_type": "code",
   "execution_count": 803,
   "id": "8c9754c1",
   "metadata": {},
   "outputs": [
    {
     "data": {
      "text/html": [
       "<div>\n",
       "<style scoped>\n",
       "    .dataframe tbody tr th:only-of-type {\n",
       "        vertical-align: middle;\n",
       "    }\n",
       "\n",
       "    .dataframe tbody tr th {\n",
       "        vertical-align: top;\n",
       "    }\n",
       "\n",
       "    .dataframe thead th {\n",
       "        text-align: right;\n",
       "    }\n",
       "</style>\n",
       "<table border=\"1\" class=\"dataframe\">\n",
       "  <thead>\n",
       "    <tr style=\"text-align: right;\">\n",
       "      <th></th>\n",
       "      <th>Broad Industrial Group</th>\n",
       "      <th>Travelling Time</th>\n",
       "      <th>Statistic Label</th>\n",
       "      <th>VALUE</th>\n",
       "    </tr>\n",
       "  </thead>\n",
       "  <tbody>\n",
       "    <tr>\n",
       "      <th>532</th>\n",
       "      <td>Total at work</td>\n",
       "      <td>&lt; ¼ hour</td>\n",
       "      <td>Persons at work 2016</td>\n",
       "      <td>430221.0</td>\n",
       "    </tr>\n",
       "    <tr>\n",
       "      <th>535</th>\n",
       "      <td>Total at work</td>\n",
       "      <td>¼ hour - &lt; ½ hour</td>\n",
       "      <td>Persons at work 2016</td>\n",
       "      <td>550257.0</td>\n",
       "    </tr>\n",
       "    <tr>\n",
       "      <th>538</th>\n",
       "      <td>Total at work</td>\n",
       "      <td>½ hour - &lt; ¾ hour</td>\n",
       "      <td>Persons at work 2016</td>\n",
       "      <td>396252.0</td>\n",
       "    </tr>\n",
       "    <tr>\n",
       "      <th>541</th>\n",
       "      <td>Total at work</td>\n",
       "      <td>¾ hour - &lt; 1 hour</td>\n",
       "      <td>Persons at work 2016</td>\n",
       "      <td>143351.0</td>\n",
       "    </tr>\n",
       "    <tr>\n",
       "      <th>544</th>\n",
       "      <td>Total at work</td>\n",
       "      <td>1 hour - &lt; 1½ hours</td>\n",
       "      <td>Persons at work 2016</td>\n",
       "      <td>147124.0</td>\n",
       "    </tr>\n",
       "    <tr>\n",
       "      <th>547</th>\n",
       "      <td>Total at work</td>\n",
       "      <td>1½ hours and over</td>\n",
       "      <td>Persons at work 2016</td>\n",
       "      <td>52798.0</td>\n",
       "    </tr>\n",
       "    <tr>\n",
       "      <th>550</th>\n",
       "      <td>Total at work</td>\n",
       "      <td>Not stated</td>\n",
       "      <td>Persons at work 2016</td>\n",
       "      <td>155770.0</td>\n",
       "    </tr>\n",
       "  </tbody>\n",
       "</table>\n",
       "</div>"
      ],
      "text/plain": [
       "    Broad Industrial Group      Travelling Time       Statistic Label  \\\n",
       "532          Total at work             < ¼ hour  Persons at work 2016   \n",
       "535          Total at work    ¼ hour - < ½ hour  Persons at work 2016   \n",
       "538          Total at work    ½ hour - < ¾ hour  Persons at work 2016   \n",
       "541          Total at work    ¾ hour - < 1 hour  Persons at work 2016   \n",
       "544          Total at work  1 hour - < 1½ hours  Persons at work 2016   \n",
       "547          Total at work    1½ hours and over  Persons at work 2016   \n",
       "550          Total at work           Not stated  Persons at work 2016   \n",
       "\n",
       "        VALUE  \n",
       "532  430221.0  \n",
       "535  550257.0  \n",
       "538  396252.0  \n",
       "541  143351.0  \n",
       "544  147124.0  \n",
       "547   52798.0  \n",
       "550  155770.0  "
      ]
     },
     "execution_count": 803,
     "metadata": {},
     "output_type": "execute_result"
    }
   ],
   "source": [
    "IRE_dataset"
   ]
  },
  {
   "cell_type": "markdown",
   "id": "008f418e",
   "metadata": {},
   "source": [
    "# Descritive Stats"
   ]
  },
  {
   "cell_type": "code",
   "execution_count": 804,
   "id": "48ad6ffd",
   "metadata": {},
   "outputs": [
    {
     "data": {
      "text/plain": [
       "Country        object\n",
       "Male            int64\n",
       "Female          int64\n",
       "Both_Sexes    float64\n",
       "dtype: object"
      ]
     },
     "execution_count": 804,
     "metadata": {},
     "output_type": "execute_result"
    }
   ],
   "source": [
    "EU_dataset.dtypes"
   ]
  },
  {
   "cell_type": "code",
   "execution_count": 805,
   "id": "221266ef",
   "metadata": {},
   "outputs": [
    {
     "data": {
      "text/plain": [
       "(29, 4)"
      ]
     },
     "execution_count": 805,
     "metadata": {},
     "output_type": "execute_result"
    }
   ],
   "source": [
    "EU_dataset.shape"
   ]
  },
  {
   "cell_type": "code",
   "execution_count": 806,
   "id": "a6286a93",
   "metadata": {},
   "outputs": [
    {
     "data": {
      "text/html": [
       "<div>\n",
       "<style scoped>\n",
       "    .dataframe tbody tr th:only-of-type {\n",
       "        vertical-align: middle;\n",
       "    }\n",
       "\n",
       "    .dataframe tbody tr th {\n",
       "        vertical-align: top;\n",
       "    }\n",
       "\n",
       "    .dataframe thead th {\n",
       "        text-align: right;\n",
       "    }\n",
       "</style>\n",
       "<table border=\"1\" class=\"dataframe\">\n",
       "  <thead>\n",
       "    <tr style=\"text-align: right;\">\n",
       "      <th></th>\n",
       "      <th>Male</th>\n",
       "      <th>Female</th>\n",
       "      <th>Both_Sexes</th>\n",
       "    </tr>\n",
       "  </thead>\n",
       "  <tbody>\n",
       "    <tr>\n",
       "      <th>count</th>\n",
       "      <td>29.000000</td>\n",
       "      <td>29.000000</td>\n",
       "      <td>29.000000</td>\n",
       "    </tr>\n",
       "    <tr>\n",
       "      <th>mean</th>\n",
       "      <td>35.448276</td>\n",
       "      <td>21.551724</td>\n",
       "      <td>29.775862</td>\n",
       "    </tr>\n",
       "    <tr>\n",
       "      <th>std</th>\n",
       "      <td>11.809761</td>\n",
       "      <td>6.417533</td>\n",
       "      <td>10.648261</td>\n",
       "    </tr>\n",
       "    <tr>\n",
       "      <th>min</th>\n",
       "      <td>21.000000</td>\n",
       "      <td>0.000000</td>\n",
       "      <td>20.000000</td>\n",
       "    </tr>\n",
       "    <tr>\n",
       "      <th>25%</th>\n",
       "      <td>28.000000</td>\n",
       "      <td>18.000000</td>\n",
       "      <td>23.500000</td>\n",
       "    </tr>\n",
       "    <tr>\n",
       "      <th>50%</th>\n",
       "      <td>32.000000</td>\n",
       "      <td>21.000000</td>\n",
       "      <td>27.000000</td>\n",
       "    </tr>\n",
       "    <tr>\n",
       "      <th>75%</th>\n",
       "      <td>43.000000</td>\n",
       "      <td>25.000000</td>\n",
       "      <td>31.000000</td>\n",
       "    </tr>\n",
       "    <tr>\n",
       "      <th>max</th>\n",
       "      <td>74.000000</td>\n",
       "      <td>38.000000</td>\n",
       "      <td>74.000000</td>\n",
       "    </tr>\n",
       "  </tbody>\n",
       "</table>\n",
       "</div>"
      ],
      "text/plain": [
       "            Male     Female  Both_Sexes\n",
       "count  29.000000  29.000000   29.000000\n",
       "mean   35.448276  21.551724   29.775862\n",
       "std    11.809761   6.417533   10.648261\n",
       "min    21.000000   0.000000   20.000000\n",
       "25%    28.000000  18.000000   23.500000\n",
       "50%    32.000000  21.000000   27.000000\n",
       "75%    43.000000  25.000000   31.000000\n",
       "max    74.000000  38.000000   74.000000"
      ]
     },
     "execution_count": 806,
     "metadata": {},
     "output_type": "execute_result"
    }
   ],
   "source": [
    "EU_dataset.describe()"
   ]
  },
  {
   "cell_type": "code",
   "execution_count": 807,
   "id": "9df26f39",
   "metadata": {},
   "outputs": [
    {
     "data": {
      "text/plain": [
       "GEO                       object\n",
       "Zero_minutes             float64\n",
       "From_1_to_14_minutes     float64\n",
       "From_15_to_29_minutes    float64\n",
       "From_30_to_44_minutes    float64\n",
       "From_45_to_59_minutes    float64\n",
       "60_minutes_or_over       float64\n",
       "No_response              float64\n",
       "dtype: object"
      ]
     },
     "execution_count": 807,
     "metadata": {},
     "output_type": "execute_result"
    }
   ],
   "source": [
    "EU_TimeBucket_dataset.dtypes"
   ]
  },
  {
   "cell_type": "code",
   "execution_count": 808,
   "id": "bcc16b92",
   "metadata": {},
   "outputs": [
    {
     "data": {
      "text/plain": [
       "(32, 8)"
      ]
     },
     "execution_count": 808,
     "metadata": {},
     "output_type": "execute_result"
    }
   ],
   "source": [
    "EU_TimeBucket_dataset.shape"
   ]
  },
  {
   "cell_type": "code",
   "execution_count": 809,
   "id": "a8b9ade9",
   "metadata": {},
   "outputs": [
    {
     "data": {
      "text/html": [
       "<div>\n",
       "<style scoped>\n",
       "    .dataframe tbody tr th:only-of-type {\n",
       "        vertical-align: middle;\n",
       "    }\n",
       "\n",
       "    .dataframe tbody tr th {\n",
       "        vertical-align: top;\n",
       "    }\n",
       "\n",
       "    .dataframe thead th {\n",
       "        text-align: right;\n",
       "    }\n",
       "</style>\n",
       "<table border=\"1\" class=\"dataframe\">\n",
       "  <thead>\n",
       "    <tr style=\"text-align: right;\">\n",
       "      <th></th>\n",
       "      <th>Zero_minutes</th>\n",
       "      <th>From_1_to_14_minutes</th>\n",
       "      <th>From_15_to_29_minutes</th>\n",
       "      <th>From_30_to_44_minutes</th>\n",
       "      <th>From_45_to_59_minutes</th>\n",
       "      <th>60_minutes_or_over</th>\n",
       "      <th>No_response</th>\n",
       "    </tr>\n",
       "  </thead>\n",
       "  <tbody>\n",
       "    <tr>\n",
       "      <th>count</th>\n",
       "      <td>32.000000</td>\n",
       "      <td>32.000000</td>\n",
       "      <td>32.000000</td>\n",
       "      <td>32.000000</td>\n",
       "      <td>32.000000</td>\n",
       "      <td>32.000000</td>\n",
       "      <td>32.000000</td>\n",
       "    </tr>\n",
       "    <tr>\n",
       "      <th>mean</th>\n",
       "      <td>393.171875</td>\n",
       "      <td>2278.071875</td>\n",
       "      <td>2560.196875</td>\n",
       "      <td>1637.190625</td>\n",
       "      <td>483.250000</td>\n",
       "      <td>698.409375</td>\n",
       "      <td>302.421875</td>\n",
       "    </tr>\n",
       "    <tr>\n",
       "      <th>std</th>\n",
       "      <td>595.798981</td>\n",
       "      <td>3057.355322</td>\n",
       "      <td>3254.741175</td>\n",
       "      <td>2106.596053</td>\n",
       "      <td>664.157098</td>\n",
       "      <td>1016.178923</td>\n",
       "      <td>552.683339</td>\n",
       "    </tr>\n",
       "    <tr>\n",
       "      <th>min</th>\n",
       "      <td>5.400000</td>\n",
       "      <td>36.100000</td>\n",
       "      <td>48.100000</td>\n",
       "      <td>15.300000</td>\n",
       "      <td>0.000000</td>\n",
       "      <td>5.100000</td>\n",
       "      <td>0.000000</td>\n",
       "    </tr>\n",
       "    <tr>\n",
       "      <th>25%</th>\n",
       "      <td>74.800000</td>\n",
       "      <td>400.825000</td>\n",
       "      <td>577.850000</td>\n",
       "      <td>340.800000</td>\n",
       "      <td>84.750000</td>\n",
       "      <td>116.250000</td>\n",
       "      <td>9.150000</td>\n",
       "    </tr>\n",
       "    <tr>\n",
       "      <th>50%</th>\n",
       "      <td>156.450000</td>\n",
       "      <td>1008.150000</td>\n",
       "      <td>1278.500000</td>\n",
       "      <td>763.700000</td>\n",
       "      <td>208.500000</td>\n",
       "      <td>274.750000</td>\n",
       "      <td>64.450000</td>\n",
       "    </tr>\n",
       "    <tr>\n",
       "      <th>75%</th>\n",
       "      <td>386.600000</td>\n",
       "      <td>1947.450000</td>\n",
       "      <td>2698.125000</td>\n",
       "      <td>1686.250000</td>\n",
       "      <td>600.000000</td>\n",
       "      <td>601.075000</td>\n",
       "      <td>300.825000</td>\n",
       "    </tr>\n",
       "    <tr>\n",
       "      <th>max</th>\n",
       "      <td>2429.300000</td>\n",
       "      <td>10887.000000</td>\n",
       "      <td>12605.400000</td>\n",
       "      <td>7941.200000</td>\n",
       "      <td>2556.400000</td>\n",
       "      <td>4130.500000</td>\n",
       "      <td>2689.500000</td>\n",
       "    </tr>\n",
       "  </tbody>\n",
       "</table>\n",
       "</div>"
      ],
      "text/plain": [
       "       Zero_minutes  From_1_to_14_minutes  From_15_to_29_minutes  \\\n",
       "count     32.000000             32.000000              32.000000   \n",
       "mean     393.171875           2278.071875            2560.196875   \n",
       "std      595.798981           3057.355322            3254.741175   \n",
       "min        5.400000             36.100000              48.100000   \n",
       "25%       74.800000            400.825000             577.850000   \n",
       "50%      156.450000           1008.150000            1278.500000   \n",
       "75%      386.600000           1947.450000            2698.125000   \n",
       "max     2429.300000          10887.000000           12605.400000   \n",
       "\n",
       "       From_30_to_44_minutes  From_45_to_59_minutes  60_minutes_or_over  \\\n",
       "count              32.000000              32.000000           32.000000   \n",
       "mean             1637.190625             483.250000          698.409375   \n",
       "std              2106.596053             664.157098         1016.178923   \n",
       "min                15.300000               0.000000            5.100000   \n",
       "25%               340.800000              84.750000          116.250000   \n",
       "50%               763.700000             208.500000          274.750000   \n",
       "75%              1686.250000             600.000000          601.075000   \n",
       "max              7941.200000            2556.400000         4130.500000   \n",
       "\n",
       "       No_response  \n",
       "count    32.000000  \n",
       "mean    302.421875  \n",
       "std     552.683339  \n",
       "min       0.000000  \n",
       "25%       9.150000  \n",
       "50%      64.450000  \n",
       "75%     300.825000  \n",
       "max    2689.500000  "
      ]
     },
     "execution_count": 809,
     "metadata": {},
     "output_type": "execute_result"
    }
   ],
   "source": [
    "EU_TimeBucket_dataset.describe()"
   ]
  },
  {
   "cell_type": "code",
   "execution_count": 810,
   "id": "9667a33b",
   "metadata": {},
   "outputs": [
    {
     "data": {
      "text/plain": [
       "Broad Industrial Group     object\n",
       "Travelling Time            object\n",
       "Statistic Label            object\n",
       "VALUE                     float64\n",
       "dtype: object"
      ]
     },
     "execution_count": 810,
     "metadata": {},
     "output_type": "execute_result"
    }
   ],
   "source": [
    "IRE_dataset.dtypes"
   ]
  },
  {
   "cell_type": "code",
   "execution_count": 811,
   "id": "c59be864",
   "metadata": {},
   "outputs": [
    {
     "data": {
      "text/plain": [
       "(7, 4)"
      ]
     },
     "execution_count": 811,
     "metadata": {},
     "output_type": "execute_result"
    }
   ],
   "source": [
    "IRE_dataset.shape"
   ]
  },
  {
   "cell_type": "code",
   "execution_count": 812,
   "id": "22c47dcf",
   "metadata": {},
   "outputs": [
    {
     "data": {
      "text/html": [
       "<div>\n",
       "<style scoped>\n",
       "    .dataframe tbody tr th:only-of-type {\n",
       "        vertical-align: middle;\n",
       "    }\n",
       "\n",
       "    .dataframe tbody tr th {\n",
       "        vertical-align: top;\n",
       "    }\n",
       "\n",
       "    .dataframe thead th {\n",
       "        text-align: right;\n",
       "    }\n",
       "</style>\n",
       "<table border=\"1\" class=\"dataframe\">\n",
       "  <thead>\n",
       "    <tr style=\"text-align: right;\">\n",
       "      <th></th>\n",
       "      <th>VALUE</th>\n",
       "    </tr>\n",
       "  </thead>\n",
       "  <tbody>\n",
       "    <tr>\n",
       "      <th>count</th>\n",
       "      <td>7.000000</td>\n",
       "    </tr>\n",
       "    <tr>\n",
       "      <th>mean</th>\n",
       "      <td>267967.571429</td>\n",
       "    </tr>\n",
       "    <tr>\n",
       "      <th>std</th>\n",
       "      <td>187744.990752</td>\n",
       "    </tr>\n",
       "    <tr>\n",
       "      <th>min</th>\n",
       "      <td>52798.000000</td>\n",
       "    </tr>\n",
       "    <tr>\n",
       "      <th>25%</th>\n",
       "      <td>145237.500000</td>\n",
       "    </tr>\n",
       "    <tr>\n",
       "      <th>50%</th>\n",
       "      <td>155770.000000</td>\n",
       "    </tr>\n",
       "    <tr>\n",
       "      <th>75%</th>\n",
       "      <td>413236.500000</td>\n",
       "    </tr>\n",
       "    <tr>\n",
       "      <th>max</th>\n",
       "      <td>550257.000000</td>\n",
       "    </tr>\n",
       "  </tbody>\n",
       "</table>\n",
       "</div>"
      ],
      "text/plain": [
       "               VALUE\n",
       "count       7.000000\n",
       "mean   267967.571429\n",
       "std    187744.990752\n",
       "min     52798.000000\n",
       "25%    145237.500000\n",
       "50%    155770.000000\n",
       "75%    413236.500000\n",
       "max    550257.000000"
      ]
     },
     "execution_count": 812,
     "metadata": {},
     "output_type": "execute_result"
    }
   ],
   "source": [
    "IRE_dataset.describe()"
   ]
  },
  {
   "cell_type": "markdown",
   "id": "7b952b39",
   "metadata": {},
   "source": [
    "# Confidnece Interval"
   ]
  },
  {
   "cell_type": "code",
   "execution_count": 824,
   "id": "cf05a778",
   "metadata": {},
   "outputs": [
    {
     "data": {
      "text/plain": [
       "(26.412160625502725, 33.1395635124283)"
      ]
     },
     "execution_count": 824,
     "metadata": {},
     "output_type": "execute_result"
    }
   ],
   "source": [
    "#We create our confidence interval using Student's T at 90% confidence\n",
    "\n",
    "X = EU_dataset.iloc[:,3].values\n",
    "#EU_dataset_Short\n",
    "\n",
    "#X\n",
    "stats.t.interval(confidence=0.9, df=len(X)-1, loc= np.mean(X), scale = stats.sem(X))"
   ]
  },
  {
   "cell_type": "markdown",
   "id": "1f063f9e",
   "metadata": {},
   "source": [
    "\n",
    "At a 90% confidence level, this tells us based on the sample we can expect to see between 26 and 33 minute commutes on avergae for our sample."
   ]
  },
  {
   "cell_type": "markdown",
   "id": "37cfd3ae",
   "metadata": {},
   "source": [
    "# T-Test"
   ]
  },
  {
   "cell_type": "code",
   "execution_count": null,
   "id": "449931c6",
   "metadata": {},
   "outputs": [],
   "source": [
    "TotalAverageCommute = IRE_dataset.loc[IRE_dataset['Broad Industrial Group'] =='Total at work']\n",
    "TotalAverageCommute.head()"
   ]
  },
  {
   "cell_type": "code",
   "execution_count": null,
   "id": "1ce065f1",
   "metadata": {},
   "outputs": [],
   "source": [
    "TotalAverageCommute = TotalAverageCommute[TotalAverageCommute['Travelling Time'].isin(['< ¼ hour', '¼ hour - < ½ hour', '½ hour - < ¾ hour', '¾ hour - < 1 hour','1 hour - < 1½ hours','1½ hours and over','Not stated'])]\n",
    "TotalAverageCommute.head()"
   ]
  },
  {
   "cell_type": "code",
   "execution_count": null,
   "id": "162f5116",
   "metadata": {},
   "outputs": [],
   "source": [
    "TotalAverageCommute = TotalAverageCommute.loc[TotalAverageCommute['Statistic Label'] =='Persons at work 2016']\n",
    "TotalAverageCommute"
   ]
  },
  {
   "cell_type": "code",
   "execution_count": null,
   "id": "2fc2b8df",
   "metadata": {},
   "outputs": [],
   "source": [
    "def Time_Convert_Max(row):\n",
    "    if row['Travelling Time'] == '< ¼ hour':\n",
    "        val = 15\n",
    "    elif row['Travelling Time'] == '¼ hour - < ½ hour':\n",
    "        val = 30\n",
    "    elif row['Travelling Time'] == '½ hour - < ¾ hour':\n",
    "        val = 45\n",
    "    elif row['Travelling Time'] == '¾ hour - < 1 hour':\n",
    "        val = 60\n",
    "    elif row['Travelling Time'] == '1 hour - < 1½ hours':\n",
    "        val = 90\n",
    "    elif row['Travelling Time'] == '1½ hours and over':\n",
    "        val = 90\n",
    "    elif row['Travelling Time'] == 'Not stated':\n",
    "        val = 0\n",
    "    else:\n",
    "        val = 0\n",
    "    return val"
   ]
  },
  {
   "cell_type": "code",
   "execution_count": null,
   "id": "710c1e5a",
   "metadata": {},
   "outputs": [],
   "source": [
    "In [1]: TotalAverageCommute['Time_Max'] = TotalAverageCommute.apply(Time_Convert_Max, axis=1)\n",
    "TotalAverageCommute"
   ]
  },
  {
   "cell_type": "code",
   "execution_count": null,
   "id": "4889224c",
   "metadata": {},
   "outputs": [],
   "source": [
    "def Time_Convert_Min(row):\n",
    "    if row['Travelling Time'] == '< ¼ hour':\n",
    "        val = 1\n",
    "    elif row['Travelling Time'] == '¼ hour - < ½ hour':\n",
    "        val = 15\n",
    "    elif row['Travelling Time'] == '½ hour - < ¾ hour':\n",
    "        val = 30\n",
    "    elif row['Travelling Time'] == '¾ hour - < 1 hour':\n",
    "        val = 45\n",
    "    elif row['Travelling Time'] == '1 hour - < 1½ hours':\n",
    "        val = 60\n",
    "    elif row['Travelling Time'] == '1½ hours and over':\n",
    "        val = 90\n",
    "    elif row['Travelling Time'] == 'Not stated':\n",
    "        val = 0\n",
    "    else:\n",
    "        val = 0\n",
    "    return val"
   ]
  },
  {
   "cell_type": "code",
   "execution_count": null,
   "id": "d8a39f5e",
   "metadata": {},
   "outputs": [],
   "source": [
    "In [1]: TotalAverageCommute['Time_Min'] = TotalAverageCommute.apply(Time_Convert_Min, axis=1)\n",
    "TotalAverageCommute"
   ]
  },
  {
   "cell_type": "code",
   "execution_count": null,
   "id": "8f8ce162",
   "metadata": {},
   "outputs": [],
   "source": [
    "TotalAverageCommute['Time_Avg'] = (TotalAverageCommute['Time_Min'] + TotalAverageCommute['Time_Max']) / 2\n",
    "TotalAverageCommute"
   ]
  },
  {
   "cell_type": "code",
   "execution_count": null,
   "id": "392883f6",
   "metadata": {},
   "outputs": [],
   "source": [
    "TotalAverageCommute['Time_Weighted'] = TotalAverageCommute['Time_Avg'] * TotalAverageCommute['VALUE']\n",
    "TotalAverageCommute"
   ]
  },
  {
   "cell_type": "code",
   "execution_count": null,
   "id": "164f6441",
   "metadata": {},
   "outputs": [],
   "source": [
    "WeightedSum = TotalAverageCommute ['Time_Weighted'].sum () \n",
    "WeightedSum"
   ]
  },
  {
   "cell_type": "code",
   "execution_count": null,
   "id": "6f032a99",
   "metadata": {},
   "outputs": [],
   "source": [
    "PopSum = TotalAverageCommute ['VALUE'].sum () \n",
    "PopSum"
   ]
  },
  {
   "cell_type": "code",
   "execution_count": null,
   "id": "0782f68e",
   "metadata": {},
   "outputs": [],
   "source": [
    "Avg_Irish_Commute = WeightedSum/PopSum\n",
    "Avg_Irish_Commute"
   ]
  },
  {
   "cell_type": "code",
   "execution_count": null,
   "id": "d24ad60d",
   "metadata": {},
   "outputs": [],
   "source": [
    "#Avg_EU_Commute = 25"
   ]
  },
  {
   "cell_type": "code",
   "execution_count": null,
   "id": "2024d7aa",
   "metadata": {},
   "outputs": [],
   "source": [
    "#H0: x̄/mu = Irish time is same as EU Average of 25 mins\n",
    "#H1: x̄/mu different than EU Average of 25 mins"
   ]
  },
  {
   "cell_type": "code",
   "execution_count": null,
   "id": "42329d5a",
   "metadata": {},
   "outputs": [],
   "source": [
    "X = EU_dataset['Both_Sexes']"
   ]
  },
  {
   "cell_type": "code",
   "execution_count": null,
   "id": "8e20aedd",
   "metadata": {},
   "outputs": [],
   "source": [
    "mu = Avg_Irish_Commute"
   ]
  },
  {
   "cell_type": "markdown",
   "id": "b1478449",
   "metadata": {},
   "source": [
    "# Normal (Z TEST)"
   ]
  },
  {
   "cell_type": "code",
   "execution_count": null,
   "id": "ea036e94",
   "metadata": {},
   "outputs": [],
   "source": [
    "#We compute z and p-value\n",
    "\n",
    "z_score, p_value = weightstats.ztest(X, value = mu, ddof = 1, alternative = 'two-sided')\n",
    "\n",
    "z_score"
   ]
  },
  {
   "cell_type": "code",
   "execution_count": null,
   "id": "3a4da8b3",
   "metadata": {},
   "outputs": [],
   "source": [
    "p_value"
   ]
  },
  {
   "cell_type": "markdown",
   "id": "2978caca",
   "metadata": {},
   "source": [
    "In this case, we accept H0, then we have evidence to say that Ireland's average commute times are similar to those in the EU."
   ]
  },
  {
   "cell_type": "markdown",
   "id": "ff0e2bad",
   "metadata": {},
   "source": [
    "# T- TEST"
   ]
  },
  {
   "cell_type": "code",
   "execution_count": null,
   "id": "02748588",
   "metadata": {},
   "outputs": [],
   "source": [
    "stats.ttest_1samp(X,25)\n",
    "\n",
    "t_stat, p_value = stats.ttest_1samp(X, mu)\n",
    "print(\"T-statistic:\", t_stat)\n",
    "print(\"P-value:\", p_value)"
   ]
  },
  {
   "cell_type": "code",
   "execution_count": null,
   "id": "d0cc5bf2",
   "metadata": {},
   "outputs": [],
   "source": [
    "#Shapiro test No_response\n",
    "\n",
    "stats.shapiro(transposed_EU_TimeBucket_dataset.VALUE[transposed_EU_TimeBucket_dataset.Time_Bucket==\"No_response\"])"
   ]
  },
  {
   "cell_type": "markdown",
   "id": "92de6d4a",
   "metadata": {},
   "source": [
    "# ANOVA 2-Tailed"
   ]
  },
  {
   "cell_type": "code",
   "execution_count": null,
   "id": "7cc40326",
   "metadata": {},
   "outputs": [],
   "source": [
    "#QQ-plot\n",
    "\n",
    "stats.probplot(EU_TimeBucket_dataset.From_15_to_29_minutes, plot = plt)\n",
    "plt.figure()"
   ]
  },
  {
   "cell_type": "code",
   "execution_count": null,
   "id": "834b1333",
   "metadata": {},
   "outputs": [],
   "source": [
    "transposed_EU_TimeBucket_dataset = pd.melt(EU_TimeBucket_dataset, id_vars=['GEO'], var_name='Time_Bucket', value_name='VALUE')"
   ]
  },
  {
   "cell_type": "code",
   "execution_count": null,
   "id": "2964fd58",
   "metadata": {},
   "outputs": [],
   "source": [
    "transposed_EU_TimeBucket_dataset"
   ]
  },
  {
   "cell_type": "markdown",
   "id": "bb01c3de",
   "metadata": {},
   "source": [
    "Now we will perform a Shapiro Wilk test\n",
    "H0: data comes from a normal distribution // H1: data does not come from a normal distribution"
   ]
  },
  {
   "cell_type": "code",
   "execution_count": null,
   "id": "6e9a9bb9",
   "metadata": {},
   "outputs": [],
   "source": [
    "#Shapiro test Zero_minutes\n",
    "stats.shapiro(transposed_EU_TimeBucket_dataset.VALUE[transposed_EU_TimeBucket_dataset.Time_Bucket==\"Zero_minutes\"])"
   ]
  },
  {
   "cell_type": "code",
   "execution_count": null,
   "id": "fd487e0e",
   "metadata": {},
   "outputs": [],
   "source": [
    "#Shapiro test From_1_to_14_minutes\n",
    "\n",
    "stats.shapiro(transposed_EU_TimeBucket_dataset.VALUE[transposed_EU_TimeBucket_dataset.Time_Bucket==\"From_1_to_14_minutes\"])"
   ]
  },
  {
   "cell_type": "code",
   "execution_count": null,
   "id": "d14eae6d",
   "metadata": {},
   "outputs": [],
   "source": [
    "#Shapiro test From_15_to_29_minutes\n",
    "\n",
    "stats.shapiro(transposed_EU_TimeBucket_dataset.VALUE[transposed_EU_TimeBucket_dataset.Time_Bucket==\"From_15_to_29_minutes\"])"
   ]
  },
  {
   "cell_type": "code",
   "execution_count": null,
   "id": "ba8b6ad6",
   "metadata": {},
   "outputs": [],
   "source": [
    "#Shapiro test From_30_to_44_minutes\n",
    "\n",
    "stats.shapiro(transposed_EU_TimeBucket_dataset.VALUE[transposed_EU_TimeBucket_dataset.Time_Bucket==\"From_30_to_44_minutes\"])"
   ]
  },
  {
   "cell_type": "code",
   "execution_count": null,
   "id": "ba9d86e8",
   "metadata": {},
   "outputs": [],
   "source": [
    "#Shapiro test From_45_to_59_minutes\n",
    "\n",
    "stats.shapiro(transposed_EU_TimeBucket_dataset.VALUE[transposed_EU_TimeBucket_dataset.Time_Bucket==\"From_45_to_59_minutes\"])"
   ]
  },
  {
   "cell_type": "code",
   "execution_count": null,
   "id": "e49d3205",
   "metadata": {},
   "outputs": [],
   "source": [
    "#Shapiro test 60_minutes_or_over\n",
    "\n",
    "stats.shapiro(transposed_EU_TimeBucket_dataset.VALUE[transposed_EU_TimeBucket_dataset.Time_Bucket==\"60_minutes_or_over\"])"
   ]
  },
  {
   "cell_type": "code",
   "execution_count": null,
   "id": "4547ccdd",
   "metadata": {},
   "outputs": [],
   "source": [
    "#Shapiro test No_response\n",
    "\n",
    "stats.shapiro(transposed_EU_TimeBucket_dataset.VALUE[transposed_EU_TimeBucket_dataset.Time_Bucket==\"No_response\"])"
   ]
  },
  {
   "cell_type": "markdown",
   "id": "9b7dc675",
   "metadata": {},
   "source": [
    "Many of the groups are not normally distributed"
   ]
  },
  {
   "cell_type": "markdown",
   "id": "ff870030",
   "metadata": {},
   "source": [
    "Now we will check if we can assume equality of the variances"
   ]
  },
  {
   "cell_type": "code",
   "execution_count": null,
   "id": "8b919e1b",
   "metadata": {},
   "outputs": [],
   "source": [
    "#we create the objects per time bucket\n",
    "Zero_minutes = transposed_EU_TimeBucket_dataset.VALUE[transposed_EU_TimeBucket_dataset.Time_Bucket==\"Zero_minutes\"]\n",
    "From_1_to_14_minutes = transposed_EU_TimeBucket_dataset.VALUE[transposed_EU_TimeBucket_dataset.Time_Bucket==\"From_1_to_14_minutes\"]\n",
    "From_15_to_29_minutes = transposed_EU_TimeBucket_dataset.VALUE[transposed_EU_TimeBucket_dataset.Time_Bucket==\"From_15_to_29_minutes\"]\n",
    "From_30_to_44_minutes = transposed_EU_TimeBucket_dataset.VALUE[transposed_EU_TimeBucket_dataset.Time_Bucket==\"From_30_to_44_minutes\"]\n",
    "From_45_to_59_minutes = transposed_EU_TimeBucket_dataset.VALUE[transposed_EU_TimeBucket_dataset.Time_Bucket==\"From_45_to_59_minutes\"]\n",
    "_60_minutes_or_over = transposed_EU_TimeBucket_dataset.VALUE[transposed_EU_TimeBucket_dataset.Time_Bucket==\"60_minutes_or_over\"]\n",
    "No_response = transposed_EU_TimeBucket_dataset.VALUE[transposed_EU_TimeBucket_dataset.Time_Bucket==\"No_response\"]"
   ]
  },
  {
   "cell_type": "code",
   "execution_count": null,
   "id": "88344579",
   "metadata": {},
   "outputs": [],
   "source": [
    "#Homogeinity of the variances --> Levene test\n",
    "\n",
    "#H0: the variances are equal\n",
    "#H1: the variances are not equal\n",
    "\n",
    "levene(Zero_minutes,From_1_to_14_minutes,From_15_to_29_minutes,From_30_to_44_minutes,From_45_to_59_minutes,_60_minutes_or_over,No_response,center = 'mean')"
   ]
  },
  {
   "cell_type": "markdown",
   "id": "5bfeaa54",
   "metadata": {},
   "source": [
    "#ANOVA 2-Tailed\n",
    "#H0 = means are equal\n",
    "#H1 = at least one mean is different"
   ]
  },
  {
   "cell_type": "code",
   "execution_count": null,
   "id": "7c24f3a9",
   "metadata": {},
   "outputs": [],
   "source": [
    "model = ols('VALUE~GEO+Time_Bucket', data=transposed_EU_TimeBucket_dataset).fit()\n",
    "aov = sm.stats.anova_lm(model, type = 2)\n",
    "print(aov)"
   ]
  },
  {
   "cell_type": "markdown",
   "id": "929d56e5",
   "metadata": {},
   "source": [
    "We reject the null hypothesis That there's no differences between commute times across the EU countires and the time blocks"
   ]
  },
  {
   "cell_type": "markdown",
   "id": "d6182c89",
   "metadata": {},
   "source": [
    "Due to the issues with the data from the above tests we cannot use parametric tests and instead must use non-parametric tests to describe characteristics of the data."
   ]
  },
  {
   "cell_type": "markdown",
   "id": "3d9d3492",
   "metadata": {},
   "source": [
    "# Anova 1-Way"
   ]
  },
  {
   "cell_type": "code",
   "execution_count": null,
   "id": "44f38a58",
   "metadata": {},
   "outputs": [],
   "source": [
    "#H0 : mu east = mu south = mu north\n",
    "#H1 : there are at least 2 mu that are different oen to another one\n",
    "\n",
    "#We work with ANOVA One Way --> We analyse the charges based on  (region)\n",
    "\n",
    "model1Way = ols('VALUE~GEO', data=transposed_EU_TimeBucket_dataset).fit()\n",
    "aov1Way = sm.stats.anova_lm(model1Way, type = 2)\n",
    "print(aov1Way)"
   ]
  },
  {
   "cell_type": "markdown",
   "id": "b7939e70",
   "metadata": {},
   "source": [
    "We reject the null hypothesis That there's no differences between commute times across the EU."
   ]
  },
  {
   "cell_type": "markdown",
   "id": "65bc4c55",
   "metadata": {},
   "source": [
    "# Kruskal-Wallis Test"
   ]
  },
  {
   "cell_type": "code",
   "execution_count": null,
   "id": "183e59e9",
   "metadata": {},
   "outputs": [],
   "source": [
    "#Step 1: Hypothesis\n",
    "\n",
    "#H0: there is no difference in the Commute Times for Men and Women in EU Countries\n",
    "#H1: there is at least one country that presents a different commute time\n",
    "\n",
    "#Step 2: we create the variables\n",
    "\n",
    "Male = EU_dataset['Male']\n",
    "Female = EU_dataset['Female']\n",
    "Both_Sexes = EU_dataset['Both_Sexes']"
   ]
  },
  {
   "cell_type": "code",
   "execution_count": null,
   "id": "72bb0caf",
   "metadata": {},
   "outputs": [],
   "source": [
    "stat, p = kruskal(Male, Female, Both_Sexes)\n",
    "\n",
    "print('Statistical Test:', stat)\n",
    "print(\"p-value:\", p)"
   ]
  },
  {
   "cell_type": "markdown",
   "id": "3577f503",
   "metadata": {},
   "source": [
    "we reject the H0\n",
    "Interpretation: at a 5% significance level we have no evidence to indicate that the commute times are the same in the EU Countries"
   ]
  },
  {
   "cell_type": "code",
   "execution_count": null,
   "id": "ed8055b3",
   "metadata": {},
   "outputs": [],
   "source": []
  }
 ],
 "metadata": {
  "kernelspec": {
   "display_name": "Python 3 (ipykernel)",
   "language": "python",
   "name": "python3"
  },
  "language_info": {
   "codemirror_mode": {
    "name": "ipython",
    "version": 3
   },
   "file_extension": ".py",
   "mimetype": "text/x-python",
   "name": "python",
   "nbconvert_exporter": "python",
   "pygments_lexer": "ipython3",
   "version": "3.11.5"
  }
 },
 "nbformat": 4,
 "nbformat_minor": 5
}
